{
  "cells": [
    {
      "cell_type": "markdown",
      "metadata": {
        "id": "FhGuhbZ6M5tl"
      },
      "source": [
        "##### Copyright 2018 The TensorFlow Authors."
      ]
    },
    {
      "cell_type": "code",
      "execution_count": null,
      "metadata": {
        "cellView": "form",
        "id": "AwOEIRJC6Une"
      },
      "outputs": [],
      "source": [
        "#@title Licensed under the Apache License, Version 2.0 (the \"License\");\n",
        "# you may not use this file except in compliance with the License.\n",
        "# You may obtain a copy of the License at\n",
        "#\n",
        "# https://www.apache.org/licenses/LICENSE-2.0\n",
        "#\n",
        "# Unless required by applicable law or agreed to in writing, software\n",
        "# distributed under the License is distributed on an \"AS IS\" BASIS,\n",
        "# WITHOUT WARRANTIES OR CONDITIONS OF ANY KIND, either express or implied.\n",
        "# See the License for the specific language governing permissions and\n",
        "# limitations under the License."
      ]
    },
    {
      "cell_type": "code",
      "execution_count": null,
      "metadata": {
        "cellView": "form",
        "id": "KyPEtTqk6VdG"
      },
      "outputs": [],
      "source": [
        "#@title MIT License\n",
        "#\n",
        "# Copyright (c) 2017 François Chollet\n",
        "#\n",
        "# Permission is hereby granted, free of charge, to any person obtaining a\n",
        "# copy of this software and associated documentation files (the \"Software\"),\n",
        "# to deal in the Software without restriction, including without limitation\n",
        "# the rights to use, copy, modify, merge, publish, distribute, sublicense,\n",
        "# and/or sell copies of the Software, and to permit persons to whom the\n",
        "# Software is furnished to do so, subject to the following conditions:\n",
        "#\n",
        "# The above copyright notice and this permission notice shall be included in\n",
        "# all copies or substantial portions of the Software.\n",
        "#\n",
        "# THE SOFTWARE IS PROVIDED \"AS IS\", WITHOUT WARRANTY OF ANY KIND, EXPRESS OR\n",
        "# IMPLIED, INCLUDING BUT NOT LIMITED TO THE WARRANTIES OF MERCHANTABILITY,\n",
        "# FITNESS FOR A PARTICULAR PURPOSE AND NONINFRINGEMENT. IN NO EVENT SHALL\n",
        "# THE AUTHORS OR COPYRIGHT HOLDERS BE LIABLE FOR ANY CLAIM, DAMAGES OR OTHER\n",
        "# LIABILITY, WHETHER IN AN ACTION OF CONTRACT, TORT OR OTHERWISE, ARISING\n",
        "# FROM, OUT OF OR IN CONNECTION WITH THE SOFTWARE OR THE USE OR OTHER\n",
        "# DEALINGS IN THE SOFTWARE."
      ]
    },
    {
      "cell_type": "markdown",
      "metadata": {
        "id": "EIdT9iu_Z4Rb"
      },
      "source": [
        "# Basic regression: Predict fuel efficiency"
      ]
    },
    {
      "cell_type": "markdown",
      "metadata": {
        "id": "bBIlTPscrIT9"
      },
      "source": [
        "<table class=\"tfo-notebook-buttons\" align=\"left\">\n",
        "  <td>\n",
        "    <a target=\"_blank\" href=\"https://www.tensorflow.org/tutorials/keras/regression\"><img src=\"https://www.tensorflow.org/images/tf_logo_32px.png\" />View on TensorFlow.org</a>\n",
        "  </td>\n",
        "  <td>\n",
        "    <a target=\"_blank\" href=\"https://colab.research.google.com/github/tensorflow/docs/blob/master/site/en/tutorials/keras/regression.ipynb\"><img src=\"https://www.tensorflow.org/images/colab_logo_32px.png\" />Run in Google Colab</a>\n",
        "  </td>\n",
        "  <td>\n",
        "    <a target=\"_blank\" href=\"https://github.com/tensorflow/docs/blob/master/site/en/tutorials/keras/regression.ipynb\"><img src=\"https://www.tensorflow.org/images/GitHub-Mark-32px.png\" />View source on GitHub</a>\n",
        "  </td>\n",
        "  <td>\n",
        "    <a href=\"https://storage.googleapis.com/tensorflow_docs/docs/site/en/tutorials/keras/regression.ipynb\"><img src=\"https://www.tensorflow.org/images/download_logo_32px.png\" />Download notebook</a>\n",
        "  </td>\n",
        "</table>"
      ]
    },
    {
      "cell_type": "markdown",
      "metadata": {
        "id": "AHp3M9ZmrIxj"
      },
      "source": [
        "In a *regression* problem, the aim is to predict the output of a continuous value, like a price or a probability. Contrast this with a *classification* problem, where the aim is to select a class from a list of classes (for example, where a picture contains an apple or an orange, recognizing which fruit is in the picture).\n",
        "\n",
        "This tutorial uses the classic [Auto MPG](https://archive.ics.uci.edu/ml/datasets/auto+mpg) dataset and demonstrates how to build models to predict the fuel efficiency of the late-1970s and early 1980s automobiles. To do this, you will provide the models with a description of many automobiles from that time period. This description includes attributes like cylinders, displacement, horsepower, and weight.\n",
        "\n",
        "This example uses the Keras API. (Visit the Keras [tutorials](https://www.tensorflow.org/tutorials/keras) and [guides](https://www.tensorflow.org/guide/keras) to learn more.)"
      ]
    },
    {
      "cell_type": "code",
      "execution_count": 1,
      "metadata": {
        "id": "moB4tpEHxKB3"
      },
      "outputs": [],
      "source": [
        "# Use seaborn for pairplot.\n",
        "!pip install -q seaborn"
      ]
    },
    {
      "cell_type": "code",
      "execution_count": 2,
      "metadata": {
        "id": "1rRo8oNqZ-Rj"
      },
      "outputs": [],
      "source": [
        "import matplotlib.pyplot as plt\n",
        "import numpy as np\n",
        "import pandas as pd\n",
        "import seaborn as sns\n",
        "\n",
        "# Make NumPy printouts easier to read.\n",
        "np.set_printoptions(precision=3, suppress=True)"
      ]
    },
    {
      "cell_type": "code",
      "execution_count": 3,
      "metadata": {
        "id": "9xQKvCJ85kCQ",
        "outputId": "641fa5d2-eb73-420a-c55c-38a45ae688f6",
        "colab": {
          "base_uri": "https://localhost:8080/"
        }
      },
      "outputs": [
        {
          "output_type": "stream",
          "name": "stdout",
          "text": [
            "2.15.0\n"
          ]
        }
      ],
      "source": [
        "import tensorflow as tf\n",
        "\n",
        "from tensorflow import keras\n",
        "from tensorflow.keras import layers\n",
        "\n",
        "print(tf.__version__)"
      ]
    },
    {
      "cell_type": "markdown",
      "metadata": {
        "id": "F_72b0LCNbjx"
      },
      "source": [
        "## The Auto MPG dataset\n",
        "\n",
        "The dataset is available from the [UCI Machine Learning Repository](https://archive.ics.uci.edu/ml/).\n"
      ]
    },
    {
      "cell_type": "markdown",
      "metadata": {
        "id": "gFh9ne3FZ-On"
      },
      "source": [
        "### Get the data\n",
        "First download and import the dataset using pandas:"
      ]
    },
    {
      "cell_type": "code",
      "execution_count": 4,
      "metadata": {
        "id": "CiX2FI4gZtTt"
      },
      "outputs": [],
      "source": [
        "url = 'http://archive.ics.uci.edu/ml/machine-learning-databases/auto-mpg/auto-mpg.data'\n",
        "column_names = ['MPG', 'Cylinders', 'Displacement', 'Horsepower', 'Weight',\n",
        "                'Acceleration', 'Model Year', 'Origin']\n",
        "\n",
        "raw_dataset = pd.read_csv(url, names=column_names,\n",
        "                          na_values='?', comment='\\t',\n",
        "                          sep=' ', skipinitialspace=True)"
      ]
    },
    {
      "cell_type": "code",
      "execution_count": 5,
      "metadata": {
        "id": "2oY3pMPagJrO",
        "outputId": "646a4ce1-b8ea-49b5-f599-a4fc2292c820",
        "colab": {
          "base_uri": "https://localhost:8080/",
          "height": 243
        }
      },
      "outputs": [
        {
          "output_type": "execute_result",
          "data": {
            "text/plain": [
              "      MPG  Cylinders  Displacement  Horsepower  Weight  Acceleration  \\\n",
              "393  27.0          4         140.0        86.0  2790.0          15.6   \n",
              "394  44.0          4          97.0        52.0  2130.0          24.6   \n",
              "395  32.0          4         135.0        84.0  2295.0          11.6   \n",
              "396  28.0          4         120.0        79.0  2625.0          18.6   \n",
              "397  31.0          4         119.0        82.0  2720.0          19.4   \n",
              "\n",
              "     Model Year  Origin  \n",
              "393          82       1  \n",
              "394          82       2  \n",
              "395          82       1  \n",
              "396          82       1  \n",
              "397          82       1  "
            ],
            "text/html": [
              "\n",
              "  <div id=\"df-53e2f97d-4252-41ee-960b-aadd522fcbf6\" class=\"colab-df-container\">\n",
              "    <div>\n",
              "<style scoped>\n",
              "    .dataframe tbody tr th:only-of-type {\n",
              "        vertical-align: middle;\n",
              "    }\n",
              "\n",
              "    .dataframe tbody tr th {\n",
              "        vertical-align: top;\n",
              "    }\n",
              "\n",
              "    .dataframe thead th {\n",
              "        text-align: right;\n",
              "    }\n",
              "</style>\n",
              "<table border=\"1\" class=\"dataframe\">\n",
              "  <thead>\n",
              "    <tr style=\"text-align: right;\">\n",
              "      <th></th>\n",
              "      <th>MPG</th>\n",
              "      <th>Cylinders</th>\n",
              "      <th>Displacement</th>\n",
              "      <th>Horsepower</th>\n",
              "      <th>Weight</th>\n",
              "      <th>Acceleration</th>\n",
              "      <th>Model Year</th>\n",
              "      <th>Origin</th>\n",
              "    </tr>\n",
              "  </thead>\n",
              "  <tbody>\n",
              "    <tr>\n",
              "      <th>393</th>\n",
              "      <td>27.0</td>\n",
              "      <td>4</td>\n",
              "      <td>140.0</td>\n",
              "      <td>86.0</td>\n",
              "      <td>2790.0</td>\n",
              "      <td>15.6</td>\n",
              "      <td>82</td>\n",
              "      <td>1</td>\n",
              "    </tr>\n",
              "    <tr>\n",
              "      <th>394</th>\n",
              "      <td>44.0</td>\n",
              "      <td>4</td>\n",
              "      <td>97.0</td>\n",
              "      <td>52.0</td>\n",
              "      <td>2130.0</td>\n",
              "      <td>24.6</td>\n",
              "      <td>82</td>\n",
              "      <td>2</td>\n",
              "    </tr>\n",
              "    <tr>\n",
              "      <th>395</th>\n",
              "      <td>32.0</td>\n",
              "      <td>4</td>\n",
              "      <td>135.0</td>\n",
              "      <td>84.0</td>\n",
              "      <td>2295.0</td>\n",
              "      <td>11.6</td>\n",
              "      <td>82</td>\n",
              "      <td>1</td>\n",
              "    </tr>\n",
              "    <tr>\n",
              "      <th>396</th>\n",
              "      <td>28.0</td>\n",
              "      <td>4</td>\n",
              "      <td>120.0</td>\n",
              "      <td>79.0</td>\n",
              "      <td>2625.0</td>\n",
              "      <td>18.6</td>\n",
              "      <td>82</td>\n",
              "      <td>1</td>\n",
              "    </tr>\n",
              "    <tr>\n",
              "      <th>397</th>\n",
              "      <td>31.0</td>\n",
              "      <td>4</td>\n",
              "      <td>119.0</td>\n",
              "      <td>82.0</td>\n",
              "      <td>2720.0</td>\n",
              "      <td>19.4</td>\n",
              "      <td>82</td>\n",
              "      <td>1</td>\n",
              "    </tr>\n",
              "  </tbody>\n",
              "</table>\n",
              "</div>\n",
              "    <div class=\"colab-df-buttons\">\n",
              "\n",
              "  <div class=\"colab-df-container\">\n",
              "    <button class=\"colab-df-convert\" onclick=\"convertToInteractive('df-53e2f97d-4252-41ee-960b-aadd522fcbf6')\"\n",
              "            title=\"Convert this dataframe to an interactive table.\"\n",
              "            style=\"display:none;\">\n",
              "\n",
              "  <svg xmlns=\"http://www.w3.org/2000/svg\" height=\"24px\" viewBox=\"0 -960 960 960\">\n",
              "    <path d=\"M120-120v-720h720v720H120Zm60-500h600v-160H180v160Zm220 220h160v-160H400v160Zm0 220h160v-160H400v160ZM180-400h160v-160H180v160Zm440 0h160v-160H620v160ZM180-180h160v-160H180v160Zm440 0h160v-160H620v160Z\"/>\n",
              "  </svg>\n",
              "    </button>\n",
              "\n",
              "  <style>\n",
              "    .colab-df-container {\n",
              "      display:flex;\n",
              "      gap: 12px;\n",
              "    }\n",
              "\n",
              "    .colab-df-convert {\n",
              "      background-color: #E8F0FE;\n",
              "      border: none;\n",
              "      border-radius: 50%;\n",
              "      cursor: pointer;\n",
              "      display: none;\n",
              "      fill: #1967D2;\n",
              "      height: 32px;\n",
              "      padding: 0 0 0 0;\n",
              "      width: 32px;\n",
              "    }\n",
              "\n",
              "    .colab-df-convert:hover {\n",
              "      background-color: #E2EBFA;\n",
              "      box-shadow: 0px 1px 2px rgba(60, 64, 67, 0.3), 0px 1px 3px 1px rgba(60, 64, 67, 0.15);\n",
              "      fill: #174EA6;\n",
              "    }\n",
              "\n",
              "    .colab-df-buttons div {\n",
              "      margin-bottom: 4px;\n",
              "    }\n",
              "\n",
              "    [theme=dark] .colab-df-convert {\n",
              "      background-color: #3B4455;\n",
              "      fill: #D2E3FC;\n",
              "    }\n",
              "\n",
              "    [theme=dark] .colab-df-convert:hover {\n",
              "      background-color: #434B5C;\n",
              "      box-shadow: 0px 1px 3px 1px rgba(0, 0, 0, 0.15);\n",
              "      filter: drop-shadow(0px 1px 2px rgba(0, 0, 0, 0.3));\n",
              "      fill: #FFFFFF;\n",
              "    }\n",
              "  </style>\n",
              "\n",
              "    <script>\n",
              "      const buttonEl =\n",
              "        document.querySelector('#df-53e2f97d-4252-41ee-960b-aadd522fcbf6 button.colab-df-convert');\n",
              "      buttonEl.style.display =\n",
              "        google.colab.kernel.accessAllowed ? 'block' : 'none';\n",
              "\n",
              "      async function convertToInteractive(key) {\n",
              "        const element = document.querySelector('#df-53e2f97d-4252-41ee-960b-aadd522fcbf6');\n",
              "        const dataTable =\n",
              "          await google.colab.kernel.invokeFunction('convertToInteractive',\n",
              "                                                    [key], {});\n",
              "        if (!dataTable) return;\n",
              "\n",
              "        const docLinkHtml = 'Like what you see? Visit the ' +\n",
              "          '<a target=\"_blank\" href=https://colab.research.google.com/notebooks/data_table.ipynb>data table notebook</a>'\n",
              "          + ' to learn more about interactive tables.';\n",
              "        element.innerHTML = '';\n",
              "        dataTable['output_type'] = 'display_data';\n",
              "        await google.colab.output.renderOutput(dataTable, element);\n",
              "        const docLink = document.createElement('div');\n",
              "        docLink.innerHTML = docLinkHtml;\n",
              "        element.appendChild(docLink);\n",
              "      }\n",
              "    </script>\n",
              "  </div>\n",
              "\n",
              "\n",
              "<div id=\"df-6d892adc-154d-46e8-9322-5c2a38a038da\">\n",
              "  <button class=\"colab-df-quickchart\" onclick=\"quickchart('df-6d892adc-154d-46e8-9322-5c2a38a038da')\"\n",
              "            title=\"Suggest charts\"\n",
              "            style=\"display:none;\">\n",
              "\n",
              "<svg xmlns=\"http://www.w3.org/2000/svg\" height=\"24px\"viewBox=\"0 0 24 24\"\n",
              "     width=\"24px\">\n",
              "    <g>\n",
              "        <path d=\"M19 3H5c-1.1 0-2 .9-2 2v14c0 1.1.9 2 2 2h14c1.1 0 2-.9 2-2V5c0-1.1-.9-2-2-2zM9 17H7v-7h2v7zm4 0h-2V7h2v10zm4 0h-2v-4h2v4z\"/>\n",
              "    </g>\n",
              "</svg>\n",
              "  </button>\n",
              "\n",
              "<style>\n",
              "  .colab-df-quickchart {\n",
              "      --bg-color: #E8F0FE;\n",
              "      --fill-color: #1967D2;\n",
              "      --hover-bg-color: #E2EBFA;\n",
              "      --hover-fill-color: #174EA6;\n",
              "      --disabled-fill-color: #AAA;\n",
              "      --disabled-bg-color: #DDD;\n",
              "  }\n",
              "\n",
              "  [theme=dark] .colab-df-quickchart {\n",
              "      --bg-color: #3B4455;\n",
              "      --fill-color: #D2E3FC;\n",
              "      --hover-bg-color: #434B5C;\n",
              "      --hover-fill-color: #FFFFFF;\n",
              "      --disabled-bg-color: #3B4455;\n",
              "      --disabled-fill-color: #666;\n",
              "  }\n",
              "\n",
              "  .colab-df-quickchart {\n",
              "    background-color: var(--bg-color);\n",
              "    border: none;\n",
              "    border-radius: 50%;\n",
              "    cursor: pointer;\n",
              "    display: none;\n",
              "    fill: var(--fill-color);\n",
              "    height: 32px;\n",
              "    padding: 0;\n",
              "    width: 32px;\n",
              "  }\n",
              "\n",
              "  .colab-df-quickchart:hover {\n",
              "    background-color: var(--hover-bg-color);\n",
              "    box-shadow: 0 1px 2px rgba(60, 64, 67, 0.3), 0 1px 3px 1px rgba(60, 64, 67, 0.15);\n",
              "    fill: var(--button-hover-fill-color);\n",
              "  }\n",
              "\n",
              "  .colab-df-quickchart-complete:disabled,\n",
              "  .colab-df-quickchart-complete:disabled:hover {\n",
              "    background-color: var(--disabled-bg-color);\n",
              "    fill: var(--disabled-fill-color);\n",
              "    box-shadow: none;\n",
              "  }\n",
              "\n",
              "  .colab-df-spinner {\n",
              "    border: 2px solid var(--fill-color);\n",
              "    border-color: transparent;\n",
              "    border-bottom-color: var(--fill-color);\n",
              "    animation:\n",
              "      spin 1s steps(1) infinite;\n",
              "  }\n",
              "\n",
              "  @keyframes spin {\n",
              "    0% {\n",
              "      border-color: transparent;\n",
              "      border-bottom-color: var(--fill-color);\n",
              "      border-left-color: var(--fill-color);\n",
              "    }\n",
              "    20% {\n",
              "      border-color: transparent;\n",
              "      border-left-color: var(--fill-color);\n",
              "      border-top-color: var(--fill-color);\n",
              "    }\n",
              "    30% {\n",
              "      border-color: transparent;\n",
              "      border-left-color: var(--fill-color);\n",
              "      border-top-color: var(--fill-color);\n",
              "      border-right-color: var(--fill-color);\n",
              "    }\n",
              "    40% {\n",
              "      border-color: transparent;\n",
              "      border-right-color: var(--fill-color);\n",
              "      border-top-color: var(--fill-color);\n",
              "    }\n",
              "    60% {\n",
              "      border-color: transparent;\n",
              "      border-right-color: var(--fill-color);\n",
              "    }\n",
              "    80% {\n",
              "      border-color: transparent;\n",
              "      border-right-color: var(--fill-color);\n",
              "      border-bottom-color: var(--fill-color);\n",
              "    }\n",
              "    90% {\n",
              "      border-color: transparent;\n",
              "      border-bottom-color: var(--fill-color);\n",
              "    }\n",
              "  }\n",
              "</style>\n",
              "\n",
              "  <script>\n",
              "    async function quickchart(key) {\n",
              "      const quickchartButtonEl =\n",
              "        document.querySelector('#' + key + ' button');\n",
              "      quickchartButtonEl.disabled = true;  // To prevent multiple clicks.\n",
              "      quickchartButtonEl.classList.add('colab-df-spinner');\n",
              "      try {\n",
              "        const charts = await google.colab.kernel.invokeFunction(\n",
              "            'suggestCharts', [key], {});\n",
              "      } catch (error) {\n",
              "        console.error('Error during call to suggestCharts:', error);\n",
              "      }\n",
              "      quickchartButtonEl.classList.remove('colab-df-spinner');\n",
              "      quickchartButtonEl.classList.add('colab-df-quickchart-complete');\n",
              "    }\n",
              "    (() => {\n",
              "      let quickchartButtonEl =\n",
              "        document.querySelector('#df-6d892adc-154d-46e8-9322-5c2a38a038da button');\n",
              "      quickchartButtonEl.style.display =\n",
              "        google.colab.kernel.accessAllowed ? 'block' : 'none';\n",
              "    })();\n",
              "  </script>\n",
              "</div>\n",
              "\n",
              "    </div>\n",
              "  </div>\n"
            ],
            "application/vnd.google.colaboratory.intrinsic+json": {
              "type": "dataframe",
              "summary": "{\n  \"name\": \"dataset\",\n  \"rows\": 5,\n  \"fields\": [\n    {\n      \"column\": \"MPG\",\n      \"properties\": {\n        \"dtype\": \"number\",\n        \"std\": 6.8044103344816005,\n        \"min\": 27.0,\n        \"max\": 44.0,\n        \"num_unique_values\": 5,\n        \"samples\": [\n          44.0,\n          31.0,\n          32.0\n        ],\n        \"semantic_type\": \"\",\n        \"description\": \"\"\n      }\n    },\n    {\n      \"column\": \"Cylinders\",\n      \"properties\": {\n        \"dtype\": \"number\",\n        \"std\": 0,\n        \"min\": 4,\n        \"max\": 4,\n        \"num_unique_values\": 1,\n        \"samples\": [\n          4\n        ],\n        \"semantic_type\": \"\",\n        \"description\": \"\"\n      }\n    },\n    {\n      \"column\": \"Displacement\",\n      \"properties\": {\n        \"dtype\": \"number\",\n        \"std\": 16.813684902483452,\n        \"min\": 97.0,\n        \"max\": 140.0,\n        \"num_unique_values\": 5,\n        \"samples\": [\n          97.0\n        ],\n        \"semantic_type\": \"\",\n        \"description\": \"\"\n      }\n    },\n    {\n      \"column\": \"Horsepower\",\n      \"properties\": {\n        \"dtype\": \"number\",\n        \"std\": 13.992855319769443,\n        \"min\": 52.0,\n        \"max\": 86.0,\n        \"num_unique_values\": 5,\n        \"samples\": [\n          52.0\n        ],\n        \"semantic_type\": \"\",\n        \"description\": \"\"\n      }\n    },\n    {\n      \"column\": \"Weight\",\n      \"properties\": {\n        \"dtype\": \"number\",\n        \"std\": 285.62650437240586,\n        \"min\": 2130.0,\n        \"max\": 2790.0,\n        \"num_unique_values\": 5,\n        \"samples\": [\n          2130.0\n        ],\n        \"semantic_type\": \"\",\n        \"description\": \"\"\n      }\n    },\n    {\n      \"column\": \"Acceleration\",\n      \"properties\": {\n        \"dtype\": \"number\",\n        \"std\": 4.81123684721507,\n        \"min\": 11.6,\n        \"max\": 24.6,\n        \"num_unique_values\": 5,\n        \"samples\": [\n          24.6\n        ],\n        \"semantic_type\": \"\",\n        \"description\": \"\"\n      }\n    },\n    {\n      \"column\": \"Model Year\",\n      \"properties\": {\n        \"dtype\": \"number\",\n        \"std\": 0,\n        \"min\": 82,\n        \"max\": 82,\n        \"num_unique_values\": 1,\n        \"samples\": [\n          82\n        ],\n        \"semantic_type\": \"\",\n        \"description\": \"\"\n      }\n    },\n    {\n      \"column\": \"Origin\",\n      \"properties\": {\n        \"dtype\": \"number\",\n        \"std\": 0,\n        \"min\": 1,\n        \"max\": 2,\n        \"num_unique_values\": 2,\n        \"samples\": [\n          2\n        ],\n        \"semantic_type\": \"\",\n        \"description\": \"\"\n      }\n    }\n  ]\n}"
            }
          },
          "metadata": {},
          "execution_count": 5
        }
      ],
      "source": [
        "dataset = raw_dataset.copy()\n",
        "dataset.tail()"
      ]
    },
    {
      "cell_type": "markdown",
      "metadata": {
        "id": "3MWuJTKEDM-f"
      },
      "source": [
        "### Clean the data\n",
        "\n",
        "The dataset contains a few unknown values:"
      ]
    },
    {
      "cell_type": "code",
      "execution_count": 6,
      "metadata": {
        "id": "JEJHhN65a2VV",
        "outputId": "ca2916ce-5492-45bf-e78e-aaa277106600",
        "colab": {
          "base_uri": "https://localhost:8080/"
        }
      },
      "outputs": [
        {
          "output_type": "execute_result",
          "data": {
            "text/plain": [
              "MPG             0\n",
              "Cylinders       0\n",
              "Displacement    0\n",
              "Horsepower      6\n",
              "Weight          0\n",
              "Acceleration    0\n",
              "Model Year      0\n",
              "Origin          0\n",
              "dtype: int64"
            ]
          },
          "metadata": {},
          "execution_count": 6
        }
      ],
      "source": [
        "dataset.isna().sum()"
      ]
    },
    {
      "cell_type": "markdown",
      "metadata": {
        "id": "9UPN0KBHa_WI"
      },
      "source": [
        "Drop those rows to keep this initial tutorial simple:"
      ]
    },
    {
      "cell_type": "code",
      "execution_count": 7,
      "metadata": {
        "id": "4ZUDosChC1UN"
      },
      "outputs": [],
      "source": [
        "dataset = dataset.dropna()"
      ]
    },
    {
      "cell_type": "markdown",
      "metadata": {
        "id": "8XKitwaH4v8h"
      },
      "source": [
        "The `\"Origin\"` column is categorical, not numeric. So the next step is to one-hot encode the values in the column with [pd.get_dummies](https://pandas.pydata.org/docs/reference/api/pandas.get_dummies.html).\n",
        "\n",
        "Note: You can set up the `tf.keras.Model` to do this kind of transformation for you but that's beyond the scope of this tutorial. Check out the [Classify structured data using Keras preprocessing layers](../structured_data/preprocessing_layers.ipynb) or [Load CSV data](../load_data/csv.ipynb) tutorials for examples."
      ]
    },
    {
      "cell_type": "code",
      "execution_count": 8,
      "metadata": {
        "id": "gWNTD2QjBWFJ"
      },
      "outputs": [],
      "source": [
        "dataset['Origin'] = dataset['Origin'].map({1: 'USA', 2: 'Europe', 3: 'Japan'})"
      ]
    },
    {
      "cell_type": "code",
      "execution_count": 9,
      "metadata": {
        "id": "ulXz4J7PAUzk",
        "outputId": "4ce24959-0933-48b1-84c7-c2e53f31309d",
        "colab": {
          "base_uri": "https://localhost:8080/",
          "height": 243
        }
      },
      "outputs": [
        {
          "output_type": "execute_result",
          "data": {
            "text/plain": [
              "      MPG  Cylinders  Displacement  Horsepower  Weight  Acceleration  \\\n",
              "393  27.0          4         140.0        86.0  2790.0          15.6   \n",
              "394  44.0          4          97.0        52.0  2130.0          24.6   \n",
              "395  32.0          4         135.0        84.0  2295.0          11.6   \n",
              "396  28.0          4         120.0        79.0  2625.0          18.6   \n",
              "397  31.0          4         119.0        82.0  2720.0          19.4   \n",
              "\n",
              "     Model Year  Europe  Japan  USA  \n",
              "393          82       0      0    1  \n",
              "394          82       1      0    0  \n",
              "395          82       0      0    1  \n",
              "396          82       0      0    1  \n",
              "397          82       0      0    1  "
            ],
            "text/html": [
              "\n",
              "  <div id=\"df-7d977db2-2dc9-45e4-ab32-3ee9285dab74\" class=\"colab-df-container\">\n",
              "    <div>\n",
              "<style scoped>\n",
              "    .dataframe tbody tr th:only-of-type {\n",
              "        vertical-align: middle;\n",
              "    }\n",
              "\n",
              "    .dataframe tbody tr th {\n",
              "        vertical-align: top;\n",
              "    }\n",
              "\n",
              "    .dataframe thead th {\n",
              "        text-align: right;\n",
              "    }\n",
              "</style>\n",
              "<table border=\"1\" class=\"dataframe\">\n",
              "  <thead>\n",
              "    <tr style=\"text-align: right;\">\n",
              "      <th></th>\n",
              "      <th>MPG</th>\n",
              "      <th>Cylinders</th>\n",
              "      <th>Displacement</th>\n",
              "      <th>Horsepower</th>\n",
              "      <th>Weight</th>\n",
              "      <th>Acceleration</th>\n",
              "      <th>Model Year</th>\n",
              "      <th>Europe</th>\n",
              "      <th>Japan</th>\n",
              "      <th>USA</th>\n",
              "    </tr>\n",
              "  </thead>\n",
              "  <tbody>\n",
              "    <tr>\n",
              "      <th>393</th>\n",
              "      <td>27.0</td>\n",
              "      <td>4</td>\n",
              "      <td>140.0</td>\n",
              "      <td>86.0</td>\n",
              "      <td>2790.0</td>\n",
              "      <td>15.6</td>\n",
              "      <td>82</td>\n",
              "      <td>0</td>\n",
              "      <td>0</td>\n",
              "      <td>1</td>\n",
              "    </tr>\n",
              "    <tr>\n",
              "      <th>394</th>\n",
              "      <td>44.0</td>\n",
              "      <td>4</td>\n",
              "      <td>97.0</td>\n",
              "      <td>52.0</td>\n",
              "      <td>2130.0</td>\n",
              "      <td>24.6</td>\n",
              "      <td>82</td>\n",
              "      <td>1</td>\n",
              "      <td>0</td>\n",
              "      <td>0</td>\n",
              "    </tr>\n",
              "    <tr>\n",
              "      <th>395</th>\n",
              "      <td>32.0</td>\n",
              "      <td>4</td>\n",
              "      <td>135.0</td>\n",
              "      <td>84.0</td>\n",
              "      <td>2295.0</td>\n",
              "      <td>11.6</td>\n",
              "      <td>82</td>\n",
              "      <td>0</td>\n",
              "      <td>0</td>\n",
              "      <td>1</td>\n",
              "    </tr>\n",
              "    <tr>\n",
              "      <th>396</th>\n",
              "      <td>28.0</td>\n",
              "      <td>4</td>\n",
              "      <td>120.0</td>\n",
              "      <td>79.0</td>\n",
              "      <td>2625.0</td>\n",
              "      <td>18.6</td>\n",
              "      <td>82</td>\n",
              "      <td>0</td>\n",
              "      <td>0</td>\n",
              "      <td>1</td>\n",
              "    </tr>\n",
              "    <tr>\n",
              "      <th>397</th>\n",
              "      <td>31.0</td>\n",
              "      <td>4</td>\n",
              "      <td>119.0</td>\n",
              "      <td>82.0</td>\n",
              "      <td>2720.0</td>\n",
              "      <td>19.4</td>\n",
              "      <td>82</td>\n",
              "      <td>0</td>\n",
              "      <td>0</td>\n",
              "      <td>1</td>\n",
              "    </tr>\n",
              "  </tbody>\n",
              "</table>\n",
              "</div>\n",
              "    <div class=\"colab-df-buttons\">\n",
              "\n",
              "  <div class=\"colab-df-container\">\n",
              "    <button class=\"colab-df-convert\" onclick=\"convertToInteractive('df-7d977db2-2dc9-45e4-ab32-3ee9285dab74')\"\n",
              "            title=\"Convert this dataframe to an interactive table.\"\n",
              "            style=\"display:none;\">\n",
              "\n",
              "  <svg xmlns=\"http://www.w3.org/2000/svg\" height=\"24px\" viewBox=\"0 -960 960 960\">\n",
              "    <path d=\"M120-120v-720h720v720H120Zm60-500h600v-160H180v160Zm220 220h160v-160H400v160Zm0 220h160v-160H400v160ZM180-400h160v-160H180v160Zm440 0h160v-160H620v160ZM180-180h160v-160H180v160Zm440 0h160v-160H620v160Z\"/>\n",
              "  </svg>\n",
              "    </button>\n",
              "\n",
              "  <style>\n",
              "    .colab-df-container {\n",
              "      display:flex;\n",
              "      gap: 12px;\n",
              "    }\n",
              "\n",
              "    .colab-df-convert {\n",
              "      background-color: #E8F0FE;\n",
              "      border: none;\n",
              "      border-radius: 50%;\n",
              "      cursor: pointer;\n",
              "      display: none;\n",
              "      fill: #1967D2;\n",
              "      height: 32px;\n",
              "      padding: 0 0 0 0;\n",
              "      width: 32px;\n",
              "    }\n",
              "\n",
              "    .colab-df-convert:hover {\n",
              "      background-color: #E2EBFA;\n",
              "      box-shadow: 0px 1px 2px rgba(60, 64, 67, 0.3), 0px 1px 3px 1px rgba(60, 64, 67, 0.15);\n",
              "      fill: #174EA6;\n",
              "    }\n",
              "\n",
              "    .colab-df-buttons div {\n",
              "      margin-bottom: 4px;\n",
              "    }\n",
              "\n",
              "    [theme=dark] .colab-df-convert {\n",
              "      background-color: #3B4455;\n",
              "      fill: #D2E3FC;\n",
              "    }\n",
              "\n",
              "    [theme=dark] .colab-df-convert:hover {\n",
              "      background-color: #434B5C;\n",
              "      box-shadow: 0px 1px 3px 1px rgba(0, 0, 0, 0.15);\n",
              "      filter: drop-shadow(0px 1px 2px rgba(0, 0, 0, 0.3));\n",
              "      fill: #FFFFFF;\n",
              "    }\n",
              "  </style>\n",
              "\n",
              "    <script>\n",
              "      const buttonEl =\n",
              "        document.querySelector('#df-7d977db2-2dc9-45e4-ab32-3ee9285dab74 button.colab-df-convert');\n",
              "      buttonEl.style.display =\n",
              "        google.colab.kernel.accessAllowed ? 'block' : 'none';\n",
              "\n",
              "      async function convertToInteractive(key) {\n",
              "        const element = document.querySelector('#df-7d977db2-2dc9-45e4-ab32-3ee9285dab74');\n",
              "        const dataTable =\n",
              "          await google.colab.kernel.invokeFunction('convertToInteractive',\n",
              "                                                    [key], {});\n",
              "        if (!dataTable) return;\n",
              "\n",
              "        const docLinkHtml = 'Like what you see? Visit the ' +\n",
              "          '<a target=\"_blank\" href=https://colab.research.google.com/notebooks/data_table.ipynb>data table notebook</a>'\n",
              "          + ' to learn more about interactive tables.';\n",
              "        element.innerHTML = '';\n",
              "        dataTable['output_type'] = 'display_data';\n",
              "        await google.colab.output.renderOutput(dataTable, element);\n",
              "        const docLink = document.createElement('div');\n",
              "        docLink.innerHTML = docLinkHtml;\n",
              "        element.appendChild(docLink);\n",
              "      }\n",
              "    </script>\n",
              "  </div>\n",
              "\n",
              "\n",
              "<div id=\"df-83138a5b-0099-4e22-b646-3881eddc13f2\">\n",
              "  <button class=\"colab-df-quickchart\" onclick=\"quickchart('df-83138a5b-0099-4e22-b646-3881eddc13f2')\"\n",
              "            title=\"Suggest charts\"\n",
              "            style=\"display:none;\">\n",
              "\n",
              "<svg xmlns=\"http://www.w3.org/2000/svg\" height=\"24px\"viewBox=\"0 0 24 24\"\n",
              "     width=\"24px\">\n",
              "    <g>\n",
              "        <path d=\"M19 3H5c-1.1 0-2 .9-2 2v14c0 1.1.9 2 2 2h14c1.1 0 2-.9 2-2V5c0-1.1-.9-2-2-2zM9 17H7v-7h2v7zm4 0h-2V7h2v10zm4 0h-2v-4h2v4z\"/>\n",
              "    </g>\n",
              "</svg>\n",
              "  </button>\n",
              "\n",
              "<style>\n",
              "  .colab-df-quickchart {\n",
              "      --bg-color: #E8F0FE;\n",
              "      --fill-color: #1967D2;\n",
              "      --hover-bg-color: #E2EBFA;\n",
              "      --hover-fill-color: #174EA6;\n",
              "      --disabled-fill-color: #AAA;\n",
              "      --disabled-bg-color: #DDD;\n",
              "  }\n",
              "\n",
              "  [theme=dark] .colab-df-quickchart {\n",
              "      --bg-color: #3B4455;\n",
              "      --fill-color: #D2E3FC;\n",
              "      --hover-bg-color: #434B5C;\n",
              "      --hover-fill-color: #FFFFFF;\n",
              "      --disabled-bg-color: #3B4455;\n",
              "      --disabled-fill-color: #666;\n",
              "  }\n",
              "\n",
              "  .colab-df-quickchart {\n",
              "    background-color: var(--bg-color);\n",
              "    border: none;\n",
              "    border-radius: 50%;\n",
              "    cursor: pointer;\n",
              "    display: none;\n",
              "    fill: var(--fill-color);\n",
              "    height: 32px;\n",
              "    padding: 0;\n",
              "    width: 32px;\n",
              "  }\n",
              "\n",
              "  .colab-df-quickchart:hover {\n",
              "    background-color: var(--hover-bg-color);\n",
              "    box-shadow: 0 1px 2px rgba(60, 64, 67, 0.3), 0 1px 3px 1px rgba(60, 64, 67, 0.15);\n",
              "    fill: var(--button-hover-fill-color);\n",
              "  }\n",
              "\n",
              "  .colab-df-quickchart-complete:disabled,\n",
              "  .colab-df-quickchart-complete:disabled:hover {\n",
              "    background-color: var(--disabled-bg-color);\n",
              "    fill: var(--disabled-fill-color);\n",
              "    box-shadow: none;\n",
              "  }\n",
              "\n",
              "  .colab-df-spinner {\n",
              "    border: 2px solid var(--fill-color);\n",
              "    border-color: transparent;\n",
              "    border-bottom-color: var(--fill-color);\n",
              "    animation:\n",
              "      spin 1s steps(1) infinite;\n",
              "  }\n",
              "\n",
              "  @keyframes spin {\n",
              "    0% {\n",
              "      border-color: transparent;\n",
              "      border-bottom-color: var(--fill-color);\n",
              "      border-left-color: var(--fill-color);\n",
              "    }\n",
              "    20% {\n",
              "      border-color: transparent;\n",
              "      border-left-color: var(--fill-color);\n",
              "      border-top-color: var(--fill-color);\n",
              "    }\n",
              "    30% {\n",
              "      border-color: transparent;\n",
              "      border-left-color: var(--fill-color);\n",
              "      border-top-color: var(--fill-color);\n",
              "      border-right-color: var(--fill-color);\n",
              "    }\n",
              "    40% {\n",
              "      border-color: transparent;\n",
              "      border-right-color: var(--fill-color);\n",
              "      border-top-color: var(--fill-color);\n",
              "    }\n",
              "    60% {\n",
              "      border-color: transparent;\n",
              "      border-right-color: var(--fill-color);\n",
              "    }\n",
              "    80% {\n",
              "      border-color: transparent;\n",
              "      border-right-color: var(--fill-color);\n",
              "      border-bottom-color: var(--fill-color);\n",
              "    }\n",
              "    90% {\n",
              "      border-color: transparent;\n",
              "      border-bottom-color: var(--fill-color);\n",
              "    }\n",
              "  }\n",
              "</style>\n",
              "\n",
              "  <script>\n",
              "    async function quickchart(key) {\n",
              "      const quickchartButtonEl =\n",
              "        document.querySelector('#' + key + ' button');\n",
              "      quickchartButtonEl.disabled = true;  // To prevent multiple clicks.\n",
              "      quickchartButtonEl.classList.add('colab-df-spinner');\n",
              "      try {\n",
              "        const charts = await google.colab.kernel.invokeFunction(\n",
              "            'suggestCharts', [key], {});\n",
              "      } catch (error) {\n",
              "        console.error('Error during call to suggestCharts:', error);\n",
              "      }\n",
              "      quickchartButtonEl.classList.remove('colab-df-spinner');\n",
              "      quickchartButtonEl.classList.add('colab-df-quickchart-complete');\n",
              "    }\n",
              "    (() => {\n",
              "      let quickchartButtonEl =\n",
              "        document.querySelector('#df-83138a5b-0099-4e22-b646-3881eddc13f2 button');\n",
              "      quickchartButtonEl.style.display =\n",
              "        google.colab.kernel.accessAllowed ? 'block' : 'none';\n",
              "    })();\n",
              "  </script>\n",
              "</div>\n",
              "\n",
              "    </div>\n",
              "  </div>\n"
            ],
            "application/vnd.google.colaboratory.intrinsic+json": {
              "type": "dataframe",
              "summary": "{\n  \"name\": \"dataset\",\n  \"rows\": 5,\n  \"fields\": [\n    {\n      \"column\": \"MPG\",\n      \"properties\": {\n        \"dtype\": \"number\",\n        \"std\": 6.8044103344816005,\n        \"min\": 27.0,\n        \"max\": 44.0,\n        \"num_unique_values\": 5,\n        \"samples\": [\n          44.0,\n          31.0,\n          32.0\n        ],\n        \"semantic_type\": \"\",\n        \"description\": \"\"\n      }\n    },\n    {\n      \"column\": \"Cylinders\",\n      \"properties\": {\n        \"dtype\": \"number\",\n        \"std\": 0,\n        \"min\": 4,\n        \"max\": 4,\n        \"num_unique_values\": 1,\n        \"samples\": [\n          4\n        ],\n        \"semantic_type\": \"\",\n        \"description\": \"\"\n      }\n    },\n    {\n      \"column\": \"Displacement\",\n      \"properties\": {\n        \"dtype\": \"number\",\n        \"std\": 16.813684902483452,\n        \"min\": 97.0,\n        \"max\": 140.0,\n        \"num_unique_values\": 5,\n        \"samples\": [\n          97.0\n        ],\n        \"semantic_type\": \"\",\n        \"description\": \"\"\n      }\n    },\n    {\n      \"column\": \"Horsepower\",\n      \"properties\": {\n        \"dtype\": \"number\",\n        \"std\": 13.992855319769443,\n        \"min\": 52.0,\n        \"max\": 86.0,\n        \"num_unique_values\": 5,\n        \"samples\": [\n          52.0\n        ],\n        \"semantic_type\": \"\",\n        \"description\": \"\"\n      }\n    },\n    {\n      \"column\": \"Weight\",\n      \"properties\": {\n        \"dtype\": \"number\",\n        \"std\": 285.62650437240586,\n        \"min\": 2130.0,\n        \"max\": 2790.0,\n        \"num_unique_values\": 5,\n        \"samples\": [\n          2130.0\n        ],\n        \"semantic_type\": \"\",\n        \"description\": \"\"\n      }\n    },\n    {\n      \"column\": \"Acceleration\",\n      \"properties\": {\n        \"dtype\": \"number\",\n        \"std\": 4.81123684721507,\n        \"min\": 11.6,\n        \"max\": 24.6,\n        \"num_unique_values\": 5,\n        \"samples\": [\n          24.6\n        ],\n        \"semantic_type\": \"\",\n        \"description\": \"\"\n      }\n    },\n    {\n      \"column\": \"Model Year\",\n      \"properties\": {\n        \"dtype\": \"number\",\n        \"std\": 0,\n        \"min\": 82,\n        \"max\": 82,\n        \"num_unique_values\": 1,\n        \"samples\": [\n          82\n        ],\n        \"semantic_type\": \"\",\n        \"description\": \"\"\n      }\n    },\n    {\n      \"column\": \"Europe\",\n      \"properties\": {\n        \"dtype\": \"uint8\",\n        \"num_unique_values\": 2,\n        \"samples\": [\n          1\n        ],\n        \"semantic_type\": \"\",\n        \"description\": \"\"\n      }\n    },\n    {\n      \"column\": \"Japan\",\n      \"properties\": {\n        \"dtype\": \"uint8\",\n        \"num_unique_values\": 1,\n        \"samples\": [\n          0\n        ],\n        \"semantic_type\": \"\",\n        \"description\": \"\"\n      }\n    },\n    {\n      \"column\": \"USA\",\n      \"properties\": {\n        \"dtype\": \"uint8\",\n        \"num_unique_values\": 2,\n        \"samples\": [\n          0\n        ],\n        \"semantic_type\": \"\",\n        \"description\": \"\"\n      }\n    }\n  ]\n}"
            }
          },
          "metadata": {},
          "execution_count": 9
        }
      ],
      "source": [
        "dataset = pd.get_dummies(dataset, columns=['Origin'], prefix='', prefix_sep='')\n",
        "dataset.tail()"
      ]
    },
    {
      "cell_type": "markdown",
      "metadata": {
        "id": "Cuym4yvk76vU"
      },
      "source": [
        "### Split the data into training and test sets\n",
        "\n",
        "Now, split the dataset into a training set and a test set. You will use the test set in the final evaluation of your models."
      ]
    },
    {
      "cell_type": "code",
      "execution_count": 10,
      "metadata": {
        "id": "qn-IGhUE7_1H"
      },
      "outputs": [],
      "source": [
        "train_dataset = dataset.sample(frac=0.8, random_state=0)\n",
        "test_dataset = dataset.drop(train_dataset.index)"
      ]
    },
    {
      "cell_type": "markdown",
      "metadata": {
        "id": "J4ubs136WLNp"
      },
      "source": [
        "### Inspect the data\n",
        "\n",
        "Review the joint distribution of a few pairs of columns from the training set.\n",
        "\n",
        "The top row suggests that the fuel efficiency (MPG) is a function of all the other parameters. The other rows indicate they are functions of each other."
      ]
    },
    {
      "cell_type": "code",
      "execution_count": 11,
      "metadata": {
        "id": "oRKO_x8gWKv-",
        "outputId": "d3a3ba34-8c4f-497a-998a-e11ac5a150e0",
        "colab": {
          "base_uri": "https://localhost:8080/",
          "height": 665
        }
      },
      "outputs": [
        {
          "output_type": "execute_result",
          "data": {
            "text/plain": [
              "<seaborn.axisgrid.PairGrid at 0x7a0637f85840>"
            ]
          },
          "metadata": {},
          "execution_count": 11
        },
        {
          "output_type": "display_data",
          "data": {
            "text/plain": [
              "<Figure size 1000x1000 with 20 Axes>"
            ],
            "image/png": "[encoded data removed]"
          },
          "metadata": {}
        }
      ],
      "source": [
        "sns.pairplot(train_dataset[['MPG', 'Cylinders', 'Displacement', 'Weight']], diag_kind='kde')"
      ]
    },
    {
      "cell_type": "markdown",
      "metadata": {
        "id": "gavKO_6DWRMP"
      },
      "source": [
        "Let's also check the overall statistics. Note how each feature covers a very different range:"
      ]
    },
    {
      "cell_type": "code",
      "execution_count": 12,
      "metadata": {
        "id": "yi2FzC3T21jR",
        "outputId": "69dc2c30-9275-43a2-9f73-3749c5a6b959",
        "colab": {
          "base_uri": "https://localhost:8080/",
          "height": 383
        }
      },
      "outputs": [
        {
          "output_type": "execute_result",
          "data": {
            "text/plain": [
              "              count         mean         std     min      25%     50%  \\\n",
              "MPG           314.0    23.310510    7.728652    10.0    17.00    22.0   \n",
              "Cylinders     314.0     5.477707    1.699788     3.0     4.00     4.0   \n",
              "Displacement  314.0   195.318471  104.331589    68.0   105.50   151.0   \n",
              "Horsepower    314.0   104.869427   38.096214    46.0    76.25    94.5   \n",
              "Weight        314.0  2990.251592  843.898596  1649.0  2256.50  2822.5   \n",
              "Acceleration  314.0    15.559236    2.789230     8.0    13.80    15.5   \n",
              "Model Year    314.0    75.898089    3.675642    70.0    73.00    76.0   \n",
              "Europe        314.0     0.178344    0.383413     0.0     0.00     0.0   \n",
              "Japan         314.0     0.197452    0.398712     0.0     0.00     0.0   \n",
              "USA           314.0     0.624204    0.485101     0.0     0.00     1.0   \n",
              "\n",
              "                  75%     max  \n",
              "MPG             28.95    46.6  \n",
              "Cylinders        8.00     8.0  \n",
              "Displacement   265.75   455.0  \n",
              "Horsepower     128.00   225.0  \n",
              "Weight        3608.00  5140.0  \n",
              "Acceleration    17.20    24.8  \n",
              "Model Year      79.00    82.0  \n",
              "Europe           0.00     1.0  \n",
              "Japan            0.00     1.0  \n",
              "USA              1.00     1.0  "
            ],
            "text/html": [
              "\n",
              "  <div id=\"df-cac04a55-8ad1-4824-91a4-2cd88e65d317\" class=\"colab-df-container\">\n",
              "    <div>\n",
              "<style scoped>\n",
              "    .dataframe tbody tr th:only-of-type {\n",
              "        vertical-align: middle;\n",
              "    }\n",
              "\n",
              "    .dataframe tbody tr th {\n",
              "        vertical-align: top;\n",
              "    }\n",
              "\n",
              "    .dataframe thead th {\n",
              "        text-align: right;\n",
              "    }\n",
              "</style>\n",
              "<table border=\"1\" class=\"dataframe\">\n",
              "  <thead>\n",
              "    <tr style=\"text-align: right;\">\n",
              "      <th></th>\n",
              "      <th>count</th>\n",
              "      <th>mean</th>\n",
              "      <th>std</th>\n",
              "      <th>min</th>\n",
              "      <th>25%</th>\n",
              "      <th>50%</th>\n",
              "      <th>75%</th>\n",
              "      <th>max</th>\n",
              "    </tr>\n",
              "  </thead>\n",
              "  <tbody>\n",
              "    <tr>\n",
              "      <th>MPG</th>\n",
              "      <td>314.0</td>\n",
              "      <td>23.310510</td>\n",
              "      <td>7.728652</td>\n",
              "      <td>10.0</td>\n",
              "      <td>17.00</td>\n",
              "      <td>22.0</td>\n",
              "      <td>28.95</td>\n",
              "      <td>46.6</td>\n",
              "    </tr>\n",
              "    <tr>\n",
              "      <th>Cylinders</th>\n",
              "      <td>314.0</td>\n",
              "      <td>5.477707</td>\n",
              "      <td>1.699788</td>\n",
              "      <td>3.0</td>\n",
              "      <td>4.00</td>\n",
              "      <td>4.0</td>\n",
              "      <td>8.00</td>\n",
              "      <td>8.0</td>\n",
              "    </tr>\n",
              "    <tr>\n",
              "      <th>Displacement</th>\n",
              "      <td>314.0</td>\n",
              "      <td>195.318471</td>\n",
              "      <td>104.331589</td>\n",
              "      <td>68.0</td>\n",
              "      <td>105.50</td>\n",
              "      <td>151.0</td>\n",
              "      <td>265.75</td>\n",
              "      <td>455.0</td>\n",
              "    </tr>\n",
              "    <tr>\n",
              "      <th>Horsepower</th>\n",
              "      <td>314.0</td>\n",
              "      <td>104.869427</td>\n",
              "      <td>38.096214</td>\n",
              "      <td>46.0</td>\n",
              "      <td>76.25</td>\n",
              "      <td>94.5</td>\n",
              "      <td>128.00</td>\n",
              "      <td>225.0</td>\n",
              "    </tr>\n",
              "    <tr>\n",
              "      <th>Weight</th>\n",
              "      <td>314.0</td>\n",
              "      <td>2990.251592</td>\n",
              "      <td>843.898596</td>\n",
              "      <td>1649.0</td>\n",
              "      <td>2256.50</td>\n",
              "      <td>2822.5</td>\n",
              "      <td>3608.00</td>\n",
              "      <td>5140.0</td>\n",
              "    </tr>\n",
              "    <tr>\n",
              "      <th>Acceleration</th>\n",
              "      <td>314.0</td>\n",
              "      <td>15.559236</td>\n",
              "      <td>2.789230</td>\n",
              "      <td>8.0</td>\n",
              "      <td>13.80</td>\n",
              "      <td>15.5</td>\n",
              "      <td>17.20</td>\n",
              "      <td>24.8</td>\n",
              "    </tr>\n",
              "    <tr>\n",
              "      <th>Model Year</th>\n",
              "      <td>314.0</td>\n",
              "      <td>75.898089</td>\n",
              "      <td>3.675642</td>\n",
              "      <td>70.0</td>\n",
              "      <td>73.00</td>\n",
              "      <td>76.0</td>\n",
              "      <td>79.00</td>\n",
              "      <td>82.0</td>\n",
              "    </tr>\n",
              "    <tr>\n",
              "      <th>Europe</th>\n",
              "      <td>314.0</td>\n",
              "      <td>0.178344</td>\n",
              "      <td>0.383413</td>\n",
              "      <td>0.0</td>\n",
              "      <td>0.00</td>\n",
              "      <td>0.0</td>\n",
              "      <td>0.00</td>\n",
              "      <td>1.0</td>\n",
              "    </tr>\n",
              "    <tr>\n",
              "      <th>Japan</th>\n",
              "      <td>314.0</td>\n",
              "      <td>0.197452</td>\n",
              "      <td>0.398712</td>\n",
              "      <td>0.0</td>\n",
              "      <td>0.00</td>\n",
              "      <td>0.0</td>\n",
              "      <td>0.00</td>\n",
              "      <td>1.0</td>\n",
              "    </tr>\n",
              "    <tr>\n",
              "      <th>USA</th>\n",
              "      <td>314.0</td>\n",
              "      <td>0.624204</td>\n",
              "      <td>0.485101</td>\n",
              "      <td>0.0</td>\n",
              "      <td>0.00</td>\n",
              "      <td>1.0</td>\n",
              "      <td>1.00</td>\n",
              "      <td>1.0</td>\n",
              "    </tr>\n",
              "  </tbody>\n",
              "</table>\n",
              "</div>\n",
              "    <div class=\"colab-df-buttons\">\n",
              "\n",
              "  <div class=\"colab-df-container\">\n",
              "    <button class=\"colab-df-convert\" onclick=\"convertToInteractive('df-cac04a55-8ad1-4824-91a4-2cd88e65d317')\"\n",
              "            title=\"Convert this dataframe to an interactive table.\"\n",
              "            style=\"display:none;\">\n",
              "\n",
              "  <svg xmlns=\"http://www.w3.org/2000/svg\" height=\"24px\" viewBox=\"0 -960 960 960\">\n",
              "    <path d=\"M120-120v-720h720v720H120Zm60-500h600v-160H180v160Zm220 220h160v-160H400v160Zm0 220h160v-160H400v160ZM180-400h160v-160H180v160Zm440 0h160v-160H620v160ZM180-180h160v-160H180v160Zm440 0h160v-160H620v160Z\"/>\n",
              "  </svg>\n",
              "    </button>\n",
              "\n",
              "  <style>\n",
              "    .colab-df-container {\n",
              "      display:flex;\n",
              "      gap: 12px;\n",
              "    }\n",
              "\n",
              "    .colab-df-convert {\n",
              "      background-color: #E8F0FE;\n",
              "      border: none;\n",
              "      border-radius: 50%;\n",
              "      cursor: pointer;\n",
              "      display: none;\n",
              "      fill: #1967D2;\n",
              "      height: 32px;\n",
              "      padding: 0 0 0 0;\n",
              "      width: 32px;\n",
              "    }\n",
              "\n",
              "    .colab-df-convert:hover {\n",
              "      background-color: #E2EBFA;\n",
              "      box-shadow: 0px 1px 2px rgba(60, 64, 67, 0.3), 0px 1px 3px 1px rgba(60, 64, 67, 0.15);\n",
              "      fill: #174EA6;\n",
              "    }\n",
              "\n",
              "    .colab-df-buttons div {\n",
              "      margin-bottom: 4px;\n",
              "    }\n",
              "\n",
              "    [theme=dark] .colab-df-convert {\n",
              "      background-color: #3B4455;\n",
              "      fill: #D2E3FC;\n",
              "    }\n",
              "\n",
              "    [theme=dark] .colab-df-convert:hover {\n",
              "      background-color: #434B5C;\n",
              "      box-shadow: 0px 1px 3px 1px rgba(0, 0, 0, 0.15);\n",
              "      filter: drop-shadow(0px 1px 2px rgba(0, 0, 0, 0.3));\n",
              "      fill: #FFFFFF;\n",
              "    }\n",
              "  </style>\n",
              "\n",
              "    <script>\n",
              "      const buttonEl =\n",
              "        document.querySelector('#df-cac04a55-8ad1-4824-91a4-2cd88e65d317 button.colab-df-convert');\n",
              "      buttonEl.style.display =\n",
              "        google.colab.kernel.accessAllowed ? 'block' : 'none';\n",
              "\n",
              "      async function convertToInteractive(key) {\n",
              "        const element = document.querySelector('#df-cac04a55-8ad1-4824-91a4-2cd88e65d317');\n",
              "        const dataTable =\n",
              "          await google.colab.kernel.invokeFunction('convertToInteractive',\n",
              "                                                    [key], {});\n",
              "        if (!dataTable) return;\n",
              "\n",
              "        const docLinkHtml = 'Like what you see? Visit the ' +\n",
              "          '<a target=\"_blank\" href=https://colab.research.google.com/notebooks/data_table.ipynb>data table notebook</a>'\n",
              "          + ' to learn more about interactive tables.';\n",
              "        element.innerHTML = '';\n",
              "        dataTable['output_type'] = 'display_data';\n",
              "        await google.colab.output.renderOutput(dataTable, element);\n",
              "        const docLink = document.createElement('div');\n",
              "        docLink.innerHTML = docLinkHtml;\n",
              "        element.appendChild(docLink);\n",
              "      }\n",
              "    </script>\n",
              "  </div>\n",
              "\n",
              "\n",
              "<div id=\"df-1bb899ff-755c-4082-8153-830fc2458055\">\n",
              "  <button class=\"colab-df-quickchart\" onclick=\"quickchart('df-1bb899ff-755c-4082-8153-830fc2458055')\"\n",
              "            title=\"Suggest charts\"\n",
              "            style=\"display:none;\">\n",
              "\n",
              "<svg xmlns=\"http://www.w3.org/2000/svg\" height=\"24px\"viewBox=\"0 0 24 24\"\n",
              "     width=\"24px\">\n",
              "    <g>\n",
              "        <path d=\"M19 3H5c-1.1 0-2 .9-2 2v14c0 1.1.9 2 2 2h14c1.1 0 2-.9 2-2V5c0-1.1-.9-2-2-2zM9 17H7v-7h2v7zm4 0h-2V7h2v10zm4 0h-2v-4h2v4z\"/>\n",
              "    </g>\n",
              "</svg>\n",
              "  </button>\n",
              "\n",
              "<style>\n",
              "  .colab-df-quickchart {\n",
              "      --bg-color: #E8F0FE;\n",
              "      --fill-color: #1967D2;\n",
              "      --hover-bg-color: #E2EBFA;\n",
              "      --hover-fill-color: #174EA6;\n",
              "      --disabled-fill-color: #AAA;\n",
              "      --disabled-bg-color: #DDD;\n",
              "  }\n",
              "\n",
              "  [theme=dark] .colab-df-quickchart {\n",
              "      --bg-color: #3B4455;\n",
              "      --fill-color: #D2E3FC;\n",
              "      --hover-bg-color: #434B5C;\n",
              "      --hover-fill-color: #FFFFFF;\n",
              "      --disabled-bg-color: #3B4455;\n",
              "      --disabled-fill-color: #666;\n",
              "  }\n",
              "\n",
              "  .colab-df-quickchart {\n",
              "    background-color: var(--bg-color);\n",
              "    border: none;\n",
              "    border-radius: 50%;\n",
              "    cursor: pointer;\n",
              "    display: none;\n",
              "    fill: var(--fill-color);\n",
              "    height: 32px;\n",
              "    padding: 0;\n",
              "    width: 32px;\n",
              "  }\n",
              "\n",
              "  .colab-df-quickchart:hover {\n",
              "    background-color: var(--hover-bg-color);\n",
              "    box-shadow: 0 1px 2px rgba(60, 64, 67, 0.3), 0 1px 3px 1px rgba(60, 64, 67, 0.15);\n",
              "    fill: var(--button-hover-fill-color);\n",
              "  }\n",
              "\n",
              "  .colab-df-quickchart-complete:disabled,\n",
              "  .colab-df-quickchart-complete:disabled:hover {\n",
              "    background-color: var(--disabled-bg-color);\n",
              "    fill: var(--disabled-fill-color);\n",
              "    box-shadow: none;\n",
              "  }\n",
              "\n",
              "  .colab-df-spinner {\n",
              "    border: 2px solid var(--fill-color);\n",
              "    border-color: transparent;\n",
              "    border-bottom-color: var(--fill-color);\n",
              "    animation:\n",
              "      spin 1s steps(1) infinite;\n",
              "  }\n",
              "\n",
              "  @keyframes spin {\n",
              "    0% {\n",
              "      border-color: transparent;\n",
              "      border-bottom-color: var(--fill-color);\n",
              "      border-left-color: var(--fill-color);\n",
              "    }\n",
              "    20% {\n",
              "      border-color: transparent;\n",
              "      border-left-color: var(--fill-color);\n",
              "      border-top-color: var(--fill-color);\n",
              "    }\n",
              "    30% {\n",
              "      border-color: transparent;\n",
              "      border-left-color: var(--fill-color);\n",
              "      border-top-color: var(--fill-color);\n",
              "      border-right-color: var(--fill-color);\n",
              "    }\n",
              "    40% {\n",
              "      border-color: transparent;\n",
              "      border-right-color: var(--fill-color);\n",
              "      border-top-color: var(--fill-color);\n",
              "    }\n",
              "    60% {\n",
              "      border-color: transparent;\n",
              "      border-right-color: var(--fill-color);\n",
              "    }\n",
              "    80% {\n",
              "      border-color: transparent;\n",
              "      border-right-color: var(--fill-color);\n",
              "      border-bottom-color: var(--fill-color);\n",
              "    }\n",
              "    90% {\n",
              "      border-color: transparent;\n",
              "      border-bottom-color: var(--fill-color);\n",
              "    }\n",
              "  }\n",
              "</style>\n",
              "\n",
              "  <script>\n",
              "    async function quickchart(key) {\n",
              "      const quickchartButtonEl =\n",
              "        document.querySelector('#' + key + ' button');\n",
              "      quickchartButtonEl.disabled = true;  // To prevent multiple clicks.\n",
              "      quickchartButtonEl.classList.add('colab-df-spinner');\n",
              "      try {\n",
              "        const charts = await google.colab.kernel.invokeFunction(\n",
              "            'suggestCharts', [key], {});\n",
              "      } catch (error) {\n",
              "        console.error('Error during call to suggestCharts:', error);\n",
              "      }\n",
              "      quickchartButtonEl.classList.remove('colab-df-spinner');\n",
              "      quickchartButtonEl.classList.add('colab-df-quickchart-complete');\n",
              "    }\n",
              "    (() => {\n",
              "      let quickchartButtonEl =\n",
              "        document.querySelector('#df-1bb899ff-755c-4082-8153-830fc2458055 button');\n",
              "      quickchartButtonEl.style.display =\n",
              "        google.colab.kernel.accessAllowed ? 'block' : 'none';\n",
              "    })();\n",
              "  </script>\n",
              "</div>\n",
              "\n",
              "    </div>\n",
              "  </div>\n"
            ],
            "application/vnd.google.colaboratory.intrinsic+json": {
              "type": "dataframe",
              "summary": "{\n  \"name\": \"train_dataset\",\n  \"rows\": 10,\n  \"fields\": [\n    {\n      \"column\": \"count\",\n      \"properties\": {\n        \"dtype\": \"number\",\n        \"std\": 0.0,\n        \"min\": 314.0,\n        \"max\": 314.0,\n        \"num_unique_values\": 1,\n        \"samples\": [\n          314.0\n        ],\n        \"semantic_type\": \"\",\n        \"description\": \"\"\n      }\n    },\n    {\n      \"column\": \"mean\",\n      \"properties\": {\n        \"dtype\": \"number\",\n        \"std\": 932.9385157280802,\n        \"min\": 0.17834394904458598,\n        \"max\": 2990.251592356688,\n        \"num_unique_values\": 10,\n        \"samples\": [\n          0.19745222929936307\n        ],\n        \"semantic_type\": \"\",\n        \"description\": \"\"\n      }\n    },\n    {\n      \"column\": \"std\",\n      \"properties\": {\n        \"dtype\": \"number\",\n        \"std\": 263.28841223336053,\n        \"min\": 0.38341303504510926,\n        \"max\": 843.8985961905663,\n        \"num_unique_values\": 10,\n        \"samples\": [\n          0.39871183066063187\n        ],\n        \"semantic_type\": \"\",\n        \"description\": \"\"\n      }\n    },\n    {\n      \"column\": \"min\",\n      \"properties\": {\n        \"dtype\": \"number\",\n        \"std\": 515.0277662417823,\n        \"min\": 0.0,\n        \"max\": 1649.0,\n        \"num_unique_values\": 8,\n        \"samples\": [\n          3.0\n        ],\n        \"semantic_type\": \"\",\n        \"description\": \"\"\n      }\n    },\n    {\n      \"column\": \"25%\",\n      \"properties\": {\n        \"dtype\": \"number\",\n        \"std\": 704.4559715167127,\n        \"min\": 0.0,\n        \"max\": 2256.5,\n        \"num_unique_values\": 8,\n        \"samples\": [\n          4.0\n        ],\n        \"semantic_type\": \"\",\n        \"description\": \"\"\n      }\n    },\n    {\n      \"column\": \"50%\",\n      \"properties\": {\n        \"dtype\": \"number\",\n        \"std\": 881.2476335665626,\n        \"min\": 0.0,\n        \"max\": 2822.5,\n        \"num_unique_values\": 9,\n        \"samples\": [\n          0.0\n        ],\n        \"semantic_type\": \"\",\n        \"description\": \"\"\n      }\n    },\n    {\n      \"column\": \"75%\",\n      \"properties\": {\n        \"dtype\": \"number\",\n        \"std\": 1125.539086837947,\n        \"min\": 0.0,\n        \"max\": 3608.0,\n        \"num_unique_values\": 9,\n        \"samples\": [\n          0.0\n        ],\n        \"semantic_type\": \"\",\n        \"description\": \"\"\n      }\n    },\n    {\n      \"column\": \"max\",\n      \"properties\": {\n        \"dtype\": \"number\",\n        \"std\": 1602.2734980853504,\n        \"min\": 1.0,\n        \"max\": 5140.0,\n        \"num_unique_values\": 8,\n        \"samples\": [\n          8.0\n        ],\n        \"semantic_type\": \"\",\n        \"description\": \"\"\n      }\n    }\n  ]\n}"
            }
          },
          "metadata": {},
          "execution_count": 12
        }
      ],
      "source": [
        "train_dataset.describe().transpose()"
      ]
    },
    {
      "cell_type": "markdown",
      "metadata": {
        "id": "Db7Auq1yXUvh"
      },
      "source": [
        "### Split features from labels\n",
        "\n",
        "Separate the target value—the \"label\"—from the features. This label is the value that you will train the model to predict."
      ]
    },
    {
      "cell_type": "code",
      "execution_count": 13,
      "metadata": {
        "id": "t2sluJdCW7jN"
      },
      "outputs": [],
      "source": [
        "train_features = train_dataset.copy()\n",
        "test_features = test_dataset.copy()\n",
        "\n",
        "train_labels = train_features.pop('MPG')\n",
        "test_labels = test_features.pop('MPG')"
      ]
    },
    {
      "cell_type": "markdown",
      "metadata": {
        "id": "mRklxK5s388r"
      },
      "source": [
        "## Normalization\n",
        "\n",
        "In the table of statistics it's easy to see how different the ranges of each feature are:"
      ]
    },
    {
      "cell_type": "code",
      "execution_count": 15,
      "metadata": {
        "id": "IcmY6lKKbkw8",
        "outputId": "9896699b-23d9-4b3d-f6dc-1d4229252145",
        "colab": {
          "base_uri": "https://localhost:8080/",
          "height": 826
        }
      },
      "outputs": [
        {
          "output_type": "execute_result",
          "data": {
            "text/plain": [
              "                     mean         std\n",
              "MPG             23.310510    7.728652\n",
              "Cylinders        5.477707    1.699788\n",
              "Displacement   195.318471  104.331589\n",
              "Horsepower     104.869427   38.096214\n",
              "Weight        2990.251592  843.898596\n",
              "Acceleration    15.559236    2.789230\n",
              "Model Year      75.898089    3.675642\n",
              "Europe           0.178344    0.383413\n",
              "Japan            0.197452    0.398712\n",
              "USA              0.624204    0.485101"
            ],
            "text/html": [
              "\n",
              "  <div id=\"df-94513b2a-675a-445c-bd76-564f6b31cc7b\" class=\"colab-df-container\">\n",
              "    <div>\n",
              "<style scoped>\n",
              "    .dataframe tbody tr th:only-of-type {\n",
              "        vertical-align: middle;\n",
              "    }\n",
              "\n",
              "    .dataframe tbody tr th {\n",
              "        vertical-align: top;\n",
              "    }\n",
              "\n",
              "    .dataframe thead th {\n",
              "        text-align: right;\n",
              "    }\n",
              "</style>\n",
              "<table border=\"1\" class=\"dataframe\">\n",
              "  <thead>\n",
              "    <tr style=\"text-align: right;\">\n",
              "      <th></th>\n",
              "      <th>mean</th>\n",
              "      <th>std</th>\n",
              "    </tr>\n",
              "  </thead>\n",
              "  <tbody>\n",
              "    <tr>\n",
              "      <th>MPG</th>\n",
              "      <td>23.310510</td>\n",
              "      <td>7.728652</td>\n",
              "    </tr>\n",
              "    <tr>\n",
              "      <th>Cylinders</th>\n",
              "      <td>5.477707</td>\n",
              "      <td>1.699788</td>\n",
              "    </tr>\n",
              "    <tr>\n",
              "      <th>Displacement</th>\n",
              "      <td>195.318471</td>\n",
              "      <td>104.331589</td>\n",
              "    </tr>\n",
              "    <tr>\n",
              "      <th>Horsepower</th>\n",
              "      <td>104.869427</td>\n",
              "      <td>38.096214</td>\n",
              "    </tr>\n",
              "    <tr>\n",
              "      <th>Weight</th>\n",
              "      <td>2990.251592</td>\n",
              "      <td>843.898596</td>\n",
              "    </tr>\n",
              "    <tr>\n",
              "      <th>Acceleration</th>\n",
              "      <td>15.559236</td>\n",
              "      <td>2.789230</td>\n",
              "    </tr>\n",
              "    <tr>\n",
              "      <th>Model Year</th>\n",
              "      <td>75.898089</td>\n",
              "      <td>3.675642</td>\n",
              "    </tr>\n",
              "    <tr>\n",
              "      <th>Europe</th>\n",
              "      <td>0.178344</td>\n",
              "      <td>0.383413</td>\n",
              "    </tr>\n",
              "    <tr>\n",
              "      <th>Japan</th>\n",
              "      <td>0.197452</td>\n",
              "      <td>0.398712</td>\n",
              "    </tr>\n",
              "    <tr>\n",
              "      <th>USA</th>\n",
              "      <td>0.624204</td>\n",
              "      <td>0.485101</td>\n",
              "    </tr>\n",
              "  </tbody>\n",
              "</table>\n",
              "</div>\n",
              "    <div class=\"colab-df-buttons\">\n",
              "\n",
              "  <div class=\"colab-df-container\">\n",
              "    <button class=\"colab-df-convert\" onclick=\"convertToInteractive('df-94513b2a-675a-445c-bd76-564f6b31cc7b')\"\n",
              "            title=\"Convert this dataframe to an interactive table.\"\n",
              "            style=\"display:none;\">\n",
              "\n",
              "  <svg xmlns=\"http://www.w3.org/2000/svg\" height=\"24px\" viewBox=\"0 -960 960 960\">\n",
              "    <path d=\"M120-120v-720h720v720H120Zm60-500h600v-160H180v160Zm220 220h160v-160H400v160Zm0 220h160v-160H400v160ZM180-400h160v-160H180v160Zm440 0h160v-160H620v160ZM180-180h160v-160H180v160Zm440 0h160v-160H620v160Z\"/>\n",
              "  </svg>\n",
              "    </button>\n",
              "\n",
              "  <style>\n",
              "    .colab-df-container {\n",
              "      display:flex;\n",
              "      gap: 12px;\n",
              "    }\n",
              "\n",
              "    .colab-df-convert {\n",
              "      background-color: #E8F0FE;\n",
              "      border: none;\n",
              "      border-radius: 50%;\n",
              "      cursor: pointer;\n",
              "      display: none;\n",
              "      fill: #1967D2;\n",
              "      height: 32px;\n",
              "      padding: 0 0 0 0;\n",
              "      width: 32px;\n",
              "    }\n",
              "\n",
              "    .colab-df-convert:hover {\n",
              "      background-color: #E2EBFA;\n",
              "      box-shadow: 0px 1px 2px rgba(60, 64, 67, 0.3), 0px 1px 3px 1px rgba(60, 64, 67, 0.15);\n",
              "      fill: #174EA6;\n",
              "    }\n",
              "\n",
              "    .colab-df-buttons div {\n",
              "      margin-bottom: 4px;\n",
              "    }\n",
              "\n",
              "    [theme=dark] .colab-df-convert {\n",
              "      background-color: #3B4455;\n",
              "      fill: #D2E3FC;\n",
              "    }\n",
              "\n",
              "    [theme=dark] .colab-df-convert:hover {\n",
              "      background-color: #434B5C;\n",
              "      box-shadow: 0px 1px 3px 1px rgba(0, 0, 0, 0.15);\n",
              "      filter: drop-shadow(0px 1px 2px rgba(0, 0, 0, 0.3));\n",
              "      fill: #FFFFFF;\n",
              "    }\n",
              "  </style>\n",
              "\n",
              "    <script>\n",
              "      const buttonEl =\n",
              "        document.querySelector('#df-94513b2a-675a-445c-bd76-564f6b31cc7b button.colab-df-convert');\n",
              "      buttonEl.style.display =\n",
              "        google.colab.kernel.accessAllowed ? 'block' : 'none';\n",
              "\n",
              "      async function convertToInteractive(key) {\n",
              "        const element = document.querySelector('#df-94513b2a-675a-445c-bd76-564f6b31cc7b');\n",
              "        const dataTable =\n",
              "          await google.colab.kernel.invokeFunction('convertToInteractive',\n",
              "                                                    [key], {});\n",
              "        if (!dataTable) return;\n",
              "\n",
              "        const docLinkHtml = 'Like what you see? Visit the ' +\n",
              "          '<a target=\"_blank\" href=https://colab.research.google.com/notebooks/data_table.ipynb>data table notebook</a>'\n",
              "          + ' to learn more about interactive tables.';\n",
              "        element.innerHTML = '';\n",
              "        dataTable['output_type'] = 'display_data';\n",
              "        await google.colab.output.renderOutput(dataTable, element);\n",
              "        const docLink = document.createElement('div');\n",
              "        docLink.innerHTML = docLinkHtml;\n",
              "        element.appendChild(docLink);\n",
              "      }\n",
              "    </script>\n",
              "  </div>\n",
              "\n",
              "\n",
              "<div id=\"df-b6d4594f-cd68-4127-b2e7-2fcb8e523334\">\n",
              "  <button class=\"colab-df-quickchart\" onclick=\"quickchart('df-b6d4594f-cd68-4127-b2e7-2fcb8e523334')\"\n",
              "            title=\"Suggest charts\"\n",
              "            style=\"display:none;\">\n",
              "\n",
              "<svg xmlns=\"http://www.w3.org/2000/svg\" height=\"24px\"viewBox=\"0 0 24 24\"\n",
              "     width=\"24px\">\n",
              "    <g>\n",
              "        <path d=\"M19 3H5c-1.1 0-2 .9-2 2v14c0 1.1.9 2 2 2h14c1.1 0 2-.9 2-2V5c0-1.1-.9-2-2-2zM9 17H7v-7h2v7zm4 0h-2V7h2v10zm4 0h-2v-4h2v4z\"/>\n",
              "    </g>\n",
              "</svg>\n",
              "  </button>\n",
              "\n",
              "<style>\n",
              "  .colab-df-quickchart {\n",
              "      --bg-color: #E8F0FE;\n",
              "      --fill-color: #1967D2;\n",
              "      --hover-bg-color: #E2EBFA;\n",
              "      --hover-fill-color: #174EA6;\n",
              "      --disabled-fill-color: #AAA;\n",
              "      --disabled-bg-color: #DDD;\n",
              "  }\n",
              "\n",
              "  [theme=dark] .colab-df-quickchart {\n",
              "      --bg-color: #3B4455;\n",
              "      --fill-color: #D2E3FC;\n",
              "      --hover-bg-color: #434B5C;\n",
              "      --hover-fill-color: #FFFFFF;\n",
              "      --disabled-bg-color: #3B4455;\n",
              "      --disabled-fill-color: #666;\n",
              "  }\n",
              "\n",
              "  .colab-df-quickchart {\n",
              "    background-color: var(--bg-color);\n",
              "    border: none;\n",
              "    border-radius: 50%;\n",
              "    cursor: pointer;\n",
              "    display: none;\n",
              "    fill: var(--fill-color);\n",
              "    height: 32px;\n",
              "    padding: 0;\n",
              "    width: 32px;\n",
              "  }\n",
              "\n",
              "  .colab-df-quickchart:hover {\n",
              "    background-color: var(--hover-bg-color);\n",
              "    box-shadow: 0 1px 2px rgba(60, 64, 67, 0.3), 0 1px 3px 1px rgba(60, 64, 67, 0.15);\n",
              "    fill: var(--button-hover-fill-color);\n",
              "  }\n",
              "\n",
              "  .colab-df-quickchart-complete:disabled,\n",
              "  .colab-df-quickchart-complete:disabled:hover {\n",
              "    background-color: var(--disabled-bg-color);\n",
              "    fill: var(--disabled-fill-color);\n",
              "    box-shadow: none;\n",
              "  }\n",
              "\n",
              "  .colab-df-spinner {\n",
              "    border: 2px solid var(--fill-color);\n",
              "    border-color: transparent;\n",
              "    border-bottom-color: var(--fill-color);\n",
              "    animation:\n",
              "      spin 1s steps(1) infinite;\n",
              "  }\n",
              "\n",
              "  @keyframes spin {\n",
              "    0% {\n",
              "      border-color: transparent;\n",
              "      border-bottom-color: var(--fill-color);\n",
              "      border-left-color: var(--fill-color);\n",
              "    }\n",
              "    20% {\n",
              "      border-color: transparent;\n",
              "      border-left-color: var(--fill-color);\n",
              "      border-top-color: var(--fill-color);\n",
              "    }\n",
              "    30% {\n",
              "      border-color: transparent;\n",
              "      border-left-color: var(--fill-color);\n",
              "      border-top-color: var(--fill-color);\n",
              "      border-right-color: var(--fill-color);\n",
              "    }\n",
              "    40% {\n",
              "      border-color: transparent;\n",
              "      border-right-color: var(--fill-color);\n",
              "      border-top-color: var(--fill-color);\n",
              "    }\n",
              "    60% {\n",
              "      border-color: transparent;\n",
              "      border-right-color: var(--fill-color);\n",
              "    }\n",
              "    80% {\n",
              "      border-color: transparent;\n",
              "      border-right-color: var(--fill-color);\n",
              "      border-bottom-color: var(--fill-color);\n",
              "    }\n",
              "    90% {\n",
              "      border-color: transparent;\n",
              "      border-bottom-color: var(--fill-color);\n",
              "    }\n",
              "  }\n",
              "</style>\n",
              "\n",
              "  <script>\n",
              "    async function quickchart(key) {\n",
              "      const quickchartButtonEl =\n",
              "        document.querySelector('#' + key + ' button');\n",
              "      quickchartButtonEl.disabled = true;  // To prevent multiple clicks.\n",
              "      quickchartButtonEl.classList.add('colab-df-spinner');\n",
              "      try {\n",
              "        const charts = await google.colab.kernel.invokeFunction(\n",
              "            'suggestCharts', [key], {});\n",
              "      } catch (error) {\n",
              "        console.error('Error during call to suggestCharts:', error);\n",
              "      }\n",
              "      quickchartButtonEl.classList.remove('colab-df-spinner');\n",
              "      quickchartButtonEl.classList.add('colab-df-quickchart-complete');\n",
              "    }\n",
              "    (() => {\n",
              "      let quickchartButtonEl =\n",
              "        document.querySelector('#df-b6d4594f-cd68-4127-b2e7-2fcb8e523334 button');\n",
              "      quickchartButtonEl.style.display =\n",
              "        google.colab.kernel.accessAllowed ? 'block' : 'none';\n",
              "    })();\n",
              "  </script>\n",
              "</div>\n",
              "\n",
              "    </div>\n",
              "  </div>\n"
            ],
            "application/vnd.google.colaboratory.intrinsic+json": {
              "type": "dataframe",
              "summary": "{\n  \"name\": \"train_dataset\",\n  \"rows\": 10,\n  \"fields\": [\n    {\n      \"column\": \"mean\",\n      \"properties\": {\n        \"dtype\": \"number\",\n        \"std\": 932.9385157280802,\n        \"min\": 0.17834394904458598,\n        \"max\": 2990.251592356688,\n        \"num_unique_values\": 10,\n        \"samples\": [\n          0.19745222929936307,\n          5.477707006369426,\n          15.55923566878981\n        ],\n        \"semantic_type\": \"\",\n        \"description\": \"\"\n      }\n    },\n    {\n      \"column\": \"std\",\n      \"properties\": {\n        \"dtype\": \"number\",\n        \"std\": 263.28841223336053,\n        \"min\": 0.38341303504510926,\n        \"max\": 843.8985961905663,\n        \"num_unique_values\": 10,\n        \"samples\": [\n          0.39871183066063187,\n          1.6997875727498173,\n          2.789229751888417\n        ],\n        \"semantic_type\": \"\",\n        \"description\": \"\"\n      }\n    }\n  ]\n}"
            }
          },
          "metadata": {},
          "execution_count": 15
        },
        {
          "output_type": "display_data",
          "data": {
            "text/plain": [
              "<google.colab._quickchart_helpers.SectionTitle at 0x7a05afbf3700>"
            ],
            "text/html": [
              "<h4 class=\"colab-quickchart-section-title\">Distributions</h4>\n",
              "<style>\n",
              "  .colab-quickchart-section-title {\n",
              "      clear: both;\n",
              "  }\n",
              "</style>"
            ]
          },
          "metadata": {}
        },
        {
          "output_type": "display_data",
          "data": {
            "text/plain": [
              "from matplotlib import pyplot as plt\n",
              "_df_0['mean'].plot(kind='hist', bins=20, title='mean')\n",
              "plt.gca().spines[['top', 'right',]].set_visible(False)"
            ],
            "text/html": [
              "      <div class=\"colab-quickchart-chart-with-code\" id=\"chart-b4a8a5be-6c91-4f43-a7c0-246e79fbce3b\">\n",
              "        <img style=\"width: 180px;\" src=\"data:image/png;base64,iVBORw0KGgoAAAANSUhEUgAAAiAAAAGrCAYAAAD5FiyaAAAAOXRFWHRTb2Z0d2FyZQBNYXRwbG90\n",
              "bGliIHZlcnNpb24zLjcuMSwgaHR0cHM6Ly9tYXRwbG90bGliLm9yZy/bCgiHAAAACXBIWXMAAA9h\n",
              "AAAPYQGoP6dpAAAc3klEQVR4nO3df5BVdf348dfdxW5psCuLEckvkR9qwi6SG9lHpRws+yFGkkMZ\n",
              "aBhmFjk6KTvZlOW4NWOW2jT+GMaSJsKSbEZSP0qklSX4A9RMDHEFkx9GsPgDb7Kc7x9+3Y8rSHtx\n",
              "z3vZu4/HzJ1hzz17zov3XJen9569t5BlWRYAAAlVdfcAAEDvI0AAgOQECACQnAABAJITIABAcgIE\n",
              "AEhOgAAAyQkQACA5AQIAJCdAAIDkBAgAkJwAAQCSEyBAp02aNCm++tWvxmmnnRb9+vWLwYMHxy9/\n",
              "+ct45JFH4gMf+ED07ds3GhsbY9WqVRER0dbWFj/4wQ/i8MMPj5qampgwYUIsWbKk/XiPPvponHDC\n",
              "CXHQQQdFTU1NvP/974/f//737fe3tLREoVCIn/3sZ1FfXx99+/aNiRMnxmOPPZb87w50LQEClGX+\n",
              "/Plx7rnnxtatW+PrX/96zJo1K+bOnRsLFiyIzZs3x5AhQ2LOnDkREfHd73435s+fH7fcckts2bIl\n",
              "Lr744jj55JPjySefbD/e3LlzY+3atbFp06Y46aST4lOf+lRs2rRpl3Pefvvt8dxzz8XgwYPjnHPO\n",
              "Sfp3BrpeIcuyrLuHAHqGSZMmxaGHHhrz5s2LiIjW1taora2NX/ziFzF9+vSIiLj55pvjrLPOii1b\n",
              "tkRNTU3cdNNN8ZGPfKT9GJMnT47jjz8+Lr744t2eo7a2NubPnx+f/OQno6WlJQ455JC4++6747jj\n",
              "jouIiMWLF8e0adPipZdeyvlvC+SpT3cPAPQsgwYNav/zAQccsNttzz//fGzcuDG2bdsW06ZNi6qq\n",
              "/3uy9ZVXXomRI0dGRMTatWvjwgsvjHvvvTe2bt0aVVVVsW3btl2eAXnPe97T4fjbt2+PHTt2RJ8+\n",
              "foRBT+W/XiAXtbW18fa3vz1uvfXW9mcv3uiLX/xi1NTUxPLly2PgwIGRZVkceOCB4YlZqHyuAQFy\n",
              "USwW40tf+lJceOGF8fe//z2yLIvt27fHPffcE0888UREvPoSzjvf+c448MAD48UXX4ympqZ44YUX\n",
              "unlyIAUBAuTm8ssvj+nTp8e0adOitrY2hg8fHs3NzfHKK69ERMRVV10VK1eujAMPPDCOOOKIOPjg\n",
              "g2Pw4MHdPDWQgotQAYDkPAMCACQnQACA5AQIAJCcAAEAkhMgAEByAgQASE6AAADJ7bMBcuWVV3b3\n",
              "CABATvbZAHn66ae7ewQAICf7bIAAAJVLgAAAyQkQACA5AQIAJCdAAIDkBAgAkJwAAQCSEyAAQHIC\n",
              "BABIToAAAMkJEAAgOQECACSXa4D87ne/i6OOOioaGhriyCOPjJ/97Gd5ng4A6CH65HXgLMvi9NNP\n",
              "jz/84Q8xbty4aGlpicMOOyymTp0affv2zeu0AEAPkFuAREQUCoXYunVrRERs27Yt6urqolgs7rJf\n",
              "qVSKUqnUYVtbW1ueowEA3Si3ACkUCrFw4cKYOnVqHHDAAbFly5ZYtGhRvO1tb9tl3+bm5rjkkks6\n",
              "bJs4cWJeo8XwuYtzOW7L9z6ey3EBoNLkdg3Ijh074tJLL41FixbF008/HUuWLInPf/7z8a9//WuX\n",
              "fZuamqK1tbXDrbGxMa/RAIBulluArFixIp599tk47rjjIiLi6KOPjsGDB8dDDz20y77FYjH69evX\n",
              "4VZdXZ3XaABAN8stQIYMGRLr16+Pv//97xERsXr16njyySdjzJgxeZ0SAOghcrsGZODAgXHdddfF\n",
              "Zz7zmaiqqoqdO3fGj3/84xg6dGhepwQAeohcfwtm+vTpMX369DxPAQD0QN4JFQBIToAAAMkJEAAg\n",
              "OQECACQnQACA5AQIAJCcAAEAkhMgAEByAgQASE6AAADJCRAAIDkBAgAkJ0AAgOQECACQnAABAJIT\n",
              "IABAcgIEAEhOgAAAyQkQACA5AQIAJCdAAIDkBAgAkJwAAQCSEyAAQHICBABIToAAAMkJEAAgOQEC\n",
              "ACQnQACA5AQIAJCcAAEAkhMgAEByAgQASE6AAADJCRAAILk+eR148+bNccIJJ7R//dJLL8WaNWti\n",
              "06ZN0b9//7xOCwD0ALkFSF1dXaxYsaL968svvzzuvvtu8QEA5BcgbzRv3rxobm7e7X2lUilKpVKH\n",
              "bW1tbSnGAgC6QZJrQO69997YsmVLfOITn9jt/c3NzVFTU9PhtmzZshSjAQDdIEmAzJs3L2bMmBF9\n",
              "+uz+CZempqZobW3tcGtsbEwxGgDQDXJ/CeaFF16Im266KZYvX/6m+xSLxSgWix22VVdX5z0aANBN\n",
              "cn8GZOHChVFfXx+HHXZY3qcCAHqI3ANk3rx5MWvWrLxPAwD0ILm/BHPvvffmfQoAoIfxTqgAQHIC\n",
              "BABIToAAAMkJEAAgOQECACQnQACA5AQIAJCcAAEAkhMgAEByAgQASE6AAADJCRAAIDkBAgAkJ0AA\n",
              "gOQECACQnAABAJITIABAcgIEAEhOgAAAyQkQACA5AQIAJCdAAIDkBAgAkJwAAQCSEyAAQHICBABI\n",
              "ToAAAMkJEAAgOQECACQnQACA5AQIAJCcAAEAkhMgAEByAgQASE6AAADJ5RogpVIpvvKVr8SoUaNi\n",
              "7Nixcfrpp+d5OgCgh+iT58Hnzp0bhUIhnnjiiSgUCrFhw4Y8TwcA9BC5BciLL74Y8+bNi2eeeSYK\n",
              "hUJERLz73e/e7b6lUilKpVKHbW1tbXmNBgB0s9xegnnyySejf//+cdlll8X73ve+OPbYY2PJkiW7\n",
              "3be5uTlqamo63JYtW5bXaABAN8stQHbs2BFPP/10HHHEEXH//ffHVVddFaeddlps3Lhxl32bmpqi\n",
              "tbW1w62xsTGv0QCAbpbbSzBDhw6Nqqqq+NznPhcREePHj49DDjkkHnnkkRg4cGCHfYvFYhSLxQ7b\n",
              "qqur8xoNAOhmuT0DMmDAgDjhhBPijjvuiIiIp556Kp566qk4/PDD8zolANBD5PpbMNdcc03MmjUr\n",
              "Lrrooqiqqoprr702Dj744DxPCQD0ALkGyIgRI2Lp0qV5ngIA6IG8EyoAkJwAAQCSEyAAQHICBABI\n",
              "ToAAAMkJEAAgOQECACQnQACA5AQIAJCcAAEAkhMgAEByAgQASE6AAADJCRAAIDkBAgAkJ0AAgOQE\n",
              "CACQnAABAJITIABAcgIEAEhOgAAAyQkQACA5AQIAJCdAAIDkBAgAkJwAAQCSEyAAQHICBABIToAA\n",
              "AMkJEAAgOQECACQnQACA5AQIAJCcAAEAkhMgAEByuQbI8OHDY8yYMdHQ0BANDQ2xcOHCPE8HAPQQ\n",
              "ffI+wcKFC6OhoSHv0wAAPUjuAdIZpVIpSqVSh21tbW3dNA0AkLfcrwGZMWNGjB07NmbNmhXPPffc\n",
              "bvdpbm6OmpqaDrdly5blPRoA0E1yDZB77rknHn744XjwwQdjwIABMXPmzN3u19TUFK2trR1ujY2N\n",
              "eY4GAHSjXF+CGTp0aERE7LfffnHeeefF6NGjd7tfsViMYrHYYVt1dXWeowEA3Si3Z0BefPHF2Lp1\n",
              "a/vXCxYsiPHjx+d1OgCgB8ntGZCNGzfGpz/96Whra4ssy2LEiBFx44035nU6AKAHyS1ARowYEQ89\n",
              "9FBehwcAejDvhAoAJCdAAIDkBAgAkJwAAQCSKztA7rjjjjzmAAB6kbID5Dvf+U6MGTMmrrzyyti2\n",
              "bVseMwEAFa7sAPnzn/8cv/zlL+PRRx+N0aNHx5e//OV47LHH8pgNAKhQe3UNyPjx4+P666+P22+/\n",
              "PW699dYYN25cTJ48OR555JGung8AqEB7FSB33XVXTJkyJaZOnRrnnntubNiwIc4+++z41Kc+1dXz\n",
              "AQAVqOx3Qj388MNjwIABMWfOnJg6dWr7h8adeuqpMW/evC4fEACoPGUHyM9//vOYMGHCbu+77bbb\n",
              "3vJAAEDlK/slmAceeCD+/e9/t3+9efPmuP7667t0KACgspUdID/5yU+if//+7V/X1dXFT37yky4d\n",
              "CgCobGUHSJZlu2xra2vrkmEAgN6h7AAZNGhQ3HTTTe1fL1y4MAYNGtSlQwEAla3si1B/9KMfxZQp\n",
              "U+LCCy+MiIj9998/fvvb33b5YABA5So7QA477LB47LHHYtWqVRERMWbMmPZfxQUA6IyyAyQiolAo\n",
              "RG1tbezYsSP++c9/RkTE0KFDu3QwAKBylR0gP/3pT2POnDmx3377RVXVq5eQFAqF2LRpU5cPBwBU\n",
              "prID5Lvf/W4sX748xowZk8c8AEAvUPZvwQwYMEB8AABvSdkBcsopp8SPfvSj2LRpU2zbtq39BgDQ\n",
              "WWW/BPONb3wjIiLOP//8KBQKkWVZFAoFb0YGAHRa2QGyc+fOPOYAAHqRsl+CiXj1A+nmz58fERFb\n",
              "t26N9evXd+lQAEBl26sPo/vCF74Q3/72tyPi1U/D/exnP9vVcwEAFazsALnuuuvir3/9a/Tr1y8i\n",
              "Ig499NB47rnnunwwAKBylR0gxWIx3vGOd3TY1qfPXr2hKgDQS5UdIAcddFA88cQTUSgUIuLVd0b1\n",
              "NuwAQDn26tNwp0+fHo8//ngMGTIk+vXrF7feemseswEAFarsABk5cmTcd999sWrVqsiyzKfhAgBl\n",
              "KztA1q5dGxERBxxwQESET8MFAMpWdoBMmDCh/R1QX3755XjppZeirq7Op+ECAJ1WdoC88VduFy1a\n",
              "FCtXruyygQCAyrdX74T6elOnTo3Fixd3xSwAQC9RdoC8/hNwt2zZErfffvt//TTcG264IQqFQtxy\n",
              "yy17OycAUEHKfgmmtra2/RqQ6urqGDVqVFx11VVvun9LS0tcf/31MXHixLc0KABQOXL9NNydO3fG\n",
              "WWedFVdffXVccMEFb7pfqVSKUqnUYVtbW1u5owEAPcRbvgZkT6644or44Ac/GBMmTNjjfs3NzVFT\n",
              "U9PhtmzZsjxHAwC6UdkBUlVVFdXV1bvcXtv+mkcffTRuvvnmuPjii//rMZuamqK1tbXDrbGxsdzR\n",
              "AIAeouyXYL7zne/E9u3b45xzzomIiGuuuSbe8Y53xHnnnddhvz/+8Y/R0tISo0aNioiIDRs2xOzZ\n",
              "s2P9+vXt3/uaYrEYxWKxwzbvrgoAlauQZVlWzjdMmDAhHnjggf+67Y0mTZoU5513XpxyyimdOs/5\n",
              "558fV1xxRTmjddrwufn82nDL9z6ey3EBoNKU/RLM888/3+FdTzdt2hTPP/98lw4FAFS2sl+CueCC\n",
              "C6K+vj4+9rGPRUTE7bffHt/+9rf/6/f94Q9/KPdUAECFKjtAzj777PjgBz8YS5cujYhXXyp573vf\n",
              "2+WDAQCVq+wAiYioq6uLsWPHxqRJk2LHjh3xn//8J972trd19WwAQIUq+xqQX//61zFx4sQ488wz\n",
              "IyLib3/7W6cvLAUAiNiLAGlubo4HH3wwamtrIyKivr4+nn766a6eCwCoYGUHSHV1ddTV1XXY5uUX\n",
              "AKAcZQdI3759Y+PGjVEoFCIiYsmSJdG/f/8uHwwAqFxlX4T6/e9/P0466aRYs2ZN/M///E889dRT\n",
              "sXhxPm/sBQBUprICZOfOndHW1hZLly6Ne++9N7Isi2OOOab9ehAAgM4oK0Cqqqpi9uzZsXLlyjjp\n",
              "pJPymgkAqHBlXwMyatSoWL16dR6zAAC9RNnXgPz73/+OhoaGOOaYY+Kd73xn+/ZFixZ16WAAQOXq\n",
              "dIDMnj07rrvuupg5c2acfPLJceCBB+Y5FwBQwTodIPfff39ERMycOTOOOuqoePDBB3MbCgCobGVf\n",
              "AxIRkWVZV88BAPQinX4GZPv27fHII49ElmXx8ssvt//5NePGjctlQACg8pQVICeffHL716//c6FQ\n",
              "iDVr1nTtZABAxep0gLS0tOQ4BgDQm+zVNSAAAG+FAAEAkhMgAEByAgQASE6AAADJCRAAIDkBAgAk\n",
              "J0AAgOQECACQnAABAJITIABAcgIEAEhOgAAAyQkQACA5AQIAJCdAAIDkBAgAkJwAAQCS65PnwU88\n",
              "8cTYsGFDVFVVRd++feOqq66K8ePH53lKAKAHyDVAbrrppqitrY2IiN/85jdxxhlnxMqVK/M8JQDQ\n",
              "A+QaIK/FR0REa2trFAqF3e5XKpWiVCp12NbW1pbnaABAN8o1QCIiZsyYEUuXLo2IiN/97ne73ae5\n",
              "uTkuueSSDtsmTpyY92gAQDfJ/SLUG2+8MdatWxeXXnppXHTRRbvdp6mpKVpbWzvcGhsb8x4NAOgm\n",
              "yX4LZubMmbF06dLYvHnzLvcVi8Xo169fh1t1dXWq0QCAxHILkK1bt8azzz7b/vUtt9wSdXV10b9/\n",
              "/7xOCQD0ELldA9La2hrTpk2L7du3R1VVVRx00EFx6623vumFqABA75FbgAwbNiyWLVuW1+EBgB7M\n",
              "O6ECAMkJEAAgOQECACQnQACA5AQIAJCcAAEAkhMgAEByAgQASE6AAADJCRAAIDkBAgAkJ0AAgOQE\n",
              "CACQnAABAJITIABAcgIEAEhOgAAAyQkQACA5AQIAJCdAAIDkBAgAkJwAAQCSEyAAQHICBABIToAA\n",
              "AMkJEAAgOQECACQnQACA5AQIAJCcAAEAkhMgAEByAgQASE6AAADJCRAAIDkBAgAkl1uAvPzyy3HK\n",
              "KafE6NGjo76+PiZPnhyrV6/O63QAQA+S6zMgs2fPjlWrVsXKlStjypQpcdZZZ+V5OgCgh8gtQN7+\n",
              "9rfHxz72sSgUChERMXHixGhpadntvqVSKbZt29bh1tbWltdoAEA3S3YNyJVXXhlTpkzZ7X3Nzc1R\n",
              "U1PT4bZs2bJUowEAiSUJkMsuuyxWr14dzc3Nu72/qakpWltbO9waGxtTjAYAdIM+eZ/g8ssvj0WL\n",
              "FsVdd90V+++//273KRaLUSwWO2yrrq7OezQAoJvkGiBXXHFFLFiwIO66666ora3N81QAQA+SW4A8\n",
              "88wzccEFF8SIESPiQx/6UES8+kzHfffdl9cpAYAeIrcAGTx4cGRZltfhAYAezDuhAgDJCRAAIDkB\n",
              "AgAkJ0AAgOQECACQnAABAJITIABAcgIEAEhOgAAAyQkQACA5AQIAJCdAAIDkBAgAkJwAAQCSEyAA\n",
              "QHICBABIToAAAMkJEAAgOQECACQnQACA5AQIAJCcAAEAkhMgAEByAgQASE6AAADJCRAAIDkBAgAk\n",
              "J0AAgOQECACQnAABAJITIABAcgIEAEhOgAAAyQkQACA5AQIAJJdrgMyZMyeGDx8ehUIhVqxYkeep\n",
              "AIAeJNcAOfXUU+NPf/pTDBs2LM/TAAA9TJ88D37cccd1ar9SqRSlUqnDtra2tjxGAgD2AbkGSGc1\n",
              "NzfHJZdc0mHbxIkTu2mavTd87uLcjt3yvY/ndmwA9k2V/O/KPnERalNTU7S2tna4NTY2dvdYAEBO\n",
              "9olnQIrFYhSLxQ7bqquru2kaACBv+8QzIABA75JrgJx99tkxePDgeOaZZ+IjH/lIjBw5Ms/TAQA9\n",
              "RK4vwVx77bV5Hh4A6KG8BAMAJCdAAIDkBAgAkJwAAQCSEyAAQHICBABIToAAAMkJEAAgOQECACQn\n",
              "QACA5AQIAJCcAAEAkhMgAEByAgQASE6AAADJCRAAIDkBAgAkJ0AAgOQECACQnAABAJITIABAcgIE\n",
              "AEhOgAAAyQkQACA5AQIAJCdAAIDkBAgAkJwAAQCSEyAAQHICBABIToAAAMkJEAAgOQECACQnQACA\n",
              "5AQIAJBcrgHyj3/8I4455pgYPXp0HH300fG3v/0tz9MBAD1ErgFy9tlnx+zZs+OJJ56Iiy66KM44\n",
              "44w8TwcA9BC5BcimTZvi/vvvj9NPPz0iIj796U/HunXrYvXq1bvsWyqVYtu2bR1ubW1teY0GAHSz\n",
              "PnkdeN26dTFo0KDo0+fVUxQKhRg6dGisXbs2Ro4c2WHf5ubmuOSSSzpsO+yww+L888/v8rna2tpi\n",
              "0LJl0djYGNXV1V1+/Lycf/6S5Odsa2uLZT1wrbqL9eo8a9V51qo8lbZeU3M89te+9r+5rNWwYcPi\n",
              "a1/72n/dr5BlWdZlZ32dBx54ID772c/GqlWr2rc1NjbG9773vfjwhz/cYd9SqRSlUqnDtmKxGMVi\n",
              "scvn2rZtW9TU1ERra2v069evy49fSaxVeaxX51mrzrNW5bFendfda5XbMyBDhgyJ9evXx44dO6JP\n",
              "nz6RZVmsXbs2hg4dusu+ecUGALBvyu0akHe9611x1FFHxc9//vOIiLj55ptj8ODBu7z8AgD0Prk9\n",
              "AxIRce2118YZZ5wRl112WfTr1y9uuOGGPE8HAPQQuQbImDFj4i9/+UuepyhbsViMb33rW17y6QRr\n",
              "VR7r1XnWqvOsVXmsV+d191rldhEqAMCb8VbsAEByAgQASE6AAADJCRAAILleFSA+nbej4cOHx5gx\n",
              "Y6KhoSEaGhpi4cKFEbHndepNazhnzpwYPnx4FAqFWLFiRfv2vV2fSl67N1urN3uMRfTetXr55Zfj\n",
              "lFNOidGjR0d9fX1Mnjy5/TOyNm3aFB/96Edj1KhRceSRR8Y999zT/n17e19Pt6f1mjRpUhxyyCHt\n",
              "j68f/vCH7d/XW9frxBNPjHHjxkVDQ0Mce+yx8dBDD0XEPvpzK+tFPvShD2U33HBDlmVZ9qtf/Sp7\n",
              "3/ve170DdbNhw4ZlDz300C7b97ROvWkN77777mzdunW7rNPerk8lr92brdWbPcayrPeu1fbt27PF\n",
              "ixdnO3fuzLIsy66++urs+OOPz7Isy84888zsW9/6VpZlWbZs2bLs4IMPzv7zn/+8pft6uj2t1/HH\n",
              "H5/95je/2e339db12rJlS/ufFy1alI0bNy7Lsn3z51avCZCNGzdmffv2zV555ZUsy7Js586d2cCB\n",
              "A7N//OMf3TxZ99ndPw57WqfeuoavX6e9XZ/esnadDRBr9X+WL1+eDRs2LMuyLDvggAOy9evXt993\n",
              "9NFHZ3feeedbuq/SvH699hQg1ivLbrjhhqy+vn6f/bnVa16C2dOn8/ZmM2bMiLFjx8asWbPiueee\n",
              "2+M6WcM9P46s3e698TEWsffrWImuvPLKmDJlSmzevDleeeWVePe7391+3/Dhw2Pt2rV7fV8lem29\n",
              "XjN37twYO3ZsnHbaabFmzZqIiF6/XjNmzIghQ4bEN7/5zZg/f/4++3Or1wQIu7rnnnvi4Ycfjgcf\n",
              "fDAGDBgQM2fO7O6RqDAeY3t22WWXxerVq6O5ubm7R+kR3rhe8+fPj8cffzwefvjhOPbYY+MTn/hE\n",
              "N0+4b7jxxhtj3bp1cemll8ZFF13U3eO8qV4TIK//dN6I2OOn8/YWr/3d99tvvzjvvPPij3/84x7X\n",
              "yRru+XFk7Xa1u8dYxN6vYyW5/PLLY9GiRXHbbbfF/vvvH3V1ddGnT5/YsGFD+z4tLS0xdOjQvb6v\n",
              "krxxvSJefRxFvPp/5l/5yldizZo1sXnzZuv1/82cOTOWLl0agwcP3id/bvWaAPHpvB29+OKLsXXr\n",
              "1vavFyxYEOPHj9/jOlnDPT+OrF1Hb/YYi9j7dawUV1xxRSxYsCDuvPPOqK2tbd8+bdq0uOaaayIi\n",
              "Yvny5fHPf/4zjj/++Ld0XyXY3Xrt2LEjNm7c2L7PzTffHAMHDoy6urqI6J3rtXXr1nj22Wfbv77l\n",
              "lluirq5u3/251SVXkvQQjz/+eDZx4sRs1KhR2YQJE7KHH364u0fqNk8++WTW0NCQjR07NjvyyCOz\n",
              "k08+OXvqqaeyLNvzOvWmNZw9e3Z28MEHZ9XV1dm73vWu7NBDD82ybO/Xp5LXbndrtafHWJb13rVa\n",
              "t25dFhHZiBEjsvr6+qy+vj5rbGzMsizLNmzYkE2ePDkbOXJkdsQRR2S///3v279vb+/r6d5svV54\n",
              "4YVswoQJ2ZFHHpmNGzcu+/CHP5ytWLGi/ft643q1tLRkRx99dPuanHDCCe0Xge+LP7d8GB0AkFyv\n",
              "eQkGANh3CBAAIDkBAgAkJ0AAgOQECACQnAABAJITIABAcgIEAEhOgAAAyQkQACC5/wfLytBqcaiT\n",
              "xQAAAABJRU5ErkJggg==\n",
              "\">\n",
              "      </div>\n",
              "      <script type=\"text/javascript\">\n",
              "        (() => {\n",
              "          const chartElement = document.getElementById(\"chart-b4a8a5be-6c91-4f43-a7c0-246e79fbce3b\");\n",
              "          async function getCodeForChartHandler(event) {\n",
              "            const chartCodeResponse =  await google.colab.kernel.invokeFunction(\n",
              "                'getCodeForChart', [\"chart-b4a8a5be-6c91-4f43-a7c0-246e79fbce3b\"], {});\n",
              "            const responseJson = chartCodeResponse.data['application/json'];\n",
              "            await google.colab.notebook.addCell(responseJson.code, 'code');\n",
              "          }\n",
              "          chartElement.onclick = getCodeForChartHandler;\n",
              "        })();\n",
              "      </script>\n",
              "      <style>\n",
              "        .colab-quickchart-chart-with-code  {\n",
              "            display: block;\n",
              "            float: left;\n",
              "            border: 1px solid transparent;\n",
              "        }\n",
              "\n",
              "        .colab-quickchart-chart-with-code:hover {\n",
              "            cursor: pointer;\n",
              "            border: 1px solid #aaa;\n",
              "        }\n",
              "      </style>"
            ]
          },
          "metadata": {}
        },
        {
          "output_type": "display_data",
          "data": {
            "text/plain": [
              "from matplotlib import pyplot as plt\n",
              "_df_1['std'].plot(kind='hist', bins=20, title='std')\n",
              "plt.gca().spines[['top', 'right',]].set_visible(False)"
            ],
            "text/html": [
              "      <div class=\"colab-quickchart-chart-with-code\" id=\"chart-76b2b3e2-0827-437a-9e4f-7820fa28a4ff\">\n",
              "        <img style=\"width: 180px;\" src=\"data:image/png;base64,iVBORw0KGgoAAAANSUhEUgAAAiAAAAGrCAYAAAD5FiyaAAAAOXRFWHRTb2Z0d2FyZQBNYXRwbG90\n",
              "bGliIHZlcnNpb24zLjcuMSwgaHR0cHM6Ly9tYXRwbG90bGliLm9yZy/bCgiHAAAACXBIWXMAAA9h\n",
              "AAAPYQGoP6dpAAAbsklEQVR4nO3de5CVdf3A8c/Z3Tx54SKrgYkLooAZd2Ij7QeWQ6U1YnS1TEwd\n",
              "nMoxJma0nZoCM9Yac9Icx0sMaReDctMZUZs0ulqCF1AxUS7LJUHKy6KFB3d5fn847biJyLF9vmfP\n",
              "7us188x4nvPs83yYpz3z7jzPnlPIsiwLAICEaio9AADQ9wgQACA5AQIAJCdAAIDkBAgAkJwAAQCS\n",
              "EyAAQHICBABIToAAAMkJEKDHee973xvz58+v9BhAjgQIkMzw4cPjhz/8YaXHAHoAAQIAJCdAgG53\n",
              "9dVXxzHHHBP9+vWLwYMHx9lnnx2nnHJKbN68OS644II45JBD4p3vfGdERLS3t8dFF10UQ4YMicMP\n",
              "PzyampoqPD2QggAButWTTz4ZF110Udx2223xwgsvxPr16+Occ86JO++8MxoaGuLqq6+OF198Mdas\n",
              "WRMREd/97ndj6dKl8dvf/ja2bt0adXV1cd9991X4XwHkTYAA3aquri6yLIs1a9bEzp0745BDDolp\n",
              "06a97vaLFy+OefPmxfHHHx/FYjHmz58fhx56aMKJgUoQIEC3Ovroo+PnP/95LF68OBoaGmLKlClx\n",
              "8803v+72W7dujaOPPrrzcW1tbTQ0NKQYFaigukoPAPQ+M2fOjJkzZ0Z7e3u0tLTEpz/96Zg8eXLU\n",
              "1Lz2//MMHTo0WltbOx93dHTEli1bEk4LVIJ3QIButXbt2rjjjjvixRdfjLq6uhgwYEBEvPLOxpAh\n",
              "Q2Lt2rVdtp89e3Z873vfi8cffzxKpVJccskl8eyzz1ZidCAhAQJ0q927d8e3v/3tOPLII6N///4x\n",
              "b968uOmmm+KYY46Jb3zjG3HbbbfFwIEDY9y4cRERcfHFF8esWbNi+vTpMXTo0Ni9e3e8+93vrvC/\n",
              "AshbIcuyrNJDAAB9i3dAAIDkBAgAkJwAAQCSEyAAQHICBABIToAAAMkJEAAguR4bIFdeeWWlRwAA\n",
              "ctJjA2TTpk2VHgEAyEmPDRAAoPcSIABAcgIEAEhOgAAAyQkQACA5AQIAJCdAAIDkBAgAkJwAAQCS\n",
              "EyAAQHICBABIToAAAMnlGiB33HFHTJo0KSZMmBBjxoyJG2+8Mc/DAQBVoi6vHWdZFmeeeWb87ne/\n",
              "i3HjxkVra2scd9xxMWvWrOjXr19ehwUAqkBuARIRUSgU4vnnn4+IiJ07d0Z9fX0Ui8XXbFcqlaJU\n",
              "KnVZ19HRkedoAEAF5RYghUIhlixZErNmzYqDDz44nnvuuWhpaYkDDjjgNds2NzfHggULuqybOnVq\n",
              "XqPF8K8uy2W/rZd9OJf9AkBvk9s9IO3t7XHppZdGS0tLbNq0Ke6555743Oc+F//85z9fs21TU1O0\n",
              "tbV1WRobG/MaDQCosNwCZNWqVfHUU0/FtGnTIiJiypQpMXTo0HjooYdes22xWIz+/ft3WWpra/Ma\n",
              "DQCosNwC5Kijjopt27bF3/72t4iIWLduXaxfvz5Gjx6d1yEBgCqR2z0ggwcPjuuvvz4++clPRk1N\n",
              "TezZsyeuvvrqaGhoyOuQAECVyPWvYM4444w444wz8jwEAFCFfBIqAJCcAAEAkhMgAEByAgQASE6A\n",
              "AADJCRAAIDkBAgAkJ0AAgOQECACQnAABAJITIABAcgIEAEhOgAAAyQkQACA5AQIAJCdAAIDkBAgA\n",
              "kJwAAQCSEyAAQHICBABIToAAAMkJEAAgOQECACQnQACA5AQIAJCcAAEAkhMgAEByAgQASE6AAADJ\n",
              "CRAAIDkBAgAkJ0AAgOQECACQnAABAJITIABAcnV57fiZZ56Jk08+ufPxv//979iwYUPs2LEjBg0a\n",
              "lNdhAYAqkFuA1NfXx6pVqzofX3755fH73/9efAAA+QXIf1u0aFE0Nzfv9blSqRSlUqnLuo6OjhRj\n",
              "AQAVkOQekHvvvTeee+65+MhHPrLX55ubm2PAgAFdlhUrVqQYDQCogCQBsmjRojjrrLOirm7vb7g0\n",
              "NTVFW1tbl6WxsTHFaABABeR+CebFF1+MpUuXxsqVK193m2KxGMViscu62travEcDACok93dAlixZ\n",
              "EuPHj4/jjjsu70MBAFUi9wBZtGhRnHvuuXkfBgCoIrlfgrn33nvzPgQAUGV8EioAkJwAAQCSEyAA\n",
              "QHICBABIToAAAMkJEAAgOQECACQnQACA5AQIAJCcAAEAkhMgAEByAgQASE6AAADJCRAAIDkBAgAk\n",
              "J0AAgOQECACQnAABAJITIABAcgIEAEhOgAAAyQkQACA5AQIAJCdAAIDkBAgAkJwAAQCSEyAAQHIC\n",
              "BABIToAAAMkJEAAgOQECACQnQACA5AQIAJCcAAEAkhMgAEByuQZIqVSKCy64IEaOHBljx46NM888\n",
              "M8/DAQBVoi7PnX/1q1+NQqEQTzzxRBQKhdi+fXuehwMAqkRuAfKvf/0rFi1aFFu3bo1CoRAREUOG\n",
              "DNnrtqVSKUqlUpd1HR0deY0GAFRYbpdg1q9fH4MGDYqFCxfGu971rvi///u/uOeee/a6bXNzcwwY\n",
              "MKDLsmLFirxGAwAqLLcAaW9vj02bNsXxxx8f999/f1x11VXxqU99Kp5++unXbNvU1BRtbW1dlsbG\n",
              "xrxGAwAqLLdLMA0NDVFTUxOf/exnIyJi4sSJcfTRR8cjjzwSgwcP7rJtsViMYrHYZV1tbW1eowEA\n",
              "FZbbOyCHHXZYnHzyyfHrX/86IiI2btwYGzdujHe84x15HRIAqBK5/hXMtddeG+eee25cfPHFUVNT\n",
              "E9ddd10ceeSReR4SAKgCuQbIiBEjYvny5XkeAgCoQj4JFQBIToAAAMkJEAAgOQECACQnQACA5AQI\n",
              "AJCcAAEAkhMgAEByAgQASE6AAADJCRAAIDkBAgAkJ0AAgOQECACQnAABAJITIABAcgIEAEhOgAAA\n",
              "yQkQACA5AQIAJCdAAIDkBAgAkJwAAQCSEyAAQHICBABIToAAAMkJEAAgOQECACQnQACA5AQIAJCc\n",
              "AAEAkhMgAEByAgQASE6AAADJCRAAILlcA2T48OExevTomDBhQkyYMCGWLFmS5+EAgCpRl/cBlixZ\n",
              "EhMmTMj7MABAFck9QPZHqVSKUqnUZV1HR0eFpgEA8pb7PSBnnXVWjB07Ns4999z4xz/+sddtmpub\n",
              "Y8CAAV2WFStW5D0aAFAhuQbIH/7wh3j44YfjwQcfjMMOOyxmz5691+2ampqira2ty9LY2JjnaABA\n",
              "BeV6CaahoSEiIt7ylrfE3LlzY9SoUXvdrlgsRrFY7LKutrY2z9EAgArK7R2Qf/3rX/H88893Pr75\n",
              "5ptj4sSJeR0OAKgiub0D8vTTT8fHPvax6OjoiCzLYsSIEXHTTTfldTgAoIrkFiAjRoyIhx56KK/d\n",
              "AwBVzCehAgDJCRAAIDkBAgAkJ0AAgOTKDpBf//rXecwBAPQhZQfIJZdcEqNHj44rr7wydu7cmcdM\n",
              "AEAvV3aA/PnPf46f//zn8eijj8aoUaPii1/8Yjz22GN5zAYA9FJv6h6QiRMnxg033BB33XVX3H77\n",
              "7TFu3LiYMWNGPPLII909HwDQC72pALn77rtj5syZMWvWrPjSl74U27dvj/PPPz8++tGPdvd8AEAv\n",
              "VPYnob7jHe+Iww47LC688MKYNWtW55fGffzjH49FixZ1+4AAQO9TdoD85Cc/icmTJ+/1uTvvvPN/\n",
              "HggA6P3KvgTzwAMPxLPPPtv5+JlnnokbbrihW4cCAHq3sgPkmmuuiUGDBnU+rq+vj2uuuaZbhwIA\n",
              "ereyAyTLstes6+jo6JZhAIC+oewAOeKII2Lp0qWdj5csWRJHHHFEtw4FAPRuZd+E+v3vfz9mzpwZ\n",
              "F110UUREHHTQQXHbbbd1+2AAQO9VdoAcd9xx8dhjj8XatWsjImL06NGdf4oLALA/yg6QiIhCoRAD\n",
              "Bw6M9vb2+Pvf/x4REQ0NDd06GADQe5UdID/60Y/iwgsvjLe85S1RU/PKLSSFQiF27NjR7cMBAL1T\n",
              "2QHyrW99K1auXBmjR4/OYx4AoA8o+69gDjvsMPEBAPxPyg6Q008/Pb7//e/Hjh07YufOnZ0LAMD+\n",
              "KvsSzNe+9rWIiPjKV74ShUIhsiyLQqHgw8gAgP1WdoDs2bMnjzkAgD6k7EswEa98Id2Pf/zjiIh4\n",
              "/vnnY9u2bd06FADQu72pL6M755xzYv78+RHxyrfhfuYzn+nuuQCAXqzsALn++uvjr3/9a/Tv3z8i\n",
              "Io455pj4xz/+0e2DAQC9V9kBUiwW48ADD+yyrq7uTX2gKgDQR5UdIIcffng88cQTUSgUIuKVT0b1\n",
              "MewAQDne1LfhnnHGGfH444/HUUcdFf3794/bb789j9kAgF6q7AA59thj47777ou1a9dGlmW+DRcA\n",
              "KFvZAbJ58+aIiDj44IMjInwbLgBQtrIDZPLkyZ2fgPrSSy/Fv//976ivr/dtuADAfis7QP77T25b\n",
              "Wlpi9erV3TYQAND7valPQn21WbNmxbJly7pjFgCgjyg7QF79DbjPPfdc3HXXXW/4bbiLFy+OQqEQ\n",
              "t95665udEwDoRcq+BDNw4MDOe0Bqa2tj5MiRcdVVV73u9q2trXHDDTfE1KlT/6dBAYDeI9dvw92z\n",
              "Z0+cd9558YMf/CDmzZv3utuVSqUolUpd1nV0dJQ7GgBQJf7ne0D25YorrogTTzwxJk+evM/tmpub\n",
              "Y8CAAV2WFStW5DkaAFBBZQdITU1N1NbWvmb5z/r/ePTRR+OWW26Jr3/962+4z6ampmhra+uyNDY2\n",
              "ljsaAFAlyr4Ec8kll8SuXbviC1/4QkREXHvttXHggQfG3Llzu2z3xz/+MVpbW2PkyJEREbF9+/aY\n",
              "M2dObNu2rfNn/6NYLEaxWOyyzqerAkDvVciyLCvnByZPnhwPPPDAG677byeddFLMnTs3Tj/99P06\n",
              "zle+8pW44ooryhltvw3/aj5/Ntx62Ydz2S8A9DZlX4J54YUXunzq6Y4dO+KFF17o1qEAgN6t7Esw\n",
              "8+bNi/Hjx8epp54aERF33XVXzJ8//w1/7ne/+125hwIAeqmyA+T888+PE088MZYvXx4Rr1wqeec7\n",
              "39ntgwEAvVfZARIRUV9fH2PHjo2TTjop2tvbY/fu3XHAAQd092wAQC9V9j0gv/zlL2Pq1Knx+c9/\n",
              "PiIi1qxZs983lgIARLyJAGlubo4HH3wwBg4cGBER48ePj02bNnX3XABAL1Z2gNTW1kZ9fX2XdS6/\n",
              "AADlKDtA+vXrF08//XQUCoWIiLjnnnti0KBB3T4YANB7lX0T6ne+85045ZRTYsOGDfHe9743Nm7c\n",
              "GMuW5fPBXgBA71RWgOzZsyc6Ojpi+fLlce+990aWZXHCCSd03g8CALA/ygqQmpqamDNnTqxevTpO\n",
              "OeWUvGYCAHq5su8BGTlyZKxbty6PWQCAPqLse0CeffbZmDBhQpxwwglxyCGHdK5vaWnp1sEAgN5r\n",
              "vwNkzpw5cf3118fs2bPjtNNOi0MPPTTPuQCAXmy/A+T++++PiIjZs2fHpEmT4sEHH8xtKACgdyv7\n",
              "HpCIiCzLunsOAKAP2e93QHbt2hWPPPJIZFkWL730Uud//8e4ceNyGRAA6H3KCpDTTjut8/Gr/7tQ\n",
              "KMSGDRu6dzIAoNfa7wBpbW3NcQwAoC95U/eAAAD8LwQIAJCcAAEAkhMgAEByAgQASE6AAADJCRAA\n",
              "IDkBAgAkJ0AAgOQECACQnAABAJITIABAcgIEAEhOgAAAyQkQACA5AQIAJCdAAIDkBAgAkFxdnjv/\n",
              "wAc+ENu3b4+ampro169fXHXVVTFx4sQ8DwkAVIFcA2Tp0qUxcODAiIj41a9+FWeffXasXr06z0MC\n",
              "AFUg1wD5T3xERLS1tUWhUNjrdqVSKUqlUpd1HR0deY4GAFRQrgESEXHWWWfF8uXLIyLijjvu2Os2\n",
              "zc3NsWDBgi7rpk6dmvdoAECF5H4T6k033RRbtmyJSy+9NC6++OK9btPU1BRtbW1dlsbGxrxHAwAq\n",
              "JNlfwcyePTuWL18ezzzzzGueKxaL0b9//y5LbW1tqtEAgMRyC5Dnn38+nnrqqc7Ht956a9TX18eg\n",
              "QYPyOiQAUCVyuwekra0tPvGJT8SuXbuipqYmDj/88Lj99ttf90ZUAKDvyC1Ahg0bFitWrMhr9wBA\n",
              "FfNJqABAcgIEAEhOgAAAyQkQACA5AQIAJCdAAIDkBAgAkJwAAQCSEyAAQHICBABIToAAAMkJEAAg\n",
              "OQECACQnQACA5AQIAJCcAAEAkhMgAEByAgQASE6AAADJCRAAIDkBAgAkJ0AAgOQECACQnAABAJIT\n",
              "IABAcgIEAEhOgAAAyQkQACA5AQIAJCdAAIDkBAgAkJwAAQCSEyAAQHICBABIToAAAMnlFiAvvfRS\n",
              "nH766TFq1KgYP358zJgxI9atW5fX4QCAKpLrOyBz5syJtWvXxurVq2PmzJlx3nnn5Xk4AKBK5BYg\n",
              "b33rW+PUU0+NQqEQERFTp06N1tbWvW5bKpVi586dXZaOjo68RgMAKizZPSBXXnllzJw5c6/PNTc3\n",
              "x4ABA7osK1asSDUaAJBYkgBZuHBhrFu3Lpqbm/f6fFNTU7S1tXVZGhsbU4wGAFRAXd4HuPzyy6Ol\n",
              "pSXuvvvuOOigg/a6TbFYjGKx2GVdbW1t3qMBABWSa4BcccUVcfPNN8fdd98dAwcOzPNQAEAVyS1A\n",
              "tm7dGvPmzYsRI0bE+973voh45Z2O++67L69DAgBVIrcAGTp0aGRZltfuAYAq5pNQAYDkBAgAkJwA\n",
              "AQCSEyAAQHICBABIToAAAMkJEAAgOQECACQnQACA5AQIAJCcAAEAkhMgAEByAgQASE6AAADJCRAA\n",
              "IDkBAgAkJ0AAgOQECACQnAABAJITIABAcgIEAEhOgAAAyQkQACA5AQIAJCdAAIDkBAgAkJwAAQCS\n",
              "EyAAQHICBABIToAAAMkJEAAgOQECACQnQACA5AQIAJCcAAEAkss1QC688MIYPnx4FAqFWLVqVZ6H\n",
              "AgCqSK4B8vGPfzz+9Kc/xbBhw/I8DABQZery3Pm0adP2a7tSqRSlUqnLuo6OjjxGAgB6gFwDZH81\n",
              "NzfHggULuqybOnVqhabpmYZ/dVku+2297MO57BeA/11er/0RlX/97xE3oTY1NUVbW1uXpbGxsdJj\n",
              "AQA56RHvgBSLxSgWi13W1dbWVmgaACBvPeIdEACgb8k1QM4///wYOnRobN26NT74wQ/Gsccem+fh\n",
              "AIAqkeslmOuuuy7P3QMAVcolGAAgOQECACQnQACA5AQIAJCcAAEAkhMgAEByAgQASE6AAADJCRAA\n",
              "IDkBAgAkJ0AAgOQECACQnAABAJITIABAcgIEAEhOgAAAyQkQACA5AQIAJCdAAIDkBAgAkJwAAQCS\n",
              "EyAAQHICBABIToAAAMkJEAAgOQECACQnQACA5AQIAJCcAAEAkhMgAEByAgQASE6AAADJCRAAIDkB\n",
              "AgAkJ0AAgORyDZAnn3wyTjjhhBg1alRMmTIl1qxZk+fhAIAqkWuAnH/++TFnzpx44okn4uKLL46z\n",
              "zz47z8MBAFUitwDZsWNH3H///XHmmWdGRMTHPvax2LJlS6xbt+4125ZKpdi5c2eXpaOjI6/RAIAK\n",
              "K2RZluWx4wceeCA+85nPxNq1azvXNTY2xmWXXRbvf//7u2w7f/78WLBgQZd1xx13XJxyyindPldH\n",
              "R0esWLEiGhsbo7a2ttv3T/dwnqqHc1U9nKvqUc3natiwYfHlL3/5DbfrEQFSKpWiVCp1WVcsFqNY\n",
              "LHb7XDt37owBAwZEW1tb9O/fv9v3T/dwnqqHc1U9nKvq0RfOVV1eOz7qqKNi27Zt0d7eHnV1dZFl\n",
              "WWzevDkaGhpes21esQEA9Ey53QPytre9LSZNmhQ/+clPIiLilltuiaFDh8axxx6b1yEBgCqR2zsg\n",
              "ERHXXXddnH322bFw4cLo379/LF68OM/DAQBVItcAGT16dPzlL3/J8xBlKxaL8c1vftMlnx7Oeaoe\n",
              "zlX1cK6qR184V7ndhAoA8Hp8FDsAkJwAAQCSEyAAQHICBABIrk8FiG/n7TleeumlOP3002PUqFEx\n",
              "fvz4mDFjRuf3BO3YsSM+9KEPxciRI2PMmDHxhz/8ofPn9vUc+Vq8eHEUCoW49dZbI8J56qlKpVJc\n",
              "cMEFMXLkyBg7dmzn93Ht6/XPa2N6d9xxR0yaNCkmTJgQY8aMiRtvvDEi+tjvVdaHvO9978sWL16c\n",
              "ZVmW/eIXv8je9a53VXagPmzXrl3ZsmXLsj179mRZlmU/+MEPsunTp2dZlmWf//zns29+85tZlmXZ\n",
              "ihUrsiOPPDLbvXv3Gz5HfjZu3Ji95z3vyaZOnZr96le/yrLMeeqp5s6dm11wwQWdv1vbtm3Lsmzf\n",
              "r39eG9Pas2dPduihh2arV6/OsuyV369isZjt3LmzT/1e9ZkAefrpp7N+/fplL7/8cpZlr/wPYPDg\n",
              "wdmTTz5Z4cnIsixbuXJlNmzYsCzLsuzggw/ufNHMsiybMmVK9pvf/OYNnyMfHR0d2cknn5zdf//9\n",
              "2fTp0zsDxHnqeV588cWsX79+WVtbW5f1+3r989qY3p49e7JBgwZlv//977Msy7LVq1dnb3/727NS\n",
              "qdSnfq9y/SCynmTLli1xxBFHRF3dK//kQqEQDQ0NsXnzZh8P3wNceeWVMXPmzHjmmWfi5ZdfjiFD\n",
              "hnQ+N3z48Ni8efM+nyM/V1xxRZx44okxefLkznXOU8+0fv36GDRoUCxcuDDuvvvuOPDAA2P+/Pkx\n",
              "cODA1339GzBggNfGxAqFQixZsiRmzZoVBx98cDz33HPR0tISL7zwQp/6veozAULPtXDhwli3bl3c\n",
              "c889sWvXrkqPw6s8+uijccstt1T/teY+or29PTZt2hTHH398XHbZZfHQQw/FjBkzYtmyZZUejVdp\n",
              "b2+PSy+9NFpaWmLatGmxcuXKOO2002LVqlWVHi2pPnMT6qu/nTci9vntvKRz+eWXR0tLS9x5551x\n",
              "0EEHRX19fdTV1cX27ds7t2ltbY2GhoZ9Pkc+/vjHP0Zra2uMHDkyhg8fHn/9619jzpw5sXTpUuep\n",
              "B2poaIiampr47Gc/GxEREydOjKOPPjo2bdr0uq9/XhvTW7VqVTz11FMxbdq0iIiYMmVKDB06NB5+\n",
              "+OG+9XtV4UtASU2fPr3LjVaTJ0+u7EB93Pe+971s0qRJ2bPPPttl/ezZs7vcaPX2t7+980arfT1H\n",
              "/l59D4jz1DPNmDEjW7ZsWZZlWbZhw4asvr4+27p16z5f/7w2prV9+/bskEMOyR577LEsy7LsySef\n",
              "zA499NBs06ZNfer3qk8FyOOPP55NnTo1GzlyZDZ58uTs4YcfrvRIfdaWLVuyiMhGjBiRjR8/Phs/\n",
              "fnzW2NiYZdkrv5wzZszIjj322Oz444/Pfvvb33b+3L6eI3+vDhDnqWdav359dtJJJ2VjxozJxo0b\n",
              "l/3yl7/Msmzfr39eG9P72c9+1nmOxowZk/30pz/Nsqxv/V75MjoAILk+cw8IANBzCBAAIDkBAgAk\n",
              "J0AAgOQECACQnAABAJITIABAcgIEAEhOgAAAyQkQACC5/weF+RWTikYCygAAAABJRU5ErkJggg==\n",
              "\">\n",
              "      </div>\n",
              "      <script type=\"text/javascript\">\n",
              "        (() => {\n",
              "          const chartElement = document.getElementById(\"chart-76b2b3e2-0827-437a-9e4f-7820fa28a4ff\");\n",
              "          async function getCodeForChartHandler(event) {\n",
              "            const chartCodeResponse =  await google.colab.kernel.invokeFunction(\n",
              "                'getCodeForChart', [\"chart-76b2b3e2-0827-437a-9e4f-7820fa28a4ff\"], {});\n",
              "            const responseJson = chartCodeResponse.data['application/json'];\n",
              "            await google.colab.notebook.addCell(responseJson.code, 'code');\n",
              "          }\n",
              "          chartElement.onclick = getCodeForChartHandler;\n",
              "        })();\n",
              "      </script>\n",
              "      <style>\n",
              "        .colab-quickchart-chart-with-code  {\n",
              "            display: block;\n",
              "            float: left;\n",
              "            border: 1px solid transparent;\n",
              "        }\n",
              "\n",
              "        .colab-quickchart-chart-with-code:hover {\n",
              "            cursor: pointer;\n",
              "            border: 1px solid #aaa;\n",
              "        }\n",
              "      </style>"
            ]
          },
          "metadata": {}
        },
        {
          "output_type": "display_data",
          "data": {
            "text/plain": [
              "<google.colab._quickchart_helpers.SectionTitle at 0x7a0637f84a30>"
            ],
            "text/html": [
              "<h4 class=\"colab-quickchart-section-title\">2-d distributions</h4>\n",
              "<style>\n",
              "  .colab-quickchart-section-title {\n",
              "      clear: both;\n",
              "  }\n",
              "</style>"
            ]
          },
          "metadata": {}
        },
        {
          "output_type": "display_data",
          "data": {
            "text/plain": [
              "from matplotlib import pyplot as plt\n",
              "_df_2.plot(kind='scatter', x='mean', y='std', s=32, alpha=.8)\n",
              "plt.gca().spines[['top', 'right',]].set_visible(False)"
            ],
            "text/html": [
              "      <div class=\"colab-quickchart-chart-with-code\" id=\"chart-670c1e5e-989a-460d-9b46-5e5aa52c1d98\">\n",
              "        <img style=\"width: 180px;\" src=\"data:image/png;base64,iVBORw0KGgoAAAANSUhEUgAAAi4AAAGkCAYAAAAWia78AAAAOXRFWHRTb2Z0d2FyZQBNYXRwbG90\n",
              "bGliIHZlcnNpb24zLjcuMSwgaHR0cHM6Ly9tYXRwbG90bGliLm9yZy/bCgiHAAAACXBIWXMAAA9h\n",
              "AAAPYQGoP6dpAAAejElEQVR4nO3df5CV5WH//c+yZzmrEjCFICguaFjM6CL4A0RTY0ykxU6/1Zpa\n",
              "U4PGTjL+eMY2GTId9XnGpu1YGWccMtZ0xqbTL2lDtTGjcaatP2JTo8k8ETDREp2qLLIsMeAqRQQj\n",
              "6+5yP3/4ZL8hwgqGw9kLXq+ZM8Oe6z5nr3NxZnlz3/eeu6WqqioAAAUY0+wJAADsK+ECABRDuAAA\n",
              "xRAuAEAxhAsAUAzhAgAUQ7gAAMUQLgBAMQ65cLnjjjuaPQUAoEEOuXDZsGFDs6cAADTIIRcuAMCh\n",
              "S7gAAMUQLgBAMYQLAFAM4QIAFEO4AADFEC4AQDGECwBQDOECABRDuAAAxRAuAMA+2TkwlNd29Gfn\n",
              "wFDT5lBr2ncGAIrw6vb+rHiyJw8/+0reGhjKEW2tubBrShafPT2TxtUP6lzscQEA9urV7f35k3ue\n",
              "zj+v7M2b/YOpjWnJm/2DWbFyQ66/++m8tqP/oM5HuAAAe7XiyZ50923Ph8bV88Gjxuaoei0fPGps\n",
              "PjSunu6+7Vnxww0HdT7CBQDYo50DQ3n42VfSXmtNrXX3ZKi1jkm91pqHntt8UM95ES4AwB7t6B/M\n",
              "WwNDGVvbcy7Ua2Py1ttD2dE/eNDmJFwAgD0aV6/liLbWvD24a4/j/YO7csTY1oyrH7zf9REuAMAe\n",
              "tbe1ZlHXMdk5OJTBod3jZXBoV/oHh3LhKVPS3tZ60Obk16EBgL264uwZWbl+a7r7tqdea029Nib9\n",
              "g+9ES+fkD2Tx2dMP6nzscQEA9mrSuHq+evlpWXzW9Ixrr2VwV5Vx7bUsPmt67rz8tIP+OS72uAAA\n",
              "I5o0rp4vLpyVaz/+4ezoH8y4eu2gHh76ZcIFANgn7W2tTQuWX3CoCAAohnABAIohXACAYggXAKAY\n",
              "wgUAKIZwAQCKIVwAgGI0NFwefPDBnH766Zk7d266urryj//4j0mSvr6+LFq0KJ2dnenq6soTTzwx\n",
              "/JiRxgCAw1vDPoCuqqosXrw43/ve93Lqqaemp6cnH/nIR3LJJZfkxhtvzIIFC/Lwww9n9erV+f3f\n",
              "//2sX78+bW1tI44BAIe3hu5xaWlpyeuvv54keeONNzJx4sTU6/Xce++9ufbaa5Mk8+bNy7HHHpvH\n",
              "H388SUYcAwAObw3b49LS0pJvfvObueSSS3LUUUdl69atuf/++7N9+/YMDAxkypQpw9vOmDEjvb29\n",
              "2bJly17H9qS/vz/9/f273Tc0NNSYFwQANF3D9rgMDg7mlltuyf33358NGzbku9/9bq644ooMDg4e\n",
              "sO+xdOnSTJgwYbfbqlWrDtjzAwCjS8PC5ZlnnsnPfvazfOxjH0vyzmGfadOmZc2aNanVatm8efPw\n",
              "tj09Peno6MjEiRP3OrYnN910U7Zt27bbbf78+Y16SQBAkzUsXI4//vhs2rQp//3f/50k6e7uzrp1\n",
              "63LSSSfl0ksvzV133ZUkWb16dV5++eWcd955STLi2K+q1+sZP378brfW1uZetRIAaJyGneNyzDHH\n",
              "5Gtf+1r+8A//MGPGjMmuXbvy1a9+NR0dHbnttttyxRVXpLOzM2PHjs2KFSuGf2topDEA4PDWUlVV\n",
              "1exJHEhLlizJsmXLmj0NAKABfHIuAFAM4QIAFEO4AADFEC4AQDGECwBQDOECABRDuAAAxRAuAEAx\n",
              "hAsAUAzhAgAUQ7gAAMUQLgBAMYQLAFAM4QIAFEO4AADFEC4AQDGECwBQDOECABRDuAAAxRAuAEAx\n",
              "hAsAUAzhAgAUQ7gAAMUQLgBAMYQLAFAM4QIAFEO4AADFEC4AQDGECwBQDOECABRDuAAAxRAuAEAx\n",
              "hAsAUAzhAgAUQ7gAAMUQLgBAMYQLAFAM4QIAFEO4AADFEC4AQDGECwBQDOECABRDuAAAxRAuAEAx\n",
              "hAsAUAzhAgAUQ7gAAMUQLgBAMYQLAFAM4QIAFEO4AADFEC4AQDGECwBQDOECABRDuAAAxRAuAEAx\n",
              "hAsAUAzhAgAUQ7gAAMUQLgBAMYQLAFAM4QIAFEO4AADFEC4AQDGECwBQDOECABRDuAAAxRAuAEAx\n",
              "hAsAUAzhAgAUQ7gAAMVoaLj09/fn+uuvT2dnZ2bPnp3FixcnSdauXZtzzjkns2bNyrx58/Lcc88N\n",
              "P2akMQDg8NbQcLnxxhvT0tKSF198MT/5yU9y++23J0muueaaXH311XnxxRdzww035Kqrrhp+zEhj\n",
              "AMDhraWqqqoRT/zmm29m6tSp+elPf5rx48cP39/X15eZM2fmf/7nf1Kr1VJVVaZOnZof/OAHGT9+\n",
              "/F7HZs6c+a7v0d/fn/7+/t3uu/nmm3PHHXc04iUBAE3WsD0u69aty2/8xm/k1ltvzZlnnplzzz03\n",
              "3/3ud7Nx48ZMnTo1tVotSdLS0pKOjo709vaOOLYnS5cuzYQJE3a7rVq1qlEvCQBosoaFy+DgYDZs\n",
              "2JCTTz45Tz31VP7mb/4ml112WQYHBw/Y97jpppuybdu23W7z588/YM8PAIwutUY9cUdHR8aMGZPP\n",
              "fOYzSZLTTjstJ5xwQjZs2JBNmzZlcHBw+HBQb29vOjo6Mn78+L2O7Um9Xk+9Xt/tvtbW1ka9JACg\n",
              "yRq2x2XSpEn55Cc/mUceeSRJsn79+qxfvz4f/ehHc/rpp2fFihVJkvvuuy/Tpk3LzJkzM3ny5L2O\n",
              "AQA07OTcJHnppZfyuc99Lq+99lrGjBmTP//zP8+nPvWpvPDCC7nqqquyZcuWjB8/PsuXL8/s2bOT\n",
              "ZMSxfbFkyZIsW7asUS8JAGiihoZLMwgXADh0+eRcAKAYwgUAKIZwAQCKIVwAgGIIFwCgGMIFACiG\n",
              "cAEAiiFcAIBiCBcAoBjCBQAohnABAIohXACAYggXAKAYwgUAKIZwAQCKIVwAgGIIFwCgGMIFACiG\n",
              "cAEAiiFcAIBiCBcAoBjCBQAohnABAIohXACAYggXAKAYwgUAKIZwAQCKIVwAgGIIFwCgGMIFACiG\n",
              "cAEAiiFcAIBiCBcAoBjCBQAohnABAIohXACAYggXAKAYwgUAKIZwAQCKIVwAgGIIFwCgGMIFACiG\n",
              "cAEAiiFcAIBiCBcAoBjCBQAohnABAIohXACAYggXAKAYwgUAKIZwAQCKIVwAgGIIFwCgGMIFACiG\n",
              "cAEAiiFcAIBiCBcAoBjCBQAohnABAIpR29cNn3jiiRHHP/axj/3akwEAGMk+h8uXvvSlJMnQ0FCe\n",
              "eeaZnHjiiWlpacm6desyd+7c/PjHP27YJAEAkv04VLR69eqsXr06c+fOzSOPPJLu7u6sXbs23/nO\n",
              "d3L66ac3co4AAEnexzkuTz31VBYuXDj89QUXXJDVq1cf0EkBAOzJfodLa2trHnvsseGvH3/88YwZ\n",
              "4xxfAKDx9vkcl1/427/923z6059OW1tbkmRwcDD/8i//csAnBgDwq/Y7XM4555ysW7cuzz//fJLk\n",
              "Ix/5yHDEAAA00n4f47n44ovT1taW2bNnZ/bs2Wlra8vFF1/cgKkBAOxuv8Olt7f3XfetW7fugEwG\n",
              "AGAk+3yo6O/+7u9y11135cUXX9zt15+3bduWk08+uSGTAwD4ZfscLosWLcpJJ52U6667Ll/5yleS\n",
              "JFu3bs2kSZNy9tlnN2yCAAC/sM/hMn369EyfPj0dHR2ZM2dOarVaurq6kiRXXnll/uqv/qphkwQA\n",
              "SN7HOS59fX05+uij8+CDD+aiiy7K2rVr8+1vf3vExyxfvjwtLS154IEHhp9j0aJF6ezsTFdX127X\n",
              "QRppDAA4vO13uAwMDCR556KLCxcuTFtbW2q1ve+46enpyd///d9nwYIFw/fdeOONWbBgQdauXZvl\n",
              "y5fn8ssvH37ekcYAgMPbfodLV1dXLrzwwvzbv/1bPvGJT+TnP//5XrfdtWtXPv/5z+fOO+9MvV4f\n",
              "vv/ee+/NtddemySZN29ejj322Dz++OPvOfar+vv788Ybb+x2Gxoa2t+XBAAUYr/D5etf/3quueaa\n",
              "PPbYYznyyCOzdevWLF26dI/bLlu2LB/96EdzxhlnDN+3ZcuWDAwMZMqUKcP3zZgxI729vSOO7cnS\n",
              "pUszYcKE3W6rVq3a35cEABRivz85t729fbcPnDvuuONy3HHHvWu7Z599Nvfdd19Dz1G56aabsmTJ\n",
              "kt3uu/nmmxv2/QCA5trvcNlX3//+99PT05POzs4kyebNm3P11VfnL//yL1Or1bJ58+bhPSs9PT3p\n",
              "6OjIxIkT9zq2J/V6fbdDUMk7F4EEAA5NDbus83XXXZdNmzalp6cnPT09WbBgQb72ta/luuuuy6WX\n",
              "Xpq77rorSbJ69eq8/PLLOe+885JkxDEA4PDWsD0uI7nttttyxRVXpLOzM2PHjs2KFSuGL9Q40hgA\n",
              "cHhrqaqqavYkDqQlS5Zk2bJlzZ4GANAADTtUBABwoAkXAKAYwgUAKIZwAQCKIVwAgGIIFwCgGMIF\n",
              "ACiGcAEAiiFcAIBiCBcAoBjCBQAohnABAIohXACAYggXAKAYwgUAKIZwAQCKIVwAgGIIFwCgGMIF\n",
              "ACiGcAEAiiFcAIBiCBcAoBjCBQAohnABAIohXACAYggXAKAYwgUAKIZwAQCKIVwAgGIIFwCgGMIF\n",
              "ACiGcAEAiiFcAIBiCBcAoBjCBQAohnABAIohXACAYggXAKAYwgUAKIZwAQCKIVwAgGIIFwCgGMIF\n",
              "ACiGcAEAiiFcAIBiCBcAoBjCBQAohnABAIohXACAYggXAKAYwgUAKIZwAQCKIVwAgGIIFwCgGMIF\n",
              "ACiGcAEAiiFcAIBiCBcAoBjCBQAohnABAIohXACAYggXAKAYwgUAKIZwAQCKIVwAgGIIFwCgGMIF\n",
              "ACiGcAEAiiFcAIBiCBcAoBgNC5edO3fm4osvzqxZszJnzpwsXLgw3d3dSZK+vr4sWrQonZ2d6erq\n",
              "yhNPPDH8uJHGAIDDW0P3uFx99dV54YUX8l//9V+56KKL8vnPfz5JcuONN2bBggVZu3Ztli9fnssv\n",
              "vzwDAwPvOQYAHN4aFi7t7e35nd/5nbS0tCRJFixYkJ6eniTJvffem2uvvTZJMm/evBx77LF5/PHH\n",
              "33MMADi81Q7WN7rjjjty0UUXZcuWLRkYGMiUKVOGx2bMmJHe3t4Rx/akv78//f39u903NDTUmBcA\n",
              "ADTdQTk599Zbb013d3eWLl16QJ936dKlmTBhwm63VatWHdDvAQCMHg0Pl9tvvz33339/HnrooRx5\n",
              "5JGZOHFiarVaNm/ePLxNT09POjo6Rhzbk5tuuinbtm3b7TZ//vxGvyQAoEkaGi7Lli3LPffck0cf\n",
              "fTRHH3308P2XXnpp7rrrriTJ6tWr8/LLL+e88857z7FfVa/XM378+N1ura2tjXxJAEATNewcl5/+\n",
              "9Kf50pe+lBNPPDHnn39+kndCY+XKlbnttttyxRVXpLOzM2PHjs2KFSvS1taWJCOOAQCHt4aFy7Rp\n",
              "01JV1R7HjjnmmHznO9/Z7zEA4PDmk3MBgGIIFwCgGMIFACiGcAEAiiFcAIBiCBcAoBjCBQAohnAB\n",
              "AIohXACAYggXAKAYwgUAKIZwAQCKIVwAgGIIFwCgGMIFACiGcAEAiiFcAIBiCBcAoBjCBQAohnAB\n",
              "AIohXACAYggXAKAYwgUAKIZwAQCKIVwAgGIIFwCgGMIFACiGcAEAiiFcRrGdA0N5bUd/dg4MNXsq\n",
              "ADAq1Jo9Ad7t1e39WfFkTx5+9pW8NTCUI9pac2HXlCw+e3omjas3e3oA0DT2uIwyr27vz5/c83T+\n",
              "eWVv3uwfTG1MS97sH8yKlRty/d1P57Ud/c2eIgA0jXAZZVY82ZPuvu350Lh6PnjU2BxVr+WDR43N\n",
              "h8bV0923PSt+uKHZUwSAphEuo8jOgaE8/Owraa+1pta6+19NrXVM6rXWPPTcZue8AHDYEi6jyI7+\n",
              "wbw1MJSxtT3/tdRrY/LW20PZ0T94kGcGAKODcBlFxtVrOaKtNW8P7trjeP/grhwxtjXj6s6pBuDw\n",
              "JFxGkfa21izqOiY7B4cyOLR7vAwO7Ur/4FAuPGVK2ttamzRDAGgu/3UfZa44e0ZWrt+a7r7tqdda\n",
              "U6+NSf/gO9HSOfkDWXz29GZPEQCaxh6XUWbSuHq+evlpWXzW9Ixrr2VwV5Vx7bUsPmt67rz8NJ/j\n",
              "AsBhzR6XUWjSuHq+uHBWrv34h7OjfzDj6jWHhwAgwmVUa29rFSwA8EscKgIAiiFcAIBiCBcAoBjC\n",
              "BQAohnABAIohXACAYggXAKAYwgUAKIZwAQCKIVwAgGIIFwCgGMIFACiGcAEAiiFcAIBiCJeDZOfA\n",
              "UF7b0Z+dA0PNngoAFKvW7Akc6l7d3p8VT/bk4WdfyVsDQzmirTUXdk3J4rOnZ9K4erOnBwBFscel\n",
              "gV7d3p8/uefp/PPK3rzZP5jamJa82T+YFSs35Pq7n85rO/qbPUUAKIpwaaAVT/aku297PjSung8e\n",
              "NTZH1Wv54FFj86Fx9XT3bc+KH25o9hQBoCjCpUF2Dgzl4WdfSXutNbXW3Ze51jom9VprHnpus3Ne\n",
              "AGA/CJcG2dE/mLcGhjK2tuclrtfG5K23h7Kjf/AgzwwAyiVcGmRcvZYj2lrz9uCuPY73D+7KEWNb\n",
              "M67u/GgA2FfCpUHa21qzqOuY7BwcyuDQ7vEyOLQr/YNDufCUKWlva23SDAGgPP6730BXnD0jK9dv\n",
              "TXff9tRrranXxqR/8J1o6Zz8gSw+e3qzpwgARbHHpYEmjavnq5eflsVnTc+49loGd1UZ117L4rOm\n",
              "587LT/M5LgCwn+xxabBJ4+r54sJZufbjH86O/sGMq9ccHgKA90m4HCTtba2CBQB+TQ4VvQ+uOwQA\n",
              "zWGPy35w3SEAaC57XPbRL647tOLJDXnjrYGMaclerztkjwwANIY9Lvto2aPP50frt2RXlYxpHcyY\n",
              "lpZMOKItHzyibfi6Q59ZMN0eGQBoIOHyHn7Y/Vr+5J4f57U3B4bvGxqqklTZsuPtvNk/mA+0t+Vf\n",
              "1/ws/+9LW/LSqzvSXmvN2NqY4T0yT67/n3zVrz8DwK9tVB4qWrt2bc4555zMmjUr8+bNy3PPPdeU\n",
              "efyw+7V85h9W7hYtv2yoqrJzYFd2Dgzl1e396e7b4UrQANBAozJcrrnmmlx99dV58cUXc8MNN+Sq\n",
              "q65qyjy+9K1nsqsaeZsqVbbvHMjOwV1pbxvjStAA0ECjLlz6+vry1FNPZfHixUmST33qU9m4cWO6\n",
              "u7vftW1/f3/eeOON3W5DQwcmDvreeCs/29b/ntvtqt651Wtj0l7b8+e0uBI0ABwYoy5cNm7cmKlT\n",
              "p6ZWe+f0m5aWlnR0dKS3t/dd2y5dujQTJkzY7bZq1aoDMo/1W36+z9vWay350AfqrgQNAA026sJl\n",
              "f9x0003Ztm3bbrf58+cfkOc+YeKR+7zt5WdNz/86daorQQNAg426XQDHH398Nm3alMHBwdRqtVRV\n",
              "ld7e3nR0dLxr23q9nnp999/UaW09MHEwefwROXZC/T0PF0374BH5v86fmSSuBA0ADTbq9rhMnjw5\n",
              "p59+elasWJEkue+++zJt2rTMnDnzoM/lK58+LWNa9j4+6cix+d9XzcukcXVXggaAg6Clqqr3+L2Z\n",
              "g++FF17IVVddlS1btmT8+PFZvnx5Zs+evU+PXbJkSZYtW3bA5rJy/ZZ84Z6ns/mN/7PnpbUl+b1T\n",
              "p+b/+V+n7DFIdg4MuRI0ADTAqDtUlCQnnXRSfvjDHzZ7GkmSs06YmCf/7wvS98ZbeXHz9kwaX8+M\n",
              "ieNGDBJXggaAxhiV4TIaTR5/RCaPP6LZ0wCAw9qoO8cFAGBvhAsAUAzhAgAUQ7gAAMUQLgBAMYQL\n",
              "AFAM4QIAFEO4AADFEC4AQDGECwBQjFF5kcVfxyWXXJIZM2Yc8OcdGhrKqlWrMn/+/LS2ug7RSKzV\n",
              "/rFe+85a7TtrtX+s175r1FpNnz49X/jCF95zu0MuXBrljTfeyIQJE7Jt27aMHz++2dMZ1azV/rFe\n",
              "+85a7TtrtX+s175r9lo5VAQAFEO4AADFEC4AQDGEyz6q1+v58pe/nHq93uypjHrWav9Yr31nrfad\n",
              "tdo/1mvfNXutnJwLABTDHhcAoBjCBQAohnABAIohXPbB2rVrc84552TWrFmZN29ennvuuWZPqalm\n",
              "zJiRk046KXPnzs3cuXPzzW9+M8nI63Q4reGf/umfZsaMGWlpackzzzwzfP/7XZ9Dee32tlZ7e48l\n",
              "h+9a7dy5MxdffHFmzZqVOXPmZOHChenu7k6S9PX1ZdGiRens7ExXV1eeeOKJ4ce937HSjbReH//4\n",
              "x3PCCScMv7++8pWvDD/ucF2v3/qt38qpp56auXPn5txzz83TTz+dZJT+3Kp4T+eff361fPnyqqqq\n",
              "6lvf+lZ15plnNndCTTZ9+vTq6aefftf9I63T4bSGjz/+eLVx48Z3rdP7XZ9Dee32tlZ7e49V1eG7\n",
              "Vm+99Vb17//+79WuXbuqqqqqO++8szrvvPOqqqqqP/7jP66+/OUvV1VVVatWraqOO+646u233/61\n",
              "xko30nqdd9551be//e09Pu5wXa+tW7cO//n++++vTj311KqqRufPLeHyHl555ZXqAx/4QDUwMFBV\n",
              "VVXt2rWrOuaYY6q1a9c2eWbNs6d/VEZap8N1DX95nd7v+hwua7ev4WKt/o/Vq1dX06dPr6qqqo46\n",
              "6qhq06ZNw2Pz5s2rHn300V9r7FDzy+s1UrhYr6pavnx5NWfOnFH7c8uhovewcePGTJ06NbVaLUnS\n",
              "0tKSjo6O9Pb2NnlmzXXllVdm9uzZ+dznPpdXX311xHWyhiO/j6zdnv3qeyx5/+t4KLrjjjty0UUX\n",
              "ZcuWLRkYGMiUKVOGx2bMmJHe3t73PXYo+sV6/cKNN96Y2bNn57LLLstLL72UJIf9el155ZU5/vjj\n",
              "c/PNN+cb3/jGqP25JVzYb0888UTWrFmTH//4x5k0aVI++9nPNntKHGK8x0Z26623pru7O0uXLm32\n",
              "VIrwq+v1jW98I88//3zWrFmTc889N7/7u7/b5BmODv/0T/+UjRs35pZbbskNN9zQ7OnslXB5D8cf\n",
              "f3w2bdqUwcHBJElVVent7U1HR0eTZ9Y8v3jtbW1t+eIXv5jvf//7I66TNRz5fWTt3m1P77Hk/a/j\n",
              "oeT222/P/fffn4ceeihHHnlkJk6cmFqtls2bNw9v09PTk46Ojvc9dij51fVK3nkfJe/sCbj++uvz\n",
              "0ksvZcuWLdbr//fZz342jz32WKZNmzYqf24Jl/cwefLknH766VmxYkWS5L777su0adMyc+bMJs+s\n",
              "Od588828/vrrw1/fc889Oe2000ZcJ2s48vvI2u1ub++x5P2v46Fi2bJlueeee/Loo4/m6KOPHr7/\n",
              "0ksvzV133ZUkWb16dV5++eWcd955v9bYoWBP6zU4OJhXXnlleJv77rsvxxxzTCZOnJjk8Fyv119/\n",
              "PT/72c+Gv37ggQcyceLE0ftz64CcKXOIe/7556sFCxZUnZ2d1RlnnFGtWbOm2VNqmnXr1lVz586t\n",
              "Zs+eXXV1dVW/93u/V61fv76qqpHX6XBaw6uvvro67rjjqtbW1mry5MnVhz/84aqq3v/6HMprt6e1\n",
              "Guk9VlWH71pt3LixSlKdeOKJ1Zw5c6o5c+ZU8+fPr6qqqjZv3lwtXLiwmjlzZnXyySdX//mf/zn8\n",
              "uPc7Vrq9rdeOHTuqM844o+rq6qpOPfXU6hOf+ET1zDPPDD/ucFyvnp6eat68ecNr8slPfnL45PjR\n",
              "+HPLtYoAgGI4VAQAFEO4AADFEC4AQDGECwBQDOECABRDuAAHVUtLS/76r/86Z511VmbMmJEHHngg\n",
              "S5cuzZlnnpnOzs5873vfG972kUceyW/+5m/mjDPOyPz58/PYY48lSTZv3pzzzz8/Z5xxRk455ZRc\n",
              "f/312bVrV5Lk61//ei644IL80R/9UWbPnp0zzzxz+CPdgfIJF+CgGzduXFauXJl/+Id/yOLFizN1\n",
              "6tQ89dRTufXWW/Nnf/ZnSZKXXnopf/EXf5EHH3wwP/rRj3L33Xfn8ssvT39/f44++uj867/+a370\n",
              "ox9lzZo16enpyb333jv8/KtXr86tt96an/zkJ7ngggty2223NeulAgdYrdkTAA4/l112WZLkzDPP\n",
              "zJtvvplPf/rTSZL58+dn7dq1SZKHH3443d3d+djHPjb8uDFjxqS3tzfHHXdcbrjhhvzgBz9IVVXp\n",
              "6+tLV1fX8POcffbZOeGEE4b/fOeddx7Mlwc0kHABDrr29vYkSWtr67u+/uXrmyxcuDB33333ux5/\n",
              "yy23pK+vLytXrkx7e3uWLFmSnTt3vuv5f/U5gfI5VASMSr/927+d//iP/8iaNWuG71u1alWSZOvW\n",
              "rZkyZUra29uzefPmfOtb32rWNIGDzB4XYFSaOXNm7r777lxzzTX5+c9/nrfffjunnXZa7r777nzh\n",
              "C1/IH/zBH+SUU07JsccemwsuuKDZ0wUOEtcqAgCK4VARAFAM4QIAFEO4AADFEC4AQDGECwBQDOEC\n",
              "ABRDuAAAxRAuAEAxhAsAUAzhAgAU4/8DVnpRl9tIj18AAAAASUVORK5CYII=\n",
              "\">\n",
              "      </div>\n",
              "      <script type=\"text/javascript\">\n",
              "        (() => {\n",
              "          const chartElement = document.getElementById(\"chart-670c1e5e-989a-460d-9b46-5e5aa52c1d98\");\n",
              "          async function getCodeForChartHandler(event) {\n",
              "            const chartCodeResponse =  await google.colab.kernel.invokeFunction(\n",
              "                'getCodeForChart', [\"chart-670c1e5e-989a-460d-9b46-5e5aa52c1d98\"], {});\n",
              "            const responseJson = chartCodeResponse.data['application/json'];\n",
              "            await google.colab.notebook.addCell(responseJson.code, 'code');\n",
              "          }\n",
              "          chartElement.onclick = getCodeForChartHandler;\n",
              "        })();\n",
              "      </script>\n",
              "      <style>\n",
              "        .colab-quickchart-chart-with-code  {\n",
              "            display: block;\n",
              "            float: left;\n",
              "            border: 1px solid transparent;\n",
              "        }\n",
              "\n",
              "        .colab-quickchart-chart-with-code:hover {\n",
              "            cursor: pointer;\n",
              "            border: 1px solid #aaa;\n",
              "        }\n",
              "      </style>"
            ]
          },
          "metadata": {}
        },
        {
          "output_type": "display_data",
          "data": {
            "text/plain": [
              "<google.colab._quickchart_helpers.SectionTitle at 0x7a05afbf35e0>"
            ],
            "text/html": [
              "<h4 class=\"colab-quickchart-section-title\">Values</h4>\n",
              "<style>\n",
              "  .colab-quickchart-section-title {\n",
              "      clear: both;\n",
              "  }\n",
              "</style>"
            ]
          },
          "metadata": {}
        },
        {
          "output_type": "display_data",
          "data": {
            "text/plain": [
              "from matplotlib import pyplot as plt\n",
              "_df_3['mean'].plot(kind='line', figsize=(8, 4), title='mean')\n",
              "plt.gca().spines[['top', 'right']].set_visible(False)"
            ],
            "text/html": [
              "      <div class=\"colab-quickchart-chart-with-code\" id=\"chart-b6165b49-5e84-4174-86ce-3eb127f95dfd\">\n",
              "        <img style=\"width: 180px;\" src=\"data:image/png;base64,iVBORw0KGgoAAAANSUhEUgAAAqUAAAFuCAYAAAC4H2HYAAAAOXRFWHRTb2Z0d2FyZQBNYXRwbG90\n",
              "bGliIHZlcnNpb24zLjcuMSwgaHR0cHM6Ly9tYXRwbG90bGliLm9yZy/bCgiHAAAACXBIWXMAAA9h\n",
              "AAAPYQGoP6dpAABDTElEQVR4nO3deXTU9b3/8dcsyWSfAZJAIBsIQVlDQiLycwG1au2iV2tt6wKt\n",
              "Ctwu1mot0mO9re0FPbV6rb230lOLC9blll5vj23v1VoUvUVJgICCsqghAQIJIZnsk8zy+yMzQwJJ\n",
              "yDLJd5bn45w5kPnO8h6GTF75LO+vyefz+QQAAAAYyGx0AQAAAAChFAAAAIYjlAIAAMBwhFIAAAAY\n",
              "jlAKAAAAwxFKAQAAYDhCKQAAAAxHKAUAAIDhCKUAAAAwHKEUAAAAhiOUAgAAwHCEUgAAABiOUAoA\n",
              "IbJkyRJ95zvf0Y033qi0tDRlZ2frxRdf1Pvvv68LLrhAqampKi0t1b59+yRJHo9Hv/jFL3TeeefJ\n",
              "breruLhYb7zxRvDxPvjgA1122WXKyMiQ3W7X+eefr7///e/B45WVlTKZTHrmmWc0f/58paamatGi\n",
              "Rdq7d++Yv3YAGClCKQCE0HPPPadvfetbamxs1L333qvbbrtN9913n1544QXV19crJydHd955pyTp\n",
              "pz/9qZ577jm98soramho0P33368vfvGL+vjjj4OPd99996mqqkq1tbX67Gc/q3/6p39SbW3tGc/5\n",
              "P//zP6qrq1N2drb++Z//eUxfMwCEgsnn8/mMLgIAosGSJUt0zjnn6KmnnpIkOZ1OORwO/f73v9dX\n",
              "v/pVSdKmTZt0++23q6GhQXa7XS+//LKuvPLK4GN85jOf0SWXXKL777+/z+dwOBx67rnn9IUvfEGV\n",
              "lZWaOnWq3nrrLV188cWSpD//+c+64YYb1NbWNsqvFgBCy2p0AQAQTbKysoJ/T05O7vO65uZmHT9+\n",
              "XE1NTbrhhhtkNp+atOrq6tL06dMlSVVVVfrBD36gf/zjH2psbJTZbFZTU9MZI6WTJ0/u9fjt7e1y\n",
              "u92yWvmIBxA5+MQCAAM4HA4lJCTo1VdfDY5ynu6OO+6Q3W5XWVmZJk6cKJ/Pp3HjxokJLgDRiDWl\n",
              "AGAAm82mVatW6Qc/+IE+/PBD+Xw+tbe3a8uWLdq/f7+k7un/lJQUjRs3Tq2trVqzZo1aWloMrhwA\n",
              "RgehFAAM8sgjj+irX/2qbrjhBjkcDuXn52vdunXq6uqSJP3yl7/Url27NG7cOM2aNUtTpkxRdna2\n",
              "wVUDwOhgoxMAAAAMx0gpAAAADEcoBQAAgOEIpQAAADAcoRQAAACGI5QCAADAcIRSAAAAGI5QCgAA\n",
              "AMNFfCh9/PHHjS4BAAAAIxTxofTQoUNGlwAAAIARivhQCgAAgMhHKAUAAIDhCKUAAAAwHKEUAAAA\n",
              "hiOUAgAAwHCEUgAAABiOUAoAAADDDTmUXnHFFZo3b54KCwt10UUXaefOnZKkAwcOaPHixSooKFBJ\n",
              "SYn27NkTvM9wjwEAACA2DDmUvvzyy9q9e7cqKip09913a/ny5ZKklStXasWKFdq/f79Wr14dvH4k\n",
              "xwAAABAbhhxKHQ5H8O9Op1Mmk0m1tbUqLy/XzTffLEm6/vrrVV1drYMHDw77GAAAAGKHdTh3uvXW\n",
              "W7V582ZJ0l/+8hdVV1crKytLVmv3w5lMJuXm5qqqqkp2u31Yx6ZPn37G87pcLrlcrl7XeTye4bwE\n",
              "AAAAhJFhbXR69tlnVV1drZ/97GdavXp1qGvq17p162S323tdtm3bNmbPDyD6VZ9s07d+v0P7jzcb\n",
              "XQoAxJQR7b5ftmyZNm/erOzsbNXU1MjtdkuSfD6fqqqqlJubq5ycnGEd68uaNWvkdDp7XUpLS0fy\n",
              "EgCglyff+lh/3l2jJ/7OMiIAGEtDCqWNjY06evRo8OtXXnlFEyZMUGZmpoqKirRx40ZJ0qZNm5Sd\n",
              "na3p06cP+1hfbDab0tLSel0sFsuwXjgA9GX7oQZJ0g7/nwCAsTGkNaVOp1M33HCD2tvbZTablZGR\n",
              "oVdffVUmk0nr16/X8uXLtXbtWqWlpWnDhg3B+w33GACMJWd7l/b5p+2PNLbreFOHJqYlGFwVAMQG\n",
              "k8/n8xldxEjcfffdevTRR40uA0AU2LyvVl/fUBb8+tc3Femzc7MMrAgAYgdndAIAv+2VvafstzOF\n",
              "DwBjhlAKAH5llSclSaVTx0uSdlQRSgFgrBBKAUBSl8erXYcbJUkrL54mSfrgSJNcbnohA8BYIJQC\n",
              "gKQ9R5vU0eWVIylOS2dmKj0lXp0erz440mR0aQAQEwilACCp3D91X5w7TmazSQtyx0miNRQAjBVC\n",
              "KQBIKvdvclqY372etDivO5Sy2QkAxgahFEDM8/l8Kj8UCKXdYbTIP1K6vapBEd45DwAiAqEUQMw7\n",
              "VN+mEy0uxVvMmjvFLkmal22X1WxSXbNLhxvaDa4QAKIfoRRAzAuMks7NtishrvvUxQlxFs2enCaJ\n",
              "1lAAMBYIpQBi3vZD3ZucFvrXkQYU5bHZCQDGCqEUQMwr829yKj4tlAa+3lHVONYlAUDMIZQCiGmN\n",
              "bZ06WNsi6cxQGtjstLemSW2d7jGvDQBiCaEUQEwLtHyalpGsCSm2XscmOxKVZU+Qx+vT7sNOI8oD\n",
              "gJhBKAUQ0wJT96evJw0ItoZiXSkAjCpCKYCYFtzk5G+afzo2OwHA2CCUAohZLrdHu/zT8v2PlDok\n",
              "dbeFook+AIweQimAmPXBEac63V5NSI7X1PTkPm8ze7Jd8VazGtq69OmJ1jGuEABiB6EUQMwq79EK\n",
              "ymQy9XmbeKtZ8/xneaI1FACMHkIpgJh1+vnu+xNoFcVmJwAYPYRSADHJ5/MFQ2ZxXt+bnAIW+Hfg\n",
              "7+R0owAwagilAGLSJydadbK1UzarWXOmpA1426I8hyRp3/FmNXV0jUF1ABB7CKUAYtJ2/3rS+dkO\n",
              "2ayWAW+bmZqg3PFJ8vmkXdWNY1AdAMQeQimAmFRW2d2ftPgs60kDAq2hWFcKAKODUAogJgXCZckg\n",
              "QymbnQBgdBFKAcSc+haXPvH3HA2cRvRsApudKqoa5fXSRB8AQo1QCiDmBFpBzchMkSMpflD3OXdS\n",
              "qpLiLWp2uXWgtmU0ywOAmEQoBRBztgf7kw7cCqonq8Ws+dkOSd2nHAUAhBahFEDMKfdvcurvfPf9\n",
              "YV0pAIweQimAmNLR5dH7R5ySzn4mp9MF+pUyUgoAoUcoBRBTdh92qsvjU0aqTbnjk4Z03wU53SH2\n",
              "k7pWNbR2jkZ5ABCzCKUAYkr5oVNT9yaTaUj3HZccr3MykiVJO6sZLQWAUCKUAogp5ZWB890Pbeo+\n",
              "INBCinWlABBahFIAMcPr9fVomj/4nfc9sdkJAEYHoRRAzPi4rkXO9i4lxlk0a3LasB6jyB9Kd1U7\n",
              "5fZ4Q1keAMQ0QimAmFHmn7ovzHEozjK8j7/pGSlKTbCqvcujj441h7I8AIhphFIAMSO4yWmIraB6\n",
              "MptNwVOO0hoKAEKHUAogZgTWgQ53k1NAMZudACDkCKUAYkJtc4cO1bfJZDq1LnS4aKIPAKE3pFDa\n",
              "0dGha6+9VgUFBZo/f74+85nP6ODBg5KkJUuWaOrUqSosLFRhYaEee+yx4P1qa2t11VVXacaMGZoz\n",
              "Z462bNkyqGMAECrb/etJZ05MVVpC3IgeqzDHIZNJqj7ZrtrmjlCUBwAxb8gjpStWrNC+ffu0a9cu\n",
              "XXPNNbr99tuDxx577DFVVFSooqJC3/ve94LX33fffVq0aJEOHDigDRs26Gtf+5q6urrOegwAQqXc\n",
              "P9U+kvWkAakJcZo5MVWStONQ44gfDwAwxFCakJCgq6++OngWlEWLFqmysvKs93v55Ze1atUqSVJJ\n",
              "SYkmT56st95666zHACBUyiu7NzkNtz/p6QJLAJjCB4DQGNGa0scff1zXXHNN8Ov77rtPc+fO1Y03\n",
              "3qhPPvlEklRfX6+uri5NmjQpeLv8/HxVVVUNeKwvLpdLTU1NvS4ej2ckLwFADGjv9GjP0SZJI9/k\n",
              "FMBmJwAIrWGH0rVr1+rgwYNat26dJOm5557TRx99pN27d+uiiy7S5z//+ZAVGbBu3TrZ7fZel23b\n",
              "toX8eQBEl4rqRrm9Pk1KS9AUR2JIHjMwUvr+Eadcbn45BoCRGlYofeSRR/THP/5Rf/3rX5WUlCRJ\n",
              "ysnJkSSZTCZ9+9vf1ieffKL6+npNmDBBVqtVx44dC96/srJSubm5Ax7ry5o1a+R0OntdSktLh/MS\n",
              "AMSQwNT9wvxxweVHI5U/IUnjk+PV6fYGR2EBAMM35FD66KOP6oUXXtDrr78uh8MhSXK73Tp+/Hjw\n",
              "Nps2bdLEiRM1YcIESdINN9ygJ598UpJUVlamI0eO6JJLLjnrsdPZbDalpaX1ulgslqG+BAAxJrjJ\n",
              "KURT91L3L+BFuQ5J0g6m8AFgxKxDufHhw4d1zz33aNq0aVq6dKmk7qD497//XZ/73OfkcrlkNpuV\n",
              "np6uP/3pT8H7Pfzww7rllls0Y8YMxcfHa+PGjYqLizvrMQAYKY/XF9yMtDBEm5wCivLG6W8f1rLZ\n",
              "CQBCYEihNDs7Wz6fr89j5eXl/d5v4sSJeu2114Z8DABGav/xZjV3uJUcb9G5k1JD+thFPTY7+Xy+\n",
              "kC0NAIBYxBmdAES1wNT9gtxxslpC+5E3P9shi9mk400uHXXSRB8ARoJQCiCqbfdvcgpVK6ieEuMt\n",
              "mj05TRLrSgFgpAilAKJamf/0oqFqmn+6IvqVAkBIEEoBRK0aZ7uONLbLbJIK/TvlQ40zOwFAaBBK\n",
              "AUStcv8o6XlZaUqxDWlf56AF2kLtPdqk9k6a6APAcBFKAUStwJT6aE3dS9IUR6Imptnk9vq0+3Dj\n",
              "qD0PAEQ7QimAqFV+aPQ2OQV0N9EPTOE3jtrzAEC0I5QCiEotLrf2+k//uTB/9EKpdCr0stkJAIaP\n",
              "UAogKlVUNcrr655ez7InjupzLfCPlO6sauj3BCMAgIERSgFEpcDU/WiPkkrSnClpireYVd/aqUP1\n",
              "baP+fAAQjQilAKJSYOf9wlFcTxpgs1o0N9suidZQADBchFIAUcft8WqnPxwuHMWd9z0FWkOxrhQA\n",
              "hodQCiDqfHSsWa2dHqXarCqYmDomz8lmJwAYGUIpgKhT7j/f/YK8cbKYTWPynIG2UPuPN6u5o2tM\n",
              "nhMAogmhFEDUKQ80zR+D9aQBmWkJyh6XKK9P2lXtHLPnBYBoQSgFEFV8Pl9wk1PxGOy87+lUE32m\n",
              "8AFgqAilAKLKkcZ2HWvqkMVsUmGOY0yfm3WlADB8hFIAUSUQCOdMTlNSvHVMn7uoRxN9r5cm+gAw\n",
              "FIRSAFElOHWfNzatoHo6NytViXEWNXW49XFdy5g/PwBEMkIpgKhSVjl2Z3I6XZzFrPk5NNEHgOEg\n",
              "lAKIGk0dXdp3vFnS2JzJqS+BKXzWlQLA0BBKAUSNnVWN8vmk3PFJykxLMKSGwGanHVWNhjw/AEQq\n",
              "QimAqBFomm/UKKkkLfCPlB6sbVFjW6dhdQBApCGUAogagU1OY3W++76MT47XtPRkSd0jtwCAwSGU\n",
              "AogKXR6vKqobJRmzyamnBTTRB4AhI5QCiAp7jzapvcujtASrpmekGFoLTfQBYOgIpQCiQuB89wvz\n",
              "x8tsNhlaS1GeQ5K0q7pRbo/X0FoAIFIQSgFEhe2Hujc5FRu4ySlgRmaqUm1WtXZ6gi2qAAADI5QC\n",
              "iHg+n09lgU1OYRBKLWaTCnMdkmgNBQCDRSgFEPGqT7arrtmlOItJ83McRpcj6VQT/R2sKwWAQSGU\n",
              "Aoh45f6p+zlT7EqIsxhcTbdTTfQJpQAwGIRSABEvnKbuAwpzHTKZpEP1baprdhldDgCEPUIpgIgX\n",
              "2ORkZNP806UlxKkgM1USo6UAMBiEUgARzdnWpf3HWySFx877ngKtoQilAHB2hFIAEW17Vfco6dT0\n",
              "ZKWn2Ayupjc2OwHA4BFKAUS08jBcTxpQ5K9p92GnOt000QeAgRBKAUS0U2dyCr9QOi09WY6kOLnc\n",
              "Xu2taTK6HAAIa4RSABGr0+3VrupGSVJxXvhscgowmUxM4QPAIA0plHZ0dOjaa69VQUGB5s+fr898\n",
              "5jM6ePCgJKm2tlZXXXWVZsyYoTlz5mjLli3B+w33GAAM5IOjTrncXo1LitM5GclGl9OnwOar7Wx2\n",
              "AoABDXmkdMWKFdq3b5927dqla665Rrfffrsk6b777tOiRYt04MABbdiwQV/72tfU1dU1omMAMJDt\n",
              "/vWkxXnjZTKZDK6mb4GR0p2MlALAgIYUShMSEnT11VcHP/wXLVqkyspKSdLLL7+sVatWSZJKSko0\n",
              "efJkvfXWWyM6BgADKasM9CcNv/WkAfNz7LKYTTrq7NDRxnajywGAsGUdyZ0ff/xxXXPNNaqvr1dX\n",
              "V5cmTZoUPJafn6+qqqphH+uLy+WSy9X7zCgej2ckLwFAhPL5fNruH30sCeNQmhRv1XlZqfrgSJN2\n",
              "VDVosiPR6JIAICwNe6PT2rVrdfDgQa1bty6U9Qxo3bp1stvtvS7btm0bs+cHED4q69tU39qpeKtZ\n",
              "c6bYjS5nQKc2OzUaWwgAhLFhhdJHHnlEf/zjH/XXv/5VSUlJmjBhgqxWq44dOxa8TWVlpXJzc4d9\n",
              "rC9r1qyR0+nsdSktLR3OSwAQ4QJT9/Om2GWzWgyuZmBsdgKAsxtyKH300Uf1wgsv6PXXX5fD4Qhe\n",
              "f8MNN+jJJ5+UJJWVlenIkSO65JJLRnTsdDabTWlpab0uFkt4/zACMDoCm5zC6Xz3/QmMlO496lRH\n",
              "F0uOAKAvQ1pTevjwYd1zzz2aNm2ali5dKqk7KL733nt6+OGHdcstt2jGjBmKj4/Xxo0bFRcXJ0nD\n",
              "PgYA/Sk/5N/kFIZncjpd9rhEZaTaVNfs0vtHnCqJgCANAGNtSKE0OztbPp+vz2MTJ07Ua6+9FtJj\n",
              "ANCXk62d+riuVdKpqfFw1t1E36H/3XNcOw41EEoBoA+c0QlAxAnsup+emaJxyfEGVzM4wXWl9CsF\n",
              "gD4RSgFEnEiaug8IhNIdVY39zjgBQCwjlAKIOOXBMzlFTiidPdmuOItJJ1pcqj5JE30AOB2hFEBE\n",
              "6ejy6P3DTkmKqLWZCXGWYD/V7VUnDa4GAMIPoRRARPngiFOdHq/SU+KVNyHJ6HKGhCb6ANA/QimA\n",
              "iFLWY+reZDIZXM3QsNkJAPpHKAUQUbb7NzlF0tR9QGCk9KNjTWp1uQ2uBgDCC6EUQMTwen3BUcZI\n",
              "2uQUMMmeoCmORHl90q7qRqPLAYCwQigFEDE+OdGihrYu2axmzZ5sN7qcYVmQ65Ak7ahiCh8AeiKU\n",
              "AogYgVZQhTkOxVsj8+OLdaUA0LfI/FQHEJPK/UFuYX7kTd0HBELpzupGeb000QeAAEIpgIhRXhk4\n",
              "k1PkbXIKOC8rTQlxZjW2demTE61GlwMAYYNQCiAi1DW7VFnfJpPp1C72SBRnMWtetkOStIMpfAAI\n",
              "IpQCiAiBNZgFmamyJ8UZXM3IBJvos9kJAIIIpQAiQmDqvjiC15MGsNkJAM5EKAUQEQKbnEqiIJQG\n",
              "2kIdqG2Rs73L2GIAIEwQSgGEvfZOj/YcdUqK7E1OAekpNuVPSJIk7WQKHwAkEUoBRIBdhxvV5fEp\n",
              "M9Wm7HGJRpcTEqfWlTYaWwgAhAlCKYCwtz04dT9eJpPJ4GpCo8i/rpQd+ADQjVAKIOwFNzlF4Pnu\n",
              "+xN4LRXVjfLQRB8ACKUAwpvX6wuOlEbymZxOVzAxVSk2q1pcbu0/3mx0OQBgOEIpgLB2oLZFTR1u\n",
              "JcVbNCsrzehyQsZiNqkwxyGJ1lAAIBFKAYS58kPdU/eFOQ5ZLdH1kVXkbw1FE30AIJQCCHPllf6p\n",
              "+yhaTxrAZicAOIVQCiCsBUZKF+ZHfn/S0y3I6Q6llfVtqm9xGVwNABiLUAogbB1v6lD1yXaZTafO\n",
              "ghRN7ElxmpGZIol+pQBAKAUQtgJT9zMnpSk1Ic7gakbHqSb6TOEDiG2EUgBhKzB1Hw3nu+9PoF8p\n",
              "O/ABxDpCKYCwFQhq0dQ0/3SBzU67Dzeqy+M1uBoAMA6hFEBYanW5tedok6To3OQUMC09WfbEOHV0\n",
              "efVhTZPR5QCAYQilAMLSLv/pNyfbEzTFkWh0OaPGbDYF+5UyhQ8glhFKAYSl8sDUfRSPkgac2uzU\n",
              "aGwhAGAgQimAsFRW6e9PGsXrSQOKaaIPAIRSAOHH4/Vpp3/UcGEU77wPmJ/jkNkkHWls1zFnh9Hl\n",
              "AIAhCKUAws6+Y81qcbmVYrPq3ElpRpcz6pJ7vE76lQKIVYRSAGEn0J90Qa5DFrPJ4GrGRlGeQxJT\n",
              "+ABiF6EUQNgJnMlpYV70b3IKCDbRZ6QUQIwilAIIO+WBTU4xsJ40oDi3O4DvOdKkji6PwdUAwNgb\n",
              "Uii98847lZ+fL5PJpIqKiuD1+fn5mjlzpgoLC1VYWKiXXnopeOzAgQNavHixCgoKVFJSoj179gzq\n",
              "GIDYdLSxXUedHbKYTSrMcRhdzpjJGZ+o9JR4dXq82nPUaXQ5ADDmhhRKv/SlL+mdd95RXl7eGcde\n",
              "euklVVRUqKKiQjfeeGPw+pUrV2rFihXav3+/Vq9ereXLlw/qGIDYFOhPOisrTck2q8HVjB2TyRTs\n",
              "V0oTfQCxaEih9OKLL1Z2dvagb19bW6vy8nLdfPPNkqTrr79e1dXVOnjw4IDHAMSuwNR9NJ/vvj9F\n",
              "wX6ljcYWAgAGCNma0ltvvVVz587Vbbfdprq6OklSdXW1srKyZLV2j3aYTCbl5uaqqqpqwGP9cblc\n",
              "ampq6nXxeFh7BUSTwCankhg4k9Ppem528vl8BlcDAGMrJKF0y5Yt2r17t3bs2KH09HQtW7YsFA97\n",
              "hnXr1slut/e6bNu2bVSeC8DYa+7o0kfHmiTF1iangLlT7LKaTaprdulwQ7vR5QDAmApJKM3NzZUk\n",
              "xcXF6a677tLbb78tScrJyVFNTY3cbrckyefzqaqqSrm5uQMe68+aNWvkdDp7XUpLS0PxEgCEgZ1V\n",
              "jfL6pOxxiZqYlmB0OWMuIc6i2VPskmiiDyD2jDiUtra2qrGxMfj1Cy+8oAULFkiSMjMzVVRUpI0b\n",
              "N0qSNm3apOzsbE2fPn3AY/2x2WxKS0vrdbFYLCN9CQDCRGCTUyxO3QcU5Tok0UQfQOwZ0tbWlStX\n",
              "6s9//rOOHTumK6+8UqmpqXrttdd0/fXXy+PxyOfzadq0aXr22WeD91m/fr2WL1+utWvXKi0tTRs2\n",
              "bBjUMQCxZ/uh2N3kFFCcN04b/q+SJvoAYs6QQun69ev7vH7nzp393mfmzJnaunXrkI8BiC1uj1c7\n",
              "qxolxeZ60oBAW6gPa5rV1ulWUnzstMUCENs4oxOAsNAdwjxKTbCqIDPV6HIMM9mRqCx7gjxen3ZV\n",
              "00QfQOwglAIIC+U9pu7NZpPB1Rgr2K+UKXwAMYRQCiAsBPqTLozh9aQBgSl8NjsBiCWEUgCG8/l8\n",
              "wZHShTG88z6guMdIKU30AcQKQikAwx1uaNfxJpesZpPmZzuMLsdws7LSZLOa1dDWpU9PtBpdDgCM\n",
              "CUIpAMMFRklnT7ErMZ7ew/FWs+ZldzfR384UPoAYQSgFYLjg+e5ZTxoUXFfqb5MFANGOUArAcIHR\n",
              "wFjuT3q64A58RkoBxAhCKQBDOdu7tO94sySpOI9NTgGBkdL9tc1q6ugyuBoAGH2EUgCG6t5hLuVP\n",
              "SFJGqs3ocsJGRqpNueOT5PNJFUzhA4gBhFIAhtruX0/KKOmZAq2h2OwEIBYQSgEYqqwy0J+U9aSn\n",
              "K8p1SOLMTgBiA6EUgGG6PF7tOtwoSSohlJ4hsNmpoqpRXi9N9AFEN0IpAMPsOdqkji6vHElxmpae\n",
              "YnQ5YWfmxFQlxVvU7HLrQG2L0eUAwKgilAIwTLl/6r44d5zMZpPB1YQfq8WswhyHJNaVAoh+hFIA\n",
              "hgk0zed89/071USfUAoguhFKARjC5/OpnKb5Z1VME30AMYJQCsAQh+rbdKLFpXiLWXOn2I0uJ2wt\n",
              "8O/A/+REq062dhpbDACMIkIpAEMERknnZtuVEGcxuJrw5UiK1zkZyZKknUzhA4hihFIAhth+yN+f\n",
              "NI+p+7MJTuETSgFEMUIpAEOUBc/kRCg9m8BmJ3bgA4hmhFIAY66xrVMH/X03CaVnF/g32lXtlNvj\n",
              "NbgaABgdhFIAYy4w4jctI1kTUmwGVxP+zslIUVqCVe1dHn10rNnocgBgVBBKAYy5wNQ960kHx2w2\n",
              "aQFT+ACiHKEUwJgLbnKiaf6g0UQfQLQjlAIYUy63R7sOOyUxUjoUgXWljJQCiFaEUgBj6oMjTnW6\n",
              "vZqQHK+p6clGlxMx5ufYZTJJhxvaVdvUYXQ5ABByhFIAY6q8Rysok8lkcDWRIzUhTjMnpkpiCh9A\n",
              "dCKUAhhTnO9++E410W80thAAGAWEUgBjxufzBddEFuexyWmoaKIPIJoRSgGMmU9OtOpka6dsVrPm\n",
              "TEkzupyIExgpff+wUy63x+BqACC0CKUAxsx2/3rS+dkO2awWg6uJPHkTkjQ+OV6dHq/2HG0yuhwA\n",
              "CClCKYAxU1bZ3Z+0mPWkw2IymU71K2UKH0CUIZQCGDOBtZAlhNJhK8pzSGIHPoDoQygFMCbqW1z6\n",
              "5ESrpFMbdjB0xT02O/l8PoOrAYDQIZQCGBOBVlAzMlPkSIo3uJrINS/bIavZpONNLh110kQfQPQg\n",
              "lAIYE9uD/UlpBTUSifEWzZrc3bmA1lAAogmhFMCYKPdvcuJ89yPHZicA0WhIofTOO+9Ufn6+TCaT\n",
              "KioqgtcfOHBAixcvVkFBgUpKSrRnz54RHwMQPTq6PHr/iFMSZ3IKhaLgmZ0IpQCix5BC6Ze+9CW9\n",
              "8847ysvL63X9ypUrtWLFCu3fv1+rV6/W8uXLR3wMQPTYfdipLo9PGak25Y5PMrqciBdoor/3aJPa\n",
              "O2miDyA6DCmUXnzxxcrOzu51XW1trcrLy3XzzTdLkq6//npVV1fr4MGDwz4GILqUHzo1dW8ymQyu\n",
              "JvJNtidoYppNbq9Puw83Gl0OAITEiNeUVldXKysrS1arVVJ3c+fc3FxVVVUN+1h/XC6Xmpqael08\n",
              "HkYJgHBXXhk43z1T96FgMpmC/5bbmcIHECUiaqPTunXrZLfbe122bdtmdFkABuD1+no0zWfnfaic\n",
              "2uzUaGwhABAiIw6lOTk5qqmpkdvtliT5fD5VVVUpNzd32Mf6s2bNGjmdzl6X0tLSkb4EAKPo47oW\n",
              "Odu7lBh3qpURRq7nZiea6AOIBiMOpZmZmSoqKtLGjRslSZs2bVJ2dramT58+7GP9sdlsSktL63Wx\n",
              "WCwjfQkARlGZf+p+fo5dcZaImpwJa7MnpyneYtbJ1k4dqm8zuhwAGLEh/YRYuXKlsrOzdfjwYV15\n",
              "5ZXBALl+/XqtX79eBQUFeuihh7Rhw4bgfYZ7DEB0CGxyYuo+tGxWi+Zm2yXRRB9AdLAO5cbr16/v\n",
              "8/qZM2dq69atIT0GIDoEAhObnEKvOG+cth9q0I6qBl1fnH32OwBAGGMuDcCoqW3u0KH6NplMp9ZA\n",
              "InSKch2SGCkFEB0IpQBGzXb/etKZE1OVlhBncDXRJ7ADf9/xZjV3dBlcDQCMDKEUwKgp94/gcWrR\n",
              "0ZGZlqDscYny+aRd1U6jywGAESGUAhg15ZWBMzmxyWm0BJvoM4UPIMIRSgGMivZOj/YcbZLESOlo\n",
              "CjbR58xOACIcoRTAqKiobpTb69OktARNcSQaXU7UKu7RRN/rpYk+gMhFKAUwKgJT98X542QymQyu\n",
              "JnqdOylViXEWNXe49XFdi9HlAMCwEUoBjIrAJqcSWkGNKqvFrPk5NNEHEPkIpQBCzuP1Bdc4LuRM\n",
              "TqOOdaUAogGhFEDI7T/erOYOt5LiLTp3UqrR5UQ9duADiAaEUgAhF5i6L8odJ6uFj5nRtsA/Uvpx\n",
              "Xasa2zoNrgYAhoefFgBCbntgkxPrScfE+OR4TUtPliTtrGo0thgAGCZCKYCQK6vkTE5jrYgpfAAR\n",
              "jlAKIKSOOTt0pLFdZtOpaWWMPjY7AYh0hFIAIVV+qHvq/rysNKXYrAZXEzsCSyUqqhvl9ngNrgYA\n",
              "ho5QCiCkygNT96wnHVMzMlOUarOqrdOjfcebjS4HAIaMUAogpAIjpfQnHVtms0mFuQ5J0g7WlQKI\n",
              "QIRSACHT4nJr79EmSWxyMsKpdaWNxhYCAMNAKAUQMhVVjfL6pCmORGXZE40uJ+bQRB9AJCOUAgiZ\n",
              "U1P3jJIaoTDXIZNJqjrZprpml9HlAMCQEEoBhExghI5NTsZIS4hTQWb3aV1pDQUg0hBKAYSE2+MN\n",
              "brApzmOTk1ECTfTZ7AQg0hBKAYTER8ea1drpUarNqpmTUo0uJ2YVBXbgM1IKIMIQSgGERLn/fPcL\n",
              "8sbJYjYZXE3sCmx22nXYqU43TfQBRA5CKYCQKGc9aViYmp6scUlx6nR7tbemyehyAGDQCKUARszn\n",
              "8506kxM77w1lMpmC/UppDQUgkhBKAYzYkcZ2HWvqkMVsUmGOw+hyYl5wsxPrSgFEEEIpgBELjMjN\n",
              "npympHirwdUgeGYnRkoBRBBCKYARC07d0woqLMzPsctiNqnG2aGjje1GlwMAg0IoBTBiZZWcySmc\n",
              "JMVbdV4WTfQBRBZCKYARaero0r7jzZLYeR9OitnsBCDCEEoBjMjOqkb5fFLu+CRlpiUYXQ78Tm12\n",
              "ajS2EAAYJEIpgBEJNM1nlDS8BDY77TniVEeXx+BqAODsCKUARiSwyamY9aRhJXtcojJSbXJ7fXr/\n",
              "iNPocgDgrAilAIaty+NVRXWjJKkkn5334cRkMrGuFEBEIZQCGLa9R5vU3uVRWoJV0zNSjC4HpynK\n",
              "c0iiXymAyEAoBTBswfPd54+X2WwyuBqcrrjHmZ18Pp/B1QDAwAilAIZt+6HuTU7FbHIKS7Mn2xVv\n",
              "MetES6eqTrYZXQ4ADCikoTQ/P18zZ85UYWGhCgsL9dJLL0mSDhw4oMWLF6ugoEAlJSXas2dP8D4D\n",
              "HQMQvnw+n8qCZ3IilIajhDiLZk9Jk0QTfQDhL+QjpS+99JIqKipUUVGhG2+8UZK0cuVKrVixQvv3\n",
              "79fq1au1fPny4O0HOgYgfFWfbFdds0txFpPm5ziMLgf9YLMTgEgx6tP3tbW1Ki8v18033yxJuv76\n",
              "61VdXa2DBw8OeKwvLpdLTU1NvS4eD/33ACOU+6fu50yxKyHOYnA16E+wif6hRmMLAYCzCHkovfXW\n",
              "WzV37lzddtttqqurU3V1tbKysmS1WiV1tynJzc1VVVXVgMf6sm7dOtnt9l6Xbdu2hfolABgEpu4j\n",
              "Q2C970fHmtTichtcDQD0L6ShdMuWLdq9e7d27Nih9PR0LVu2LJQPrzVr1sjpdPa6lJaWhvQ5AAxO\n",
              "YJPTQvqThrWJaQma4kiU1yft9veUBYBwZA3lg+Xm5kqS4uLidNddd6mgoEA5OTmqqamR2+2W1WqV\n",
              "z+dTVVWVcnNzlZaW1u+xvthsNtlstl7XWSxMGwJjzdnWpf3HWySx8z4SFOWN05HGdm0/1KDF09ON\n",
              "LgcA+hSykdLW1lY1NjYGv37hhRe0YMECZWZmqqioSBs3bpQkbdq0SdnZ2Zo+ffqAxwCEr+1V3aOk\n",
              "U9OTlZ5iO8utYbSiXIckduADCG8hGyk9fvy4rr/+enk8Hvl8Pk2bNk3PPvusJGn9+vVavny51q5d\n",
              "q7S0NG3YsCF4v4GOAQhP5awnjSinmug3yuv1caIDAGEpZKF02rRp2rlzZ5/HZs6cqa1btw75GIDw\n",
              "dOpMToTSSHBeVpoS4sxytnfpkxMtmp6ZanRJAHAGzugEYEg63V7t8m+YKc5jk1MkiLOYNS/bIYnW\n",
              "UADCF6EUwJB8cNQpl9urcUlxOicj2ehyMEiBKXya6AMIV4RSAEOy3b+etDhvvEwm1iZGiqLcwLpS\n",
              "QimA8EQoBTAkZZWB/qSsJ40kgR34B2pb5GzrMrYYAOgDoRTAoPl8vuD0bwmhNKJMSLEpf0KSJGln\n",
              "NaOlAMIPoRTAoFXWt6m+tVPxVrPmTLEbXQ6GqCjQGop1pQDCEKEUwKAFpu7nTbHLZuVsapHm1LrS\n",
              "RmMLAYA+EEoBDFpgkxPnu49MgR34O6sa5PH6DK4GAHojlAIYtPJD/k1OnMkpIhVMTFWKzarWTo/2\n",
              "HWs2uhwA6IVQCmBQTrZ26uO6VkmnRtwQWSxmkwpzHJJoDQUg/BBKAQxKYNf99MwUjUuON7gaDBeb\n",
              "nQCEK0IpgEFh6j46BPqVMlIKINwQSgEMSnnwTE6E0ki2wL8Dv7K+TSdaXAZXAwCnEEoBnFVHl0fv\n",
              "H3ZKkkrYeR/R7IlxmpGZIknaSWsoAGGEUArgrD444lSnx6v0lHjl+c8KhMgVGO3ezrpSAGGEUArg\n",
              "rMp6TN2bTCaDq8FInWqiTygFED4IpQDOart/kxNT99EhsAN/9+FGdXm8BlcDAN0IpQAG5PX6gtO8\n",
              "bHKKDtPSk2VPjFNHl1cf1jQZXQ4ASCKUAjiLT060qKGtSzarWbMn240uByFgNpuCraFYVwogXBBK\n",
              "AQwo0AqqMMeheCsfGdGCzU4Awg0/YQAMqNwfWhbmM3UfTQKbnWgLBSBcEEqBs/B4fUaXYKjyysCZ\n",
              "nNjkFE3m5zhkNklHGtt1zNlhdDkAIKvRBQDhpr3To62fnNBb++r05v46VZ1sU1ZagnLGJylvQpJy\n",
              "xycpd0Ky8sZ3/92RFBe1bZLqml2qrG+TyXRqZA3RIdlm1bmT0rS3pkk7qhp09dwso0sCEOMIpYh5\n",
              "Pp9PH9e16s19tXprf53e+/SkOt292+QcdXboqLND73168oz7pyZYT4XV8ck9/p6kLHuCrJbInZAI\n",
              "rDcsyEyVPSnO4GoQasV547S3pknbDxFKARiPUIqY1Opy6x8f1weD6OGG9l7HpzgSdcnMDC0pyNCc\n",
              "KXYda+pQVX2bDtW3qepkm6pOtupQfZtqm11q7nDrgyNN+uDIma11rGaTssclKndCsnLHJypvfLJy\n",
              "e4TWZFt4fwsGpu6LWU8alYryHHru3UM00QcQFsL7JyIQIj6fTwdqW/Tmvlq9ua9OZZUn1eU5tVY0\n",
              "3mLW+dPG65KCDC2ZmaFzMlJ6TclPdiT2OX3d3ulRdUNbd2A92aaq+lZVnez+++GT7er0eFVZ36bK\n",
              "+rY+60pPiVfu+CTlTUjuXh7QY4lARqrN8GUBgU1OJYTSqFSc271O+IMjTnV0eZQQZzG4IgCxjFCK\n",
              "qNXc0aX/O1ivt/bX6q19dTp62maO3PFJWjIzQ5cUZOiCcyYoKX7o3w6J8RYVTExVwcTUM455vD4d\n",
              "b+rwj676w2p9m6r9obWxrUsnWjp1oqVTO/rYAZ0QZz5zScCE7uA6ZVyibNbRDRDtnR7tOeqUxCan\n",
              "aJUzPlHpKfE60dKpPUedKuZ9BmAgQimihs/n04c1zXprf53e3Fer7Yca5O6xc95mNWvRtAnBIDo1\n",
              "PXlURyItZpMmOxI12ZGoC86ZcMZxZ3tXd0A9bUlA1ck2HW1sV0eXV/uPt2j/8ZYz7msySZPtico5\n",
              "bUlA3oQk5Y1PDsn6z12HG9Xl8Skz1abscYkjfjyEH5PJpKLccXpt73FtP9RAKAVgKEIpIpqzvUvv\n",
              "HDjRPRq6v07Hm1y9jk9NTw5OyS+aNiGspiftiXGyT7FrzpQzz5LU6fbqSGN7d1itPzXK2h1e29TW\n",
              "6dGRxnYdaWzXu5+cufkqLcGqvAnJvUZXA3/PsifKYj57GN8enLofb/gyAoye4rxToRQAjEQoRUTx\n",
              "en3aW9MUXBu6s7qxVx/RhDizFp+THhwNzZuQbGC1wxdvNWtqerKmpidLyuh1zOfz6URLZ68lAd3h\n",
              "tXtZQF2zS00dbr1/xKn3jzjPeOw4i0nZ406NrOb2CKy545OCyxiCm5w4331UK/K/vzuqGuXz+fgF\n",
              "BIBhCKUIew2tnXr74Am9ua9WW/af0ImW3qOh0zNTgqOhJfnjw2o0dDSYTCZlpNqUkWrrc7q1rdOt\n",
              "6pPtOuQfYQ1e6ttU3dCmLo9Pn55o1acnWvt8/IxUm3LHJ2nv0e5uApzJKbrNnWJXnMWkumaXDje0\n",
              "K2d8ktElAYhRhFKEHa/Xp91HnP7m9bXaVd2onidVSo63aPH0dF1S0D0ayg/R3pLirZo5KVUzJ/W9\n",
              "+epYU0d3YPWPsB462RZc2+ps71Jds0t1zd3BPzXBqvOy0sb6JWAMJcRZNGuyXbuqG7WjqoHvJwCG\n",
              "IZQiLNS3uLTlQJ3e2lenLQdO6GRrZ6/jMyemBvuGLswfr3hr5DakN5LFbNIUR6KmOBK1+Jwzjzvb\n",
              "uvxBtVWHG9pVnDdOcRHc/B+DU5w7TruqG7X9UIOuKZxidDkAYhShFIbweH2qqG7UW/7m9buPOOXr\n",
              "MRqaYrPqwunpusS/NnSyg93fY8GeFKe5SXbNzT5z8xWiV1GeQ7/7P0VtE32X29Pdfq3ZpRMtgUun\n",
              "6np8Xd/SqSSbVZPtCcqyJ2qyo/vPLEeCJtsTlZFqG9QGQQDDRyjFmKlt7tCW/d1rQ98+cELO9q5e\n",
              "x8/LSgtuUGKEDhg7gc1sH9Y0q63TPayevWOto8vTI1R2dv/Z4+s6f9is8591bbB2Vfd9vdVs0sS0\n",
              "BGXZE5TlSPSH18Dfu8PrhOR4NooBIxD+nzyIWG6PVzurG4M75fcc7X0azrQEqy6akREcDZ2YlmBQ\n",
              "pUBsy7InKsueoBpnh3ZVO/vsqzsW2js93UHSHya7g2Znj9FNV3DEs9k1+KApdXedmJBsU3pqvNJT\n",
              "bMFLRqpN6SnxmpBsU4vLrRpnu2qcHTra2P1nTWO7jje75Pb6gm3Y1E/7rHiruTuo2hOCQbXnqOtk\n",
              "e6LSEq0EV6AfhFKE1DFnh7bs796g9PaBE2eMUMyZkqYlBZlaMjNDhTkOWRkNBcJCUd44/Xl3jXZU\n",
              "NYQ0lLa63MFAWdfsH8E8bRo9MMrZ2ukZ0mPHW8xKT4lXemogZMb3CJqB0Nl9nT0xbthh0O3xqq7F\n",
              "paONHd2htbFDR/1/1jjbddTZoRMtLnW6vTpU371psD9J8Zbu0OpI9AfYHqHV/2eyjR/NiE1h8T//\n",
              "wIEDWrZsmU6cOCG73a6nn35as2fPNrosDEKXx6vyyobgWZQ+Otbc67gjKU4XzejeoHRxQYYyUm0G\n",
              "VQpgIMW53aH0bE30fT6fWlzuM6bM605boxkY5WzvGlrQtFnN3YEy1aaMlJ6jmvHKSE3oFULTEsZm\n",
              "1NFqMftHkxMl9d0irdPt1fGmUyOsvUKr/8+Gti61dXr0cV2rPq7ruyWb1D2LFAitk+z+pQKOU39m\n",
              "2ROivvUdYlNYhNKVK1dqxYoVWr58uf7whz9o+fLlKisrM7qsXnw+n+b9+DVZLSbFW83dF4tZcRaz\n",
              "bIGv/dfFW7uvj7f6j512XeB2gfsFr7ec+Tj9/t1iNmyU8Whju97c1x1C//FxvVp6TKOZTNK8bEew\n",
              "b+j8bAebA4AIcKqJfoP+vLumV7g8fYTT5fYO6bET4yxnTpv3CJcZPUY6U2yROb0dbzUrZ3zSgC21\n",
              "2js9Zy4P8IfWY/4g29zhVlOHW03Hms/4Jb+n8cnx/Y60dofZBNblI+KYfL6ee57HXm1traZPn66T\n",
              "J0/KarXK5/MpKytL77zzjqZPn37W+99999169NFHR71Ol9ujmff/z6g/z1CYTQqGWtvp4TUQdnuG\n",
              "49OuC1xsltMC82nhN95qltcnbfu0Xm/uq9OB2t7nYp+QHK+L/T1DL5qRrgkpjIYCkabT7dXcH//v\n",
              "oANncrzljGnzniOcPafQmY4evOaOLn9A7V7PGviz5+jrYEafTSYpI8XWY1MWHQUQ/gz/pKiurlZW\n",
              "Vpas1u5STCaTcnNzVVVVdUYodblccrl6n83H4xna1NBwxZnNevP7S9Tl8crl9qrT41Wn+9Sly9N9\n",
              "navHdZ0er7p63Lbn/bo8vW/ncp92/WmP3+l//J6/Qnh9UkeXVx1dXvX/+3TomU1SYY5DS2Zm6pKC\n",
              "DM2dYpeZDzYgosVbzfrW0un674ojGp/ce1Sz5yhnpj9sJsYzfTwaUhPilJoQpxkTzzz5hdQ9a+ds\n",
              "7wouCegVWv1/HnN2qNPjVW2zS7XNrrN2FMhItckao5/h/Y3K9TdeN9AoXn9DfP3eZ4Axwf7r6u/2\n",
              "AzxWP4dK8sfrx18Mr6WShofSoVi3bp1+8pOf9Lpu0aJFY/LcZrNJ+enGnkfd5/PJ7fX1DqqnB9iB\n",
              "Qq0/9LpOv22PMOzqJ2x3eXyalZWmS2Zm6KLp6RqXHG/ovwWA0Lvzshm687IZRpeBAZhMJjmS4uVI\n",
              "itesyX2fbc3r9am+tbPXetazdhRAzMkMwz0eETV939dI6Y9+9CM9/vjjY1kyAAARrWdHgRMtroEG\n",
              "7aJef0uY+xs7HmjNc//3Gdr13Y81tMIGGuvuq+bxSfFhd6IUw0dKMzMzVVRUpI0bN2r58uXatGmT\n",
              "srOz+1xParPZZLP1TvYWC1NIAAAMRe+OAkB4MDyUStL69eu1fPlyrV27VmlpadqwYYPRJQEAAGAM\n",
              "hUUonTlzprZu3Wp0GQAAADAITcwAAABgOEIpAAAADEcoBQAAgOEIpQAAADAcoRQAAACGI5QCAADA\n",
              "cIRSAAAAGI5QCgAAAMMRSgEAAGA4k8/n8xldxEhcd911ys/PH5Pn8ng82rZtm0pLS2WxWMbkOWEs\n",
              "3vPYxPsee3jPYw/v+djKy8vTd7/73QFvE/GhdCw1NTXJbrfL6XQqLS3N6HIwBnjPYxPve+zhPY89\n",
              "vOfhh+l7AAAAGI5QCgAAAMMRSgEAAGA4QukQ2Gw2/cu//ItsNpvRpWCM8J7HJt732MN7Hnt4z8MP\n",
              "G50AAABgOEZKAQAAYDhCKQAAAAxHKAUAAIDhCKWS8vPzlZmZqa6uruB1mzdvlslk0l133aU333xT\n",
              "iYmJKiws1Lx583ThhRdq9+7dwdu+/vrruvjiizVt2jQtXLhQpaWl+s1vfmPES4l4+fn5mjlzpubP\n",
              "n6/p06frmmuu0T/+8Q9J0pNPPqmf//znw37s5cuX69/+7d9CVOnYe/rpp/XRRx8ZXUbY+slPfqLb\n",
              "b789+PU777wjk8mkN998M3jdqlWr9KMf/ajfx7j99tu1efPmsz7Xj3/8Y9111119HquoqNCLL744\n",
              "6LpxprN9Jg/V97//ff34xz8+6+36+4y46aab9MMf/rDXdZ/73Of0yCOPDLkWjI78/HxVVFQYXQZG\n",
              "iFDql5ubqz/96U/Br5966iktXLgw+PXMmTNVUVGh3bt367rrrtPXv/51SdJrr72mZcuW6aGHHtIn\n",
              "n3yi8vJy/fGPf9SRI0fG/DVEi5deekm7du3SwYMHtWzZMl199dV67733tGrVKt17771Gl2cYQunA\n",
              "li5d2iuAbt68Weeff/4Z11166aX9PsZvf/tbLV26dER1EEpD42yfyWPpV7/6lZ5//nmVlZUFa2lq\n",
              "atLdd9894sd2u90jfgwgWhBK/b7+9a/rd7/7nSTJ6XTq3Xff1VVXXdXnba+66irt27dPkvTggw/q\n",
              "gQce0OLFi4PHs7Oz9ZOf/GT0i44B1113nVatWqVHHnmk1+jUu+++q+LiYhUWFmrOnDn69a9/Lal7\n",
              "pOMb3/iGFi9erIKCAi1btkzt7e1nPO4bb7yhCy64QAsWLNDs2bP11FNPBY85nU7dfvvtmjNnjubP\n",
              "n69vfOMbkqSuri7dd999Ki0tVWFhob785S+roaEh+LwrVqzQ5ZdfrqlTp+ob3/iGtm3bpiVLlmja\n",
              "tGm9fngdO3ZMX/7yl1VaWqq5c+fq/vvvDx7Lz8/XAw88oAsuuEBTp07Vz372M0ndYam8vFzf+973\n",
              "VFhYqL/85S+h/YeOAosWLdLRo0d1+PBhSdKbb76pBx54IBhKa2pqVFVVpYULF+qOO+5QaWmp5s2b\n",
              "pxUrVqizs1OStGTJEr3yyivB219xxRWaNWuWrrjiCn3lK1/pNdpWU1OjL3zhC5o1a5YuvfRSnTx5\n",
              "UrW1tXrggQe0efNmFRYWatWqVWP5TxBVzvaZ7PF4dO+992rOnDmaM2eOvvOd7wTfx5qaGl155ZWa\n",
              "NWuWLr/88uD/CWng7+P+jBs3TuvXr9fy5ct14MABPfDAA3rmmWdUW1vb7/fy97//fZWUlKiwsFAX\n",
              "X3xx8GeGJJlMJv3Lv/yLSkpKtGbNmpD8e6Hbo48+Gvx3Lykp0datW4PH8vPzde+996q4uFjTp0/v\n",
              "NfN2tvdr7dq1Ki0t1dSpU7Vhw4YxfU2xhFDq9//+3/9TZWWljh49qhdeeEE33HCDLBZLn7d98cUX\n",
              "VVxcLEnasWOHzj///LEsNeacf/752rNnT6/r1q1bp+9///uqqKjQBx98oK985SvBY++9957+93//\n",
              "Vx9++KFOnjypxx577IzHLCoq0jvvvKOdO3fq7bff1oMPPhj8wXXXXXcpPj5eu3fv1q5du/Twww9L\n",
              "kn7+858rOTlZ27ZtU0VFxRk/hN5//329+uqr2rdvn7Zs2aJ169bp9ddf1/vvv6/nn38++BqWLVum\n",
              "b33rW9q2bZt27typ8vJy/ed//mfwcRobG7V161aVlZXp5z//uY4cOaLbb79dCxcu1GOPPaaKigpd\n",
              "ffXVofsHjhLx8fFavHixNm/eLJfLpU8//VRXX321Dh8+rI6ODm3evFkXXHCB7rnnHl100UXatm2b\n",
              "du3aJa/Xq8cff/yMx7vzzjt1wQUXaO/evXr22Wd7jbhK3f/Pnn76ae3du1eZmZlav369MjMz9eCD\n",
              "D2rp0qWqqKjQk08+OUavPvqc7TP5N7/5jcrKyrR9+3ZVVFTo448/Dn6v33nnnSotLdXevXv1zDPP\n",
              "6I033gje72zfx/256qqrdNFFF6mkpEQPPPCApk2bNuD38urVq1VWVqaKigp985vf1He/+91ej2ex\n",
              "WILf4widW265Jfjv/sQTTwRnNQOOHz+u8vJyvfvuu3riiSeCy8PO9n7ZbDZt27ZNf/3rX3XnnXcy\n",
              "wj1KrEYXEE5uueUWPf3003rllVf0/PPP6/nnnw8e27dvnwoLCyVJBQUFeuaZZ/p8jJtuukl79uzR\n",
              "sWPHtH//fqWlpY1F6VGtr1a6S5cu1U9/+lMdOHBAl156qS688MLgsS9/+ctKTU2VJN1222365S9/\n",
              "ecZ6sPr6et12223av3+/rFar6uvr9cEHHyg7O1uvvvqq3nvvPZnN3b+zZWRkSJJeeeUVOZ1Obdq0\n",
              "SZLU2dmp/Pz84GNec801SkhIkCTNnTtXV155peLi4hQXF6dZs2bpwIEDys/P1xtvvKHjx48H79fS\n",
              "0tLrt/Kvfe1rkqT09HRNmzZNn376qaZMmTLsf79YEpjCz8vLU2lpqaTuEdStW7fqzTff1NKlS/XE\n",
              "E09o69atevTRRyVJ7e3tff4C+sYbbwTXDE6aNEmf//znex2/6qqrNGHCBEnSBRdcoPfff380X1pM\n",
              "Gugz+W9/+5uWL18ebHx+xx136N///d+1evXqXu/dlClT9MUvfjF4v7N9Hw/k3nvv1e9//3utXLlS\n",
              "ra2tA34vv/7663riiSfU3Nwsr9erkydP9nqswAwMQmvnzp3613/9V9XX18tqtWrfvn1qb29XYmKi\n",
              "pO6fCSaTSenp6bruuuv0t7/9TYsXLz7r+3XTTTdJks4991xZrVYdO3ZM2dnZY/76oh2htIdbb71V\n",
              "RUVFKigo0IwZM3odC6wpPd2CBQu0bds2LViwQJKCH5omk0ler3fUa44FZWVlmjNnTq/r7rrrLl1z\n",
              "zTX629/+ph/+8IeaM2eO/uM//qPP+5tMpjOuW7Vqla6++mpt2rRJJpNJRUVF6ujoGLAOn8+nJ554\n",
              "QldccUWfxwOBVOoeBTn9a7fbHQzY7777bq/jAz0Ov5EP3tKlS/XUU08pNzdXS5YskSRdcskl2rx5\n",
              "szZv3qynn35av/zlL7Vp0yYVFBQM6bFP/3/E+zT6BvpMPl1f3+d9HTvb9/FALBZL8JfVgb6Xq6qq\n",
              "9O1vf1tlZWU655xztHv3bl188cW9bpOSkjLk58fAOjs7dd1112nz5s0qKSlRU1OT7Ha7XC5XMJSe\n",
              "zmQyDer94vt9bDB938PkyZO1bt264HTtYPzoRz/Sgw8+qHfffTd4XWtr62iUF5P++7//W7/+9a91\n",
              "zz339Lp+3759mjp1qu644w798Ic/7PXv/4c//EEtLS3yeDzasGGDLr/88jMet6GhQXl5eTKZTNqy\n",
              "ZYt27doVPPbFL35RjzzySPCXirq6OknStddeq8cee0xtbW2SpLa2tjOWFZxNSkqKli5dqoceeih4\n",
              "Xc91kANJS0uT0+kc0vPFmpKSEtXW1ur555/vFUpffPFF1dTUqLS0VNdee60efvjh4A+VhoYGHTx4\n",
              "8IzHuvTSS/X0009L6p7ye/XVVwdVA+9T6Az0mXz55Zfr2WefVWdnp9xut377298Gg+bll18eXI9a\n",
              "U1PTa8NUKL6PpYG/l51Op+Li4pSVlSWfz6df/epXQ358DF1HR4c6OzuVm5srSXriiSfOuE3ge/rk\n",
              "yZP6r//6L1122WW8X2GEUHqar3/967rgggsGffurrrpKTz31lO69916dc845WrRokT772c/qiSee\n",
              "CE4hY2huvPHGYEuop556Sn/5y1/OWLf7q1/9SrNnz9aCBQt0//336xe/+EXwWElJia688kqdd955\n",
              "cjgcfbaQeeihh3TfffepsLBQv/vd73o9/mOPPSaXy6W5c+eqsLAwOPW/evVqlZSU6Pzzz9e8efO0\n",
              "aNGiYbUgef7553Xw4EHNmTNHc+fO1XXXXaf6+vqz3m/FihVau3YtG50GEBcXpwsvvFDNzc0699xz\n",
              "JXUvt2lubtaFF16ouLg4PfbYY71avF122WWqrKw847Eef/xxvf3225o1a5ZuuukmnX/++XI4HGet\n",
              "4bLLLpPL5dK8efPY6BQC/X0mr1ixQkVFRSoqKlJhYaHy8/OD3+uPP/643n33Xc2aNUu33nprr44L\n",
              "ofo+lvr/Xp47d66+8pWvaPbs2SopKQmGJIwet9utzMxM/exnP1NpaamKi4sVHx9/xu0yMjJUXFys\n",
              "0tJSffvb39bixYt5v8KIydfXgj0gQi1fvlyFhYXD6mUI9NTe3q64uLjgmuNFixZp48aNbGwEwkxN\n",
              "TY1mzpypY8eOKSkpqd/b5efn65VXXgnuD0H4YU0pAPThwIEDuvXWW+Xz+dTZ2alvfvObBFIgzDz6\n",
              "6KNav369HnnkkQEDKSIDI6UAAAAwHGtKAQAAYDhCKQAAAAxHKAUAAIDhCKUAAAAwHKEUAAAAhiOU\n",
              "AgAAwHCEUgAAABiOUAoAAADDEUoBAABguP8PGfd7b4UVxHsAAAAASUVORK5CYII=\n",
              "\">\n",
              "      </div>\n",
              "      <script type=\"text/javascript\">\n",
              "        (() => {\n",
              "          const chartElement = document.getElementById(\"chart-b6165b49-5e84-4174-86ce-3eb127f95dfd\");\n",
              "          async function getCodeForChartHandler(event) {\n",
              "            const chartCodeResponse =  await google.colab.kernel.invokeFunction(\n",
              "                'getCodeForChart', [\"chart-b6165b49-5e84-4174-86ce-3eb127f95dfd\"], {});\n",
              "            const responseJson = chartCodeResponse.data['application/json'];\n",
              "            await google.colab.notebook.addCell(responseJson.code, 'code');\n",
              "          }\n",
              "          chartElement.onclick = getCodeForChartHandler;\n",
              "        })();\n",
              "      </script>\n",
              "      <style>\n",
              "        .colab-quickchart-chart-with-code  {\n",
              "            display: block;\n",
              "            float: left;\n",
              "            border: 1px solid transparent;\n",
              "        }\n",
              "\n",
              "        .colab-quickchart-chart-with-code:hover {\n",
              "            cursor: pointer;\n",
              "            border: 1px solid #aaa;\n",
              "        }\n",
              "      </style>"
            ]
          },
          "metadata": {}
        },
        {
          "output_type": "display_data",
          "data": {
            "text/plain": [
              "from matplotlib import pyplot as plt\n",
              "_df_4['std'].plot(kind='line', figsize=(8, 4), title='std')\n",
              "plt.gca().spines[['top', 'right']].set_visible(False)"
            ],
            "text/html": [
              "      <div class=\"colab-quickchart-chart-with-code\" id=\"chart-5f5a0ab8-9cef-40b0-8be1-7d01784f88d7\">\n",
              "        <img style=\"width: 180px;\" src=\"data:image/png;base64,iVBORw0KGgoAAAANSUhEUgAAAp4AAAFuCAYAAAAoDBgXAAAAOXRFWHRTb2Z0d2FyZQBNYXRwbG90\n",
              "bGliIHZlcnNpb24zLjcuMSwgaHR0cHM6Ly9tYXRwbG90bGliLm9yZy/bCgiHAAAACXBIWXMAAA9h\n",
              "AAAPYQGoP6dpAABB6ElEQVR4nO3deXzU5b33//cs2cjOEkISkrAjBAgJCbihuKI9lR7601qtlVqL\n",
              "tMf22Fqr9m6t9bRSj1aP4jlVTy3YW6u11SPe3loXxO0nSAIEBAQCmD0hkH2dzHb/kcxAIIQEJvOd\n",
              "5fV8PPIwme/Mdz7DmOSd63tdn8vkdrvdAgAAAEaY2egCAAAAEB4IngAAAPALgicAAAD8guAJAAAA\n",
              "vyB4AgAAwC8IngAAAPALgicAAAD8guAJAAAAvyB4AgAAwC8IngAQYC644ALdf//9RpcBAD5H8AQA\n",
              "P8nOztYf//hHo8sAAMMQPAEAAOAXBE8A8LEnn3xSU6ZMUXx8vMaPH68VK1boqquuUkVFhW6//XbF\n",
              "xcVp9uzZkiSHw6Gf/exnSk1N1bhx43TvvfcaXD0AjByCJwD4UGlpqX72s59p/fr1amtr08GDB3XL\n",
              "LbforbfeUmZmpp588km1t7dr9+7dkqR///d/18svv6z3339fVVVVslqt+uyzzwx+FQAwMgieAOBD\n",
              "VqtVbrdbu3fvVmtrq+Li4rR48eJT3n/t2rW68847NWvWLEVFRen+++9XcnKyHysGAP8heAKAD02a\n",
              "NEkvvfSS1q5dq8zMTBUUFOjFF1885f2rqqo0adIk79cWi0WZmZn+KBUA/M5qdAEAEGqWLVumZcuW\n",
              "yeFw6NVXX9X111+v/Px8mc0n/62fkZGhsrIy79dOp1OVlZV+rBYA/IcRTwDwoX379unNN99Ue3u7\n",
              "rFarEhMTJfWOZKampmrfvn397n/zzTfr97//vfbu3SubzaYHHnhAjY2NRpQOACOO4AkAPtTT06Pf\n",
              "/va3Sk9PV0JCgu688079+c9/1pQpU3Tfffdp/fr1SkpK0ty5cyVJd999t5YvX66LLrpIGRkZ6unp\n",
              "0cKFCw1+FQAwMkxut9ttdBEAAAAIfYx4AgAAwC8IngAAAPALgicAAAD8guAJAAAAvyB4AgAAwC8I\n",
              "ngAAAPALgicAAAD8IiiC5+OPP250CQAAADhLQRE8y8vLjS4BAAAAZykogicAAACCH8ETAAAAfkHw\n",
              "BAAAgF8QPAEAAOAXBE8AAAD4BcETAAAAfkHwBAAAgF8QPAEAAOAXBE8AAAD4BcETAAAAfkHwBAAA\n",
              "gF8QPAGEncrGTv3LX7Zp/+E2o0sBgLBC8AQQdp768KD+785arXn/gNGlAEBYIXgCCDvFZU2SpG3l\n",
              "TQZXAgDhheAJIKy0dNq1r+8Se3Vzlw63dhtcEQCED4IngLCytaKx39eMegKA/xA8AYSVorL+QXNb\n",
              "BcETAPyF4AkgrBSX9Y54Lpo8WpK0lRFPAPAbgieAsNFtd2pHZYsk6baLpkiSdlW3yuZwGlkWAIQN\n",
              "gieAsLGrukU9TpfGxkXq4unjNDo2Uj1Ol3ZVtxpdGgCEBYIngLDhmd+5IGu0TCaT8jKTJUnbmecJ\n",
              "AH5B8AQQNjzzOxdk9wbOvKwkSSwwAgB/IXgCCAsul1vFfQuJCrJ7FxZ5Rjy3ljfJ7XYbVhsAhIth\n",
              "B88333xTeXl5ys3NVU5Ojp577jlJUn19vZYuXapp06YpJydHH330kfcxgx0DAH84eKRdLV12xURY\n",
              "NCstQZI0LyNJFrNJh1ttqmmhkTwAjLRhBU+3261vfetbWrdunUpKSvTGG2/otttuU1tbm+655x4t\n",
              "WrRIpaWlWrt2rW644QbZ7XZJGvQYAPiDZ37n/MwkRVh6f/TFRFo0a0JvCKWtEgCMvGGPeJpMJjU3\n",
              "N0uSWltbNWbMGEVFRenll1/WqlWrJEkFBQVKS0vThx9+KEmDHgMAf/DO78xK7nd7ft/X7GAEACPP\n",
              "Opw7m0wm/fWvf9Xy5csVGxurpqYmvfrqq2pra5Pdbldqaqr3vtnZ2aqoqFBDQ8Mpjw3EZrPJZrP1\n",
              "u83ppMcegLNTVO5ZWDS63+3zM5O07lNWtgOAPwxrxNPhcOg3v/mNXn31VZWXl2vDhg266aab5HA4\n",
              "fFbQ6tWrlZiY2O9jy5YtPjs/gPBT19KtysYumU29QfN4nhHP3TWt6rbzRy4AjKRhBc+SkhLV1NRo\n",
              "8eLFknovm2dkZGjnzp2yWq2qq6vz3resrEyZmZkaM2bMKY8N5N5771VLS0u/j8LCwjN5bQAgSSru\n",
              "G+08Z0KC4qMj+h1LT4pRSnyUHC63dla1GFEeAISNYQXPiRMnqra2Vl988YUk6cCBAzp48KBmzJih\n",
              "a6+9Vk899ZQkqaioSNXV1broooskadBjJ4qKilJCQkK/D4vFcsYvEACKy/q3UTre8Y3kWWAEACNr\n",
              "WHM8x48fr2eeeUbXXXedzGazXC6XnnzySWVmZuqhhx7STTfdpGnTpikyMlLPP/+8IiJ6RxYGOwYA\n",
              "I63ohMbxJ8rPStY/dtfRSB4ARtiwgqckffOb39Q3v/nNk24fP3683nnnnQEfM9gxABhJbd12fVHb\n",
              "uxf7gqyTRzyl43Yw6mskbzKZ/FUeAIQVdi4CENK2VzTL5ZYmjo5RamL0gPeZnZaoSItZDR09qmjs\n",
              "9HOFABA+CJ4AQpqnf2fBKUY7JSk6wqLZ6b2N5LncDgAjh+AJIKR5diw6sX/niVhgBAAjj+AJIGTZ\n",
              "nS5tr/SsaB94YZHHsR2Mmke6LAAIWwRPACGrtym8S0mjIjRlXNyg9/WMeO6ta1W7zXebYgAAjiF4\n",
              "AghZx+/PbjYPvlI9NTFa6UkxcrmlnZXNfqgOAMIPwRNAyDrWv3Pw+Z0enu00mecJACOD4AkgJLnd\n",
              "7uN2LBp8fqeHd54nK9sBYEQQPAGEpLKGTjV09CjSalZOeuKQHuOZ57m9slkul3skywOAsETwBBCS\n",
              "PJfZ52UkKspqGdJjzpmQoCirWc2ddh062jGS5QFAWCJ4AghJxcOc3ylJkVaz5mUkSeJyOwCMBIIn\n",
              "gJA03PmdHvOP27cdAOBbBE8AIedou817qTw/c+gjnr33Z4ERAIwUgieAkOMZ7ZwxPl6JoyKG9di8\n",
              "vpXtpfXtaumy+7w2AAhnBE8AIefY/M7hXWaXpLFxUcoaM0put1RCI3kA8CmCJ4CQU1Tumd85vMvs\n",
              "Hp62SszzBADfIngCCCmdPQ7trm6RdGYjnpKU17eDEfM8AcC3CJ4AQkpJZbMcLrcm9O29fiY88zxL\n",
              "KprlpJE8APgMwRNASPEsLFqQPVomk+mMzjFjfLxGRVrUZnOotL7Nl+UBQFgjeAIIKZ4di4bbv/N4\n",
              "VotZuROTJEnbypt9UBUAQCJ4AgghDqfLuyBoQdaZLSzyyKOfJwD4HMETQMjYW9emjh6n4qOsmpEa\n",
              "f1bnys9iZTsA+BrBE0DI8PTvzMtKlsV8ZvM7Peb3rWw/dLRDjR09Z1saAEAETwAh5Fj/zjOf3+mR\n",
              "NCpSk8fFSpK2c7kdAHyC4AkgJLjd7uN2LDq7+Z0e7NsOAL5F8AQQEqqaunS41Sar2aR5GUk+Oaen\n",
              "n+dW5nkCgE8QPAGEhOLy3tHOnPRExURafHJOzwKjHZUtcjhdPjknAIQzgieAkFBU5rv5nR5Tx8Up\n",
              "PtqqLrtTe+toJA8AZ4vgCSAk+Hp+pySZzaZjjeSZ5wkAZ43gCSDoNXf2aP/hdknSgizfjXhK9PME\n",
              "AF8ieAIIep7FP5PHxWpMXJRPz+3ZwWgrI54AcNYIngCCnnd+51lukzmQ3MwkmUxSZWOXjrTZfH5+\n",
              "AAgnBE8AQe/Y/E7fXmaXpIToCE1P6d1+k3meAHB2CJ4Aglq33amdVS2SpAIfLiw6Xh7zPAHAJwie\n",
              "AILa59Ut6nG6NDYuSlljRo3Ic+T17dvOiCcAnB2CJ4CgVtR3mb0gO1kmk2lEnsMz4rmjqkU9DhrJ\n",
              "A8CZIngCCGrFfQuLfNm/80STx8YqaVSEehwu7altHbHnAYBQR/AEELRcLrd3YZEvdyw6kclkOtZW\n",
              "iXmeAHDGCJ4AglZpfbtaux0aFWnRrAkJI/pc3kbyzPMEgDNG8AQQtDzzO+dnJslqGdkfZ/P7Fhht\n",
              "Z8QTAM4YwRNA0PL27xyBxvEnmpeRJIvZpJqWbtW2dI348wFAKCJ4AghaxeWehUUjN7/TIzbKqpmp\n",
              "fY3ky5tH/PkAIBQRPAEEpdqWLlU1dclskuZnjnzwlMQCIwA4SwRPAEHJ00ZpVlqC4qKsfnlOFhgB\n",
              "wNkheAIISv6c3+nhGfHcXdOibrvTb88LAKGC4AkgKBX1jXiO1P7sA5k4OkZj46Jkd7q1q7rFb88L\n",
              "AKGC4Akg6LR227W3rncHIX8sLPLobSSfJInL7QBwJgieAILO9opmudxS5uhRGp8Q7dfn9szzZIER\n",
              "AAwfwRNA0PHO7/TjaKdHnneBUbPcbrffnx8AghnBE0DQKfLuz+6/+Z0ec9ITZTWbdKTNpqomGskD\n",
              "wHAQPAEElR6HSyWVzZKkAgNGPKMjLJqdniiJeZ4AMFwETwBBpbeVkUvJoyI0ZVycITV4FxgxzxMA\n",
              "hoXgCSCoeBrH52eNlslkMqQG7wIjRjwBYFgIngCCyrH5nf6/zO7haST/RW2bOnschtUBAMGG4Akg\n",
              "aLjdbhX3Xd5eYMDCIo+0pBhNSIyW0+XWjkoayQPAUBE8AQSNQ0c71NjRoyirWTnpCYbW4hn1ZIER\n",
              "AAwdwRNA0PD075w3MUlRVouhtcxngREADNuwg6fNZtPtt9+uadOmac6cOfrWt74lSSotLdV5552n\n",
              "6dOnq6CgQLt37/Y+ZrBjADBUnv3ZF2QZN7/Tw7PAaHsljeQBYKiGHTzvuecemUwm7d+/X59//rke\n",
              "eeQRSdJtt92mlStXav/+/br77ru1YsUK72MGOwYAQ+XZptKIxvEnmp2WqEirWY0dPSpr6DS6HAAI\n",
              "CsMKnh0dHXr22Wf129/+1tvGJDU1VfX19SouLvaOfn79619XZWWlDhw4MOgxABiqI202fXm0QybT\n",
              "sfmVRoq0mjW3r5E8+7YDwNAMK3gePHhQo0eP1oMPPqgFCxbowgsv1IYNG1RZWakJEybIarVKkkwm\n",
              "kzIzM1VRUTHosYHYbDa1trb2+3A6nWf5MgEEu63lvfM7Z4yPV+KoCIOr6XVs33aCJwAMxbCCp8Ph\n",
              "UHl5uWbNmqXi4mI98cQT+sY3viGHw3d97FavXq3ExMR+H1u2bPHZ+QEEJ+/8TgP7d56IHYwAYHiG\n",
              "FTwzMzNlNpt14403SpLmz5+vSZMmqby8XLW1td4A6na7VVFRoczMTE2cOPGUxwZy7733qqWlpd9H\n",
              "YWHh2bxGACGg2Ns43vj5nR6eS/77DreprdtucDUAEPiGFTzHjh2rSy+9VG+//bYk6csvv9SXX36p\n",
              "888/X3l5eXr++eclSa+88ooyMjI0depUpaSknPLYQKKiopSQkNDvw2Ixtm0KAGN19ji0q6ZVkrGN\n",
              "40+UkhCtjOQYud1SSWWz0eUAQMCzDvcBTz31lL773e/q7rvvltls1tNPP6309HQ9/fTTWrFihR58\n",
              "8EElJCRo7dq13scMdgwATqekollOl1tpidFKT4oxupx+8rOSVdXUpW3lzbpw2jijywGAgDbs4Dl5\n",
              "8mRt3LjxpNtnzJihTZs2DfiYwY4BwOkcm98ZOKOdHnmZyVpfUsMCIwAYAnYuAhDwiss98zsDZ2GR\n",
              "R/5xK9tdLhrJA8BgCJ4AAprD6fKuGg/EEc+ZqfGKibCorduhg0fajS4HAAIawRNAQNtb16aOHqfi\n",
              "o62aPj7e6HJOYrWYNTeDRvIAMBQETwABraivjVJ+VrIsZpPB1Qwsn0byADAkBE8AAa24LHD2Zz8V\n",
              "Tz/PbRXNxhYCAAGO4AkgYLndbu+I54KswFtY5OHZOvNAfbuaO3sMrgYAAhfBE0DAqmzsUn2bTREW\n",
              "k+ZNTDK6nFMaHRupSWNjJUnbaSQPAKdE8AQQsDyjnXPSExUdEdg7mHkvt7PACABOieAJIGAVB3Ab\n",
              "pRPlZSVJYoERAAyG4AkgYBUHwfxOD8+Ip2d7TwDAyQieAAJSU0ePSut7G7LnB0HwnD4+XnFRVnX0\n",
              "OLWvrs3ocgAgIBE8AQQkTzP2KeNiNSYuyuBqTs9iNim3bwEUl9sBYGAETwABqci7P3vgz+/08LRV\n",
              "YoERAAyM4AkgIHkaxwfDwiKPvMwkSYx4AsCpEDwBBJxuu1M7q5olSQXZgT+/02N+3wKjsoZOHW23\n",
              "GVwNAAQegieAgLOzqkV2p1vj4qOUOXqU0eUMWWJMhKalxEmStrN9JgCchOAJIOB4GscXZCfLZDIZ\n",
              "XM3weNoqbWWeJwCchOAJIOAc698ZPPM7PTytn5jnCQAnI3gCCCgul9u7Y1EwrWj38OxgtLOqWXan\n",
              "y9hiACDAEDwBBJT99W1q63ZoVKRF50yIN7qcYZs8Nk6JMRHqtrv0RW2r0eUAQEAheAIIKEV9bZTy\n",
              "MpNltQTfjyiz2aT5nrZKzPMEgH6C76c6gJDmnd8ZRG2UTuRdYMTKdgDoh+AJIKB4GscH4/xOj3x2\n",
              "MAKAARE8AQSM6uYuVTd39dv3PBjNm5gks6n39Rxu7Ta6HAAIGARPAAHDc5l91oQExUZZDa7mzMVF\n",
              "WTUjNUESo54AcDyCJ4CA4Wm6HszzOz3Ytx0ATkbwBBAwikJgfqeHZ54nOxgBwDEETwABobXbrr11\n",
              "vX0vF2SFwohn72vYVd0qm8NpcDUAEBgIngACwrbyJrndUtaYUUpJiDa6nLOWNWaURsdGqsfp0q5q\n",
              "GskDgETwBBAgPG2UgnF/9oGYTCbvqOd25nkCgCSCJ4AAUdS3or0gBBYWeXj2bWeBEQD0IngCMFyP\n",
              "w6WSymZJ0oIQWFjkkZ95bIGR2+02uBoAMB7BE4DhdtW0yOZwKXlUhKaMizW6HJ+Zm5Ekq9mkw602\n",
              "1bTQSB4ACJ4ADHdsf/bRMplMBlfjOzGRFs1K620kT1slACB4AggAx/p3hs78Tg/PAiN2MAIAgicA\n",
              "g7nd7n4jnqFmPjsYAYAXwROAoQ4e6VBTp11RVrNy0hKNLsfnPDsY7alpVbedRvIAwhvBE4ChPKOd\n",
              "uROTFGkNvR9J6UkxSomPksPl1s6qFqPLAQBDhd5PeQBBJZT2Zx+IyWRi33YA6EPwBGCo4nLP/M7Q\n",
              "W1jk4V1gxDxPAGGO4AnAMPVt3Spv6JTJJOVlhXDwzDq2sp1G8gDCGcETgGG29l1mnzE+XgnREQZX\n",
              "M3Jy0hMUaTGroaNHFY2dRpcDAIYheAIwTKjP7/SIslo0O723kTyX2wGEM4InAMOEw/xOj+P3bQeA\n",
              "cEXwBGCIDptDu2taJYX+iKd0/DzPZmMLAQADETwBGKKksllOl1vpSTFKS4oxupwR52mptLeuVe02\n",
              "h8HVAIAxCJ4ADFFUFj6X2SVpfEK00pNi5HJLOyubjS4HAAxB8ARgiOK+hUWhuD/7qXj2bWeeJ4Bw\n",
              "RfAE4HcOp8u7ursgTEY8pWOX21nZDiBcETwB+N0XtW3q7HEqPtqq6SnxRpfjN54djLZXNsvlopE8\n",
              "gPBD8ATgd975nVnJMptNBlfjP7PSEhQdYVZzp12HjnYYXQ4A+B3BE4DfHevfGT7zOyUpwmLW3PQk\n",
              "SVxuBxCeCJ4A/MrtdofNjkUDOX7fdgAINwRPAH5V0dipI202RVrMmpuRaHQ5fpfXt7KdEU8A4Yjg\n",
              "CcCvPKOdczISFR1hMbga//OMeO4/3K6WLrvB1QCAfxE8AfhVcZg1jj/R2LgoZY0ZJal39yYACCcE\n",
              "TwB+dWxFe/jN7/TwtFVinieAcEPwBOA3jR09Onikt42Qp5l6OMqjkTyAMHXGwXPt2rUymUx67bXX\n",
              "JEn19fVaunSppk2bppycHH300Ufe+w52DED48GwVOTUlTqNjIw2uxjieBUYlFc1y0kgeQBg5o+BZ\n",
              "Vlam//7v/9aiRYu8t91zzz1atGiRSktLtXbtWt1www2y2+2nPQYgfHjmd4bTNpkDmTE+XrGRFrXZ\n",
              "HCqtbzO6HADwm2EHT5fLpVtvvVVr1qxRVFSU9/aXX35Zq1atkiQVFBQoLS1NH3744WmPAQgfzO/s\n",
              "ZbWYNW9ikiRpW3mzobUAgD8NO3g++uijOv/885Wfn++9raGhQXa7Xampqd7bsrOzVVFRMeixgdhs\n",
              "NrW2tvb7cDqdwy0TQIDptjv1eXWLpPBsHH8i7wIj5nkCCCPDCp67du3SK6+8ol/84hcjVY9Wr16t\n",
              "xMTEfh9btmwZsecD4B87Kptld7qVEh+liaNjjC7HcPnsYAQgDA0reH788ccqKyvTtGnTlJ2drc2b\n",
              "N2vlypV6+eWXZbVaVVdX571vWVmZMjMzNWbMmFMeG8i9996rlpaWfh+FhYVn+PIABIri8mPbZJpM\n",
              "JoOrMd78vgVGh452qLGjx9hiAMBPhhU8v//976u2tlZlZWUqKyvTokWL9Mwzz+j73/++rr32Wj31\n",
              "1FOSpKKiIlVXV+uiiy6SpEGPnSgqKkoJCQn9PiyW8NvdBAg1RWHeOP5ESaMiNWVcrCRpO5fbAYQJ\n",
              "q69O9NBDD+mmm27StGnTFBkZqeeff14RERGnPQYg9Dldbm8rJeZ3HpOXmayDRzq0raJJl54z3uhy\n",
              "AGDEnVXw/OCDD7yfjx8/Xu+8886A9xvsGIDQt/9wm9q6HYqNtGhmarzR5QSM/Kxk/W1rlTeUA0Co\n",
              "Y+ciACPO078zLytZVgs/djw8OxjtqGyRw+kyuBoAGHn8BgAw4orKekf0wr1/54mmjotTfLRVXXan\n",
              "9tbRSB5A6CN4Ahhx7Fg0MLPZpPn08wQQRgieAEZUdXOXalq6ZTGblNvXQgjHePZtp58ngHBA8AQw\n",
              "ojyjnTlpCRoV6bNGGiHD00h+KyOeAMIAwRPAiPL078xnfueAcicmyWSSKhu7VN/WbXQ5ADCiCJ4A\n",
              "RlRxmad/J/M7BxIfHaEZ43tbTG0rbza2GAAYYQRPACOmpcuufYd7V2vnEzxPybPAiB2MAIQ6gieA\n",
              "EbOtoklut5Q9ZpRS4qONLidgeRcYETwBhDiCJ4ARU+zdn535nYPxLDDaUdWiHgeN5AGELoIngBFT\n",
              "xPzOIZk0NlbJoyLU43BpT22r0eUAwIgheAIYETaHUzsqmyUx4nk6JpNJeX3zPNm3HUAoI3gCGBG7\n",
              "qltlc7g0OjZSk8fGGl1OwPPs2848TwChjOAJYER453dmJctkMhlcTeCb37fAaDsjngBCGMETwIg4\n",
              "Nr+Ty+xDMS8jSRazSTUt3apt6TK6HAAYEQRPAD7ncrm1tdyzop2FRUMRG2XVzFQayQMIbQRPAD53\n",
              "6Gi7mjrtio4wa3ZaotHlBA3vvu1cbgcQogieAHzOc5k9d2KSIq38mBkqz8p2FhgBCFX8RgDgc0V9\n",
              "C4uY3zk8nhHP3TUt6rY7Da4GAHyP4AnA54r7Rjzp3zk8GckxGhsXJbvTrV3VLUaXAwA+R/AE4FOH\n",
              "W7tV0dgps+nYHuQYmt5G8kmSuNwOIDQRPAH4lGe0c0ZqguKjIwyuJviwwAhAKCN4AvCpY/M7aaN0\n",
              "Jo7tYNQst9ttcDUA4FsETwA+Vezt38n8zjMxJz1RERaTjrTZVNVEI3kAoYXgCcBn2m0O7alplcSI\n",
              "55mKjrBoVl/vU+Z5Agg1BE8APlNS0SyXW0pPitGExBijywla+ZnM8wQQmgieAHyG+Z2+kZeVJIkR\n",
              "TwChh+AJwGeY3+kbnh2MvqhtU2ePw+BqAMB3CJ4AfMLudGl7RbMkdiw6W2lJMZqQGC2ny60dlTSS\n",
              "BxA6CJ4AfOKL2lZ19jiVEG3VtJQ4o8sJeuzbDiAUETwB+ETRcdtkms0mg6sJft5+niwwAhBCCJ4A\n",
              "fKK4zDO/k4VFvuDZOnN7JY3kAYQOgieAs+Z2u70jnszv9I3ZaYmKtJrV2NGjsoZOo8sBAJ8geAI4\n",
              "a+UNnTrablOkxaw56YlGlxMSIq1mze37t6SfJ4BQQfAEcNY8/TvnZiQqOsJicDWh49i+7QRPAKGB\n",
              "4AngrBUft7AIvuNd2c6IJ4AQQfAEcNaKytmxaCR4djDad7hNbd12Y4sBAB8geAI4Kw3tNh060iFJ\n",
              "ys8iePpSSny0Jo6OkdstlVQ2G10OAJw1gieAs1Lcdxl4WkqckkZFGlxN6Dl2ub3Z2EIAwAcIngDO\n",
              "yrH+nczvHAnsYAQglBA8AZwVz4gn8ztHRv5xK9tdLhrJAwhuBE8AZ6yrx6ld1S2SaBw/Umamxism\n",
              "wqK2bocOHmk3uhwAOCsETwBnbEdVs+xOt8YnRCkjOcbockKS1WLWvIk0kgcQGgieAM7Y8fM7TSaT\n",
              "wdWELuZ5AggVBE8AZ8y7PzttlEaUZ54nI54Agh3BE8AZcbrc3h11WNE+sub3jXgePNKh5s4eg6sB\n",
              "gDNH8ARwRvbVtanN5lBclFUzU+ONLiekjY6N1KSxsZKk7TSSBxDECJ4Azkhx3zaZ8zOTZLXwo2Sk\n",
              "sW87gFDAbwsAZ8Q7v5PL7H7h2bedBUYAghnBE8Cwud1uFX3pWdHOwiJ/8CwwKqlolpNG8gCCFMET\n",
              "wLBVN3eprrVbVrNJuROTjC4nLExLiVdclFUdPU7tq2szuhwAOCMETwDDVtx3mX12eqJGRVoNriY8\n",
              "WMwmzc9MksTldgDBi+AJYNiK+hrH07/Tv+azwAhAkCN4Ahg2z4gn/Tv9K48RTwBBjuAJYFhaOu3a\n",
              "d7h3jmE+I55+5RnxLGvo1NF2m8HVAMDwETwBDMvWit7L7JPGxmpcfJTB1YSXxJgITUuJkyRtr2g2\n",
              "thgAOAMETwDD4unfuYDRTkOwbzuAYDas4Nnd3a2vfe1rmj59uubNm6fLL79cBw4ckCTV19dr6dKl\n",
              "mjZtmnJycvTRRx95HzfYMQDBZSuN4w3l3cGIeZ4AgtCwRzxXrlypffv2aceOHVq2bJluvfVWSdI9\n",
              "99yjRYsWqbS0VGvXrtUNN9wgu91+2mMAgofN4VRJVbMkGscbJa9vxHNnVbPsTpfB1QDA8AwreEZH\n",
              "R+vqq6+WyWSSJC1atEhlZWWSpJdfflmrVq2SJBUUFCgtLU0ffvjhaY8BCB67qlvU43BpTGykJo2N\n",
              "NbqcsDR5bKwSYyLUbXfpi9pWo8sBgGE5qzmejz/+uJYtW6aGhgbZ7XalpqZ6j2VnZ6uiomLQYwOx\n",
              "2WxqbW3t9+F0Os+mTAA+4p3fmZ3s/QMU/mU+vpE88zwBBJkzDp4PPvigDhw4oNWrV/uyHq1evVqJ\n",
              "iYn9PrZs2eLT5wBwZoo9jeOZ32mo/L55nltZ2Q4gyJxR8HzkkUf06quv6q233tKoUaM0ZswYWa1W\n",
              "1dXVee9TVlamzMzMQY8N5N5771VLS0u/j8LCwjMpE4APuVxuFZfTOD4QeOZ5MuIJINgMO3g++uij\n",
              "evHFF/Xuu+8qKSnJe/u1116rp556SpJUVFSk6upqXXTRRac9dqKoqCglJCT0+7BYLMMtE4CPHTzS\n",
              "ruZOu6IjzJqdlmB0OWFt3sQkmU1SdXOXDrd2G10OAAyZdTh3rqqq0p133qnJkydryZIlknqD4mef\n",
              "faaHHnpIN910k6ZNm6bIyEg9//zzioiIkKRBjwEIDp75nfMnJivCQgtgI8VFWTUjNUFf1LZqW3mT\n",
              "rpozweiSAGBIhhU8MzIy5Ha7Bzw2fvx4vfPOO8M+BiA4HJvfSRulQJCXmdQbPCsIngCCB8MWAIak\n",
              "qLw3eDK/MzCwgxGAYETwBHBadS3dqmzsktkkbysfGMuzg9Gu6lbZHLScAxAcCJ4ATqu4b7TznAkJ\n",
              "io9mfnYgyBozSmNiI9XjdGlXNY3kAQQHgieA0ypmf/aAYzKZNL9v1HM7+7YDCBIETwCnVdS3sMgz\n",
              "rxCBwfN+bCN4AggSBE8Ag2rrtnv3BF/AivaAktc333ZredMpO44AQCAheAIY1PaKZrncUkZyjCYk\n",
              "xhhdDo4zNyNJVrNJh1ttqmmhkTyAwEfwBDAo9mcPXDGRFs3q20WKtkoAggHBE8Cgju3PzmX2QORp\n",
              "q8S+7QCCAcETwCnZnS5tr2iWxIhnoMpjgRGAIELwBHBKe2pa1WV3KjEmQlPHxRldDgbgWWC0p6ZV\n",
              "3XYayQMIbARPAKfkaaO0ICtZZrPJ4GowkPSkGI1PiJLD5dbOqhajywGAQRE8AZySp3E8+7MHLpPJ\n",
              "5J3nyQIjAIGO4AlgQG6327tVZgELiwKad4ER8zwBBDiCJ4ABlTV06mh7jyKtZs3JSDS6HAzCu8CI\n",
              "RvIAAhzBE8CAPPM752UkKspqMbgaDCYnPUGRFrMaOnpU0dhpdDkAcEoETwAD8jSOZ35n4IuyWpST\n",
              "TiN5AIGP4AlgQJ6FRczvDA7M8wQQDAieAE5ytN2mQ0c7JEn5mYx4BoN87zzPZmMLAYBBEDwBnMQz\n",
              "2jljfLwSR0UYXA2GwrPAaG9dq9ptDoOrAYCBETwBnMQzvzOfy+xBY3xCtNKTYuRySzsrm40uBwAG\n",
              "RPAEcJKicuZ3BiPPqCcLjAAEKoIngH46exzaXd279eKCLOZ3BhPPvu0sMAIQqAieAPopqWyWw+VW\n",
              "akK0MpJjjC4Hw+BZYLS9slkuF43kAQQegieAfrZ692dPlslkMrgaDMc5ExIUHWFWc6fd25UAAAIJ\n",
              "wRNhr93m0L66NjkZIZJ0/PxOLrMHmwiLWXMzkiRxuR1AYLIaXQBgFJvDqf+9qVxr3j+gli67UuKj\n",
              "9NV5aVqWm6Y56YlhOdrndLm1rfzYiCeCT15msrZ82aht5U26bsFEo8sBgH4Ingg7Lpdb63dU65G3\n",
              "96u6uUuSZDGbVN9m07OffKlnP/lSk8bG6pp5abomN01TxsUZXLH/eHpAxkVZNTM1wehycAZYYAQg\n",
              "kBE8EVY+Lj2i1W/u1Z7aVklSakK0fnL5dH11Xpo+OXBU60uq9d4Xh/Xl0Q49vqFUj28oVU56gpbN\n",
              "S9dX56UpNTHa4FcwsjyN4/OykmUxh9+IbyjwtFTaf7hdLV12JcawAQCAwEHwRFjYVd2ih/6xVx+X\n",
              "HpUkxUdZteriKbrl/EmKibRIki6fNV6XzxqvdptD7+6p0/qSGn1celS7qlu1q7pVD771hRZOGq1l\n",
              "uem6KidVSaMijXxJI6Kor3F8QRaX2YPV2LgoZY0ZpfKGTpVUNuui6eOMLgkAvAieCGmVjZ169N39\n",
              "+p/t1ZKkCItJNy3K1u2XTNXo2IGDY1yUVf88P0P/PD9DDe02vbmrTq+XVKuorEmbDzVq86FG3bd+\n",
              "ly6anqJluWm67Jzx3vAazNxutzd4LmBhUVDLz0xWeUOntpU3ETwBBBSCJ0JSU0eP/nPjAf15U7l6\n",
              "nC5J0rLcNP30ihmaOHrUkM8zJi5KNy3K0k2LslTV1Kn/s6NW60uqtbeuTe99cVjvfXFYoyItumLW\n",
              "eC3LTdcF08YqwhKczSKqmrp0uNUmq9mk3IlJRpeDszA/K1mvbq9mnieAgEPwREjptju17tMy/efG\n",
              "A2rrdkiSzp86RvcsPUdzMhLP6twZyaP0/Yun6PsXT9G+uja9vqNa60tqVNXUpddKavRaSY2SR0Xo\n",
              "K3MnaFluuvIzk2UOonmSxeW9o5056YkhMYIbzjwLjEoqmuV0uZmvCyBgEDwREpwut17dVqVH392v\n",
              "2pZuSb3NtO+5aqYWTxvr89ZIM1LjdVfqTP30ihnaXtms10tq9MbOGh1t79Hzmyv0/OYKpSfF6Kvz\n",
              "0nTNvDSdMyE+4NszFZWxP3uomDE+XrGRFrXZHCqtb6NDAYCAQfBEUHO73fpg3xE99I+92lvXJklK\n",
              "S4zWT6+coa/lpo/4iKPJZFJeZrLyMpP1i6+co08PNmh9SY3e3l2n6uYuPfXhQT314UFNS4nTstw0\n",
              "XTMvXZljhn6p35+Kmd8ZMqwWs+ZNTNKnBxu0rbyZ4AkgYBA8EbR2VjVr9Zt7telQgyQpIdqq2y+Z\n",
              "qm+fm63oCP9fKrZazFo8fZwWTx+n39pztHFvvdaX1Oj9vfUqrW/XI+/s1yPv7Nf8zCQtm5emr8xN\n",
              "07j4KL/XOZDmzh7tP9wuSVrAivaQkJ+VrE8PNmhreZNuWJhpdDkAIIngiSBU3tChh9/epzd21kqS\n",
              "Iq1mrTgvWz+4eErAtDiKjrDoqjkTdNWcCWrpsuvt3XV6vaRGnx48qu0Vzdpe0awH3tij86eO1TXz\n",
              "0nRlTqoSoo3rt7i1b7eiyWNjNSYuMMIwzk5eZu8fENtZYAQggBA8ETQa2m1a8/4BvfBZuexOt0wm\n",
              "6Z/np+snl09XRnJgXr6WpMSYCF23YKKuWzBR9a3demNnrdbvqNGOymZ9XHpUH5ce1f96bZcundnb\n",
              "nuniGSl+H7H1zO9km8zQMb9vgdGhox1q7Og5ZfswAPAngicCXlePU89+ckhPfXhI7bbeleqLp4/T\n",
              "PUtnalZacM1dS0mI1i0XTNItF0xS2dEO/Z8dNXqtpFoHj3TorV11emtXneKjrFqak6pluek6d8oY\n",
              "v6xIZn5n6EkaFakp42J18EiHtlc06dJzxhtdEgAQPBG4HE6X/r61d6V6fZtNkpSTnqB7rzpH508d\n",
              "a3B1Zy97bKx+eOk03X7JVO2pbdXrJTV6fUeNalu69betVfrb1iqNjYvSP82doGW5acqdmDQiK+O7\n",
              "7U7trGqRJBUQPENKXmayDh7p0DaCJ4AAQfBEwHG73Xrvi3o99I+9OlDfu+AlIzlGd105Q1+dmxZU\n",
              "vTGHwmQyaXZaomanJerupTNVVNao9Ttq9ObntTrabtO6T8u07tMyZY4epWW5aVqWm6apKfE+e/7P\n",
              "q1vU43RpbFyksgN0xT3OTH5Wsv62tco7hxcAjEbwREDZVtGk3725V1v6Lv0mj4rQ7ZdM07cWZSrK\n",
              "GvpNzc1mkxZOHqOFk8fo/q/O1icHjmh9SY3e2X1YFY2dWvP+Aa15/4BmTUjQstw0fXVemtKSYs7q\n",
              "OYs98zuzRgd8r1EMT15fh4IdlS1yOF2yBumuWgBCB8ETAeHQkXY9/PY+vbWrTpIUZTXruxdM0qqL\n",
              "pxi62ttIkVazLpk5XpfMHK/OHofe3XNYr5fU6MP9R7SntlV7alu1+q29KswerWty03T1nAlntIDk\n",
              "2PxOFhaFmqnj4hQfbVVbt0N769qUk352u3cBwNkieMJQR9psemJDqf6ypUJOl1tmk/T/5Wfox5dP\n",
              "14TEsxvJCyWjIq1alpuuZbnpauro0Vu76rS+pFqffdmoLWW9H/e/vluLp4/Tstw0XXbOeMVGnf7b\n",
              "2+Vyq7jcs2MR8ztDjdls0vzMZH20/4i2VTQRPAEYjuAJQ3TYHPrvjw/pvz86pI4epyTp0pkp+tnS\n",
              "mZqR6rv5i6EoOTZSNyzM1A0LM1XT3KU3dtZofUmNdte06v299Xp/b71iIiy6fNZ4LctN04XTxinS\n",
              "OvAl1gNH2tXSZVdMhCXoOgRgaPI9wbO8Sd8+N9vocgCEOYIn/MrudOmloko9/l6pjrb3rlSfl5Go\n",
              "e68+R4smjzG4uuCTlhSjlYunaOXiKTpQ36bXS2q0fkeNyhs69fqO3lXySaMidFVO78r4wuzR/RZn\n",
              "FfVdZp+fmaQI5v+FpLysJEnSVhrJAwgABE/4hdvt1tu76/Tv/9inQ0c7JEnZY0bpritn6uo5qSxq\n",
              "8YGpKfH6yRUz9OPLp2tnVYvWl9To/+ys0ZE2m17cUqEXt1RoQmK0vjovTdfMS9PstIRjC4u4zB6y\n",
              "ettwSZWNXapv61ZKfLTRJQEIYwRPjLiiskatfvMLbatoliSNiY3Ujy6dpm8WZp7yEjDOnMlk0ryJ\n",
              "SZo3MUn/6yvnaPOhBq0vqdZbu+pU29KtZz46pGc+OqTJ42LV0N4jSSpgYVHIio+O0Izx8dpb16Zt\n",
              "5c1ampNqdEkAwhjBEyPmQH2bHvrHPr2757AkKSbCou9dOEnfWzxZ8WG6Ut3fLGaTzp86VudPHasH\n",
              "luXog31H9PqOam34ol6HjvSOPJtN0vxMgmcom5+ZrL11bdpe0UTwBGAogid87nBrt/7jvf36a1Gl\n",
              "XO7e8HPdgon68WXTlJLAZT6jREdYtDQnVUtzUtXWbdc7uw/rnT11ys9KVtwQVsAjeOVnJevFLRXa\n",
              "xjxPAAbjtw18pq3brmc+OqQ/fvyluuy9K9WvmDVeP1s6U1NT4gyuDseLj47Q1/Mz9PX8DKNLgR/k\n",
              "ZSZJknZUtajH4WKKCwDDEDxx1nocLv3ls3I98f4BNXb0zhnMy0zSz68+h0UrQACYNDZWyaMi1NRp\n",
              "157aVuVOTDK6JABhiuCJM+Z2u/V/P6/Vw2/vU3lDpyRp8rhY/ezKmbpy9nhWqgMBwmQyKS8zWRv2\n",
              "1mtreRPBE4BhCJ44I5sONuh3b32hHVUtkqSxcVH68eXT9I0FE9kPGghAeVm9wXNbRZO+q0lGlwMg\n",
              "TBE8MSx761r10Ft7tXHfEUlSbKRFKxdP0a0XThrSFo0AjJHX17lgezkLjAAYh6SAIalt6dKj7+zX\n",
              "37dVye2WrGaTbliYqR9eMk3j4qOMLg/AacybmCiL2aSalm7VtnRpQmKM0SUBCEMETwyqpcuuP3xw\n",
              "UGv//y9lc7gkSVfPSdVdV87UpLGxBlcHYKhGRVp1zoR47apu1bbyZn1lLsETgP/5LXiWlpbq5ptv\n",
              "1tGjR5WYmKh169Zp9uzZ/nr6IdtW0aQoq1lRVkvvfyOO+9xqDpsFMzaHU/97U7me3HhAzZ12SVLh\n",
              "pNG696qZNBsHglReZrJ2Vbdqa3mTvjJ3gtHlAAhDfguet912m1auXKkVK1bo73//u1asWKGioiJ/\n",
              "Pf2QOF1uLf+vTwe9jyeARkUcC6PR3s8tfUG19/PoiIEDrPf+A912inNEWs2ymEc+9Lpcbr2+o0aP\n",
              "vLNPVU1dkqRpKXG6e+lMXXpOStgEbyAU5WUm68+bymkkD8Awfgme9fX1Ki4u1jvvvCNJ+vrXv67b\n",
              "b79dBw4c0NSpU/1RwpDYnS5ljh4lm8Mpm8Olbnvvf93uY/exOVy9l5y7HX6vL8JiOimoRvoqBFvN\n",
              "au6y64kNpdpd0ypJGp8QpZ9cPl1fz8tgpToQAvKzeq9W7K5p0a/W75JbktstueXu+29vmzS3u//t\n",
              "rr7Pddx9XMffX5Lcksvz2IHOd9x9Xe7ez3Xc87tc/R/nPd9xj3O7T/j8+PpOPJ+7f22e85hNJlkt\n",
              "JlnMZkVYTLKYTYow9/5hb7WYZDWbZLWYZTX3HbOY+/7b+7XVbO53H89jjj+f95j3uPmk83pv9zzn\n",
              "KT63nPRc/hmEAEaKX4JnZWWlJkyYIKu19+lMJpMyMzNVUVFxUvC02Wyy2Wz9bnM6nf4oU9ERFn30\n",
              "syX9bnO73bI73SeFUZvd5b2t/+0D3OZw9t3/+M/7n6f7hPPZ7E51O1xyuo6lXrvTLbvToXbbiZX7\n",
              "VnyUVasunqJbzp+kmEjLyD4ZAL/JSI7RhMRo1bZ067lN5UaXgzNkMulYQDUfC9LWAcLz8cfClfv4\n",
              "0aNT3WdI5xnCfYZwnqGcyFf15Gcl6/5rAmtaY8AtLlq9erV+/etf97tt0aJFBlXTG5IjrSZFWs2K\n",
              "N+D5HU7XsTDaF1q7BwiyJ93WF2q7Twy6pwjJNodTTpdbl8xM0Q8vmabRsZEGvFoAI8lkMum/bszT\n",
              "+3vre7/uvVGm3v/IfNznnmk1ZpOp92vP7TJ5jx+7TTKbTYOfT7137P8cpzqfSea+49Kx5/fWcqrz\n",
              "yXTyeftet+d8TpfkcLnkcLrldLlld/b+gW93ueV0uWTvu93hdMnhcsvhdPf9t/fr3vu65PTc3ncu\n",
              "x0CPcbn6P8cJz3n8ueyu/sd6z+GSa4Bw4XZ7BiL8MyiD4DU2LvB+l5vcQ/lT4CzV19dr6tSpamxs\n",
              "lNVqldvt1oQJE/TJJ58MacTzl7/8pR5//PGRLhMAgIDich0XcI8LpJ7gfHLgHfhzp8ulvj81DGH0\n",
              "8oChPP1Q1jAM7Tw+us9Qnu00dxkTG6m5GUmnP48f+WXEMyUlRXl5eXr++ee1YsUKvfLKK8rIyBhw\n",
              "fmdUVJSiovr3hbRYuNwLAAg/ZrNJkWaTIsU8e4QGv11qf/rpp7VixQo9+OCDSkhI0Nq1a/311AAA\n",
              "AAgAfgueM2bM0KZNm/z1dAAAAAgwjN0DAADALwieAAAA8AuCJwAAAPyC4AkAAAC/IHgCAADALwie\n",
              "AAAA8AuCJwAAAPyC4AkAAAC/IHgCAADAL0xut9ttdBGns3z5cmVnZ/vluZxOp7Zs2aLCwkL2iA8T\n",
              "vOfhifc9/PCehx/ec//KysrSv/7rvw56n6AInv7U2tqqxMREtbS0KCEhwehy4Ae85+GJ9z388J6H\n",
              "H97zwMOldgAAAPgFwRMAAAB+QfAEAACAXxA8TxAVFaVf/epXioqKMroU+AnveXjifQ8/vOfhh/c8\n",
              "8LC4CAAAAH7BiCcAAAD8guAJAAAAvyB4AgAAwC/CJnhmZ2crJSVFdrvde9vGjRtlMpl0xx136IMP\n",
              "PlBMTIxyc3M1d+5cXXDBBdq5c6f3vu+++64WL16syZMna8GCBSosLNQzzzxjxEsJetnZ2ZoxY4bm\n",
              "zZunqVOnatmyZfr0008lSU899ZQefvjhMz73ihUr9B//8R8+qtT/1q1bp7179xpdRsD69a9/rVtv\n",
              "vdX79SeffCKTyaQPPvjAe9uqVav0y1/+8pTnuPXWW7Vx48bTPtf999+vO+64Y8BjJSUleumll4Zc\n",
              "N052up/Jw/XTn/5U999//2nvd6qfETfeeKN+/vOf97vtK1/5ih555JFh14KRkZ2drZKSEqPLwFkK\n",
              "m+ApSZmZmXr99de9Xz/77LNasGCB9+sZM2aopKREO3fu1PLly/Wd73xHkvTOO+/o5ptv1u9+9zsd\n",
              "OnRIxcXFevXVV1VdXe331xAq/vrXv2rHjh06cOCAbr75Zl199dX67LPPtGrVKt11111Gl2cYgufg\n",
              "lixZ0i9kbty4UQsXLjzptksuueSU5/jjH/+oJUuWnFUdBE/fON3PZH968skn9cILL6ioqMhbS2tr\n",
              "q37yk5+c9bkdDsdZnwMIFWEVPL/zne/oT3/6kySppaVFmzdv1tKlSwe879KlS7Vv3z5J0gMPPKD7\n",
              "7rtP5513nvd4RkaGfv3rX4980WFg+fLlWrVqlR555JF+o0ybN29Wfn6+cnNzlZOToz/84Q+Sekcs\n",
              "brnlFp133nmaPn26br75ZnV1dZ103g0bNujcc8/V/PnzNXv2bD377LPeYy0tLbr11luVk5OjefPm\n",
              "6ZZbbpEk2e123XPPPSosLFRubq6uu+46NTU1eZ935cqVuuyyyzRp0iTdcsst2rJliy6++GJNnjy5\n",
              "3y+ouro6XXfddSosLNScOXP0i1/8wnssOztb9913n84991xNmjRJv/nNbyT1BqLi4mL9+Mc/Vm5u\n",
              "rt58803f/kOHgEWLFqmmpkZVVVWSpA8++ED33XefN3jW1taqoqJCCxYs0Pe+9z0VFhZq7ty5Wrly\n",
              "pXp6eiRJF198sV577TXv/a+44grNmjVLV1xxha6//vp+o2a1tbX66le/qlmzZumSSy5RY2Oj6uvr\n",
              "dd9992njxo3Kzc3VqlWr/PlPEFJO9zPZ6XTqrrvuUk5OjnJycvTDH/7Q+z7W1tbqyiuv1KxZs3TZ\n",
              "ZZd5/5+QBv8+PpXk5GQ9/fTTWrFihUpLS3XffffpueeeU319/Sm/l3/605+qoKBAubm5Wrx4sfd3\n",
              "hiSZTCb96le/UkFBge69916f/Huh16OPPur9dy8oKNCmTZu8x7Kzs3XXXXcpPz9fU6dO7XcF7XTv\n",
              "14MPPqjCwkJNmjRJa9eu9etrCidhFTzPP/98lZWVqaamRi+++KKuvfZaWSyWAe/70ksvKT8/X5K0\n",
              "bds2LVy40J+lhp2FCxdq9+7d/W5bvXq1fvrTn6qkpES7du3S9ddf7z322Wef6e2339YXX3yhxsZG\n",
              "PfbYYyedMy8vT5988om2b9+ujz/+WA888ID3l9Mdd9yhyMhI7dy5Uzt27NBDDz0kSXr44YcVGxur\n",
              "LVu2qKSk5KRfNJ9//rneeOMN7du3Tx999JFWr16td999V59//rleeOEF72u4+eab9S//8i/asmWL\n",
              "tm/fruLiYv3tb3/znqe5uVmbNm1SUVGRHn74YVVXV+vWW2/VggUL9Nhjj6mkpERXX3217/6BQ0Rk\n",
              "ZKTOO+88bdy4UTabTV9++aWuvvpqVVVVqbu7Wxs3btS5556rO++8UxdeeKG2bNmiHTt2yOVy6fHH\n",
              "Hz/pfD/60Y907rnnas+ePfrzn//cb+RU6v3/bN26ddqzZ49SUlL09NNPKyUlRQ888ICWLFmikpIS\n",
              "PfXUU3569aHndD+Tn3nmGRUVFWnr1q0qKSnRwYMHvd/rP/rRj1RYWKg9e/boueee04YNG7yPO933\n",
              "8aksXbpUF154oQoKCnTfffdp8uTJg34v33333SoqKlJJSYl+8IMf6F//9V/7nc9isXi/x+E7N910\n",
              "k/fffc2aNd6rkx6HDx9WcXGxNm/erDVr1nincp3u/YqKitKWLVv01ltv6Uc/+hEj1SPEanQB/nbT\n",
              "TTdp3bp1eu211/TCCy/ohRde8B7bt2+fcnNzJUnTp0/Xc889N+A5brzxRu3evVt1dXXav3+/EhIS\n",
              "/FF6SBuoneySJUv0b//2byotLdUll1yiCy64wHvsuuuuU3x8vCTpu9/9rp544omT5mc1NDTou9/9\n",
              "rvbv3y+r1aqGhgbt2rVLGRkZeuONN/TZZ5/JbO7922vcuHGSpNdee00tLS165ZVXJEk9PT3Kzs72\n",
              "nnPZsmWKjo6WJM2ZM0dXXnmlIiIiFBERoVmzZqm0tFTZ2dnasGGDDh8+7H1ce3t7v7+ub7jhBknS\n",
              "2LFjNXnyZH355ZdKT08/43+/cOK53J6VlaXCwkJJvSOhmzZt0gcffKAlS5ZozZo12rRpkx599FFJ\n",
              "UldX14B/ZG7YsME7hy81NVX/9E//1O/40qVLNWbMGEnSueeeq88//3wkX1pYGuxn8nvvvacVK1Z4\n",
              "m39/73vf03/+53/q7rvv7vfepaen65prrvE+7nTfx4O566679Je//EW33XabOjo6Bv1efvfdd7Vm\n",
              "zRq1tbXJ5XKpsbGx37k8V1LgW9u3b9dvf/tbNTQ0yGq1at++ferq6lJMTIyk3t8JJpNJY8eO1fLl\n",
              "y/Xee+/pvPPOO+37deONN0qSZs6cKavVqrq6OmVkZPj99YW6sAue3/72t5WXl6fp06dr2rRp/Y55\n",
              "5nieaP78+dqyZYvmz58vSd4fjCaTSS6Xa8RrDgdFRUXKycnpd9sdd9yhZcuW6b333tPPf/5z5eTk\n",
              "6L/+678GfLzJZDrptlWrVunqq6/WK6+8IpPJpLy8PHV3dw9ah9vt1po1a3TFFVcMeNwTOqXe0YwT\n",
              "v3Y4HN4QvXnz5n7HBzsPf1kP3ZIlS/Tss88qMzNTF198sSTpoosu0saNG7Vx40atW7dOTzzxhF55\n",
              "5RVNnz59WOc+8f8j3qeRN9jP5BMN9H0+0LHTfR8PxmKxeP8gHex7uaKiQrfffruKioo0ZcoU7dy5\n",
              "U4sXL+53n7i4uGE/PwbX09Oj5cuXa+PGjSooKFBra6sSExNls9m8wfNEJpNpSO8X3+/+EVaX2iUp\n",
              "LS1Nq1ev9l5aHYpf/vKXeuCBB7R582bvbR0dHSNRXlhav369/vCHP+jOO+/sd/u+ffs0adIkfe97\n",
              "39PPf/7zfv/+f//739Xe3i6n06m1a9fqsssuO+m8TU1NysrKkslk0kcffaQdO3Z4j11zzTV65JFH\n",
              "vH84HDlyRJL0ta99TY899pg6OzslSZ2dnSdNATiduLg4LVmyRL/73e+8tx0/L3EwCQkJamlpGdbz\n",
              "hZuCggLV19frhRde6Bc8X3rpJdXW1qqwsFBf+9rX9NBDD3l/cTQ1NenAgQMnneuSSy7RunXrJPVe\n",
              "nnvjjTeGVAPvk+8M9jP5sssu05///Gf19PTI4XDoj3/8ozdMXnbZZd75obW1tf0WKfni+1ga/Hu5\n",
              "paVFERERmjBhgtxut5588slhnx/D193drZ6eHmVmZkqS1qxZc9J9PN/TjY2N+p//+R9deumlvF8B\n",
              "JOyCp9Q7of3cc88d8v2XLl2qZ599VnfddZemTJmiRYsW6aqrrtKaNWu8l3sxPN/4xje87ZSeffZZ\n",
              "vfnmmyfNo33yySc1e/ZszZ8/X7/4xS/0+9//3nusoKBAV155pc455xwlJSUN2H7ld7/7ne655x7l\n",
              "5ubqT3/6U7/zP/bYY7LZbJozZ45yc3O9l+nvvvtuFRQUaOHChZo7d64WLVp0Ru07XnjhBR04cEA5\n",
              "OTmaM2eOli9froaGhtM+buXKlXrwwQdZXDSIiIgIXXDBBWpra9PMmTMl9U6NaWtr0wUXXKCIiAg9\n",
              "9thj/dqjXXrppSorKzvpXI8//rg+/vhjzZo1SzfeeKMWLlyopKSk09Zw6aWXymazae7cuSwu8oFT\n",
              "/UxeuXKl8vLylJeXp9zcXGVnZ3u/1x9//HFt3rxZs2bN0re//e1+nQx89X0snfp7ec6cObr++us1\n",
              "e/ZsFRQUeIMQRo7D4VBKSop+85vfqLCwUPn5+YqMjDzpfuPGjVN+fr4KCwt1++2367zzzuP9CiDs\n",
              "1Y6gs2LFCuXm5p5Rrz/geF1dXYqIiPDOAV60aJGef/55FhMCAaa2tlYzZsxQXV2dRo0adcr7ZWdn\n",
              "67XXXvOu10DgCbs5ngDgUVpaqm9/+9tyu93q6enRD37wA0InEGAeffRRPf3003rkkUcGDZ0IDox4\n",
              "AgAAwC/Cco4nAAAA/I/gCQAAAL8geAIAAMAvCJ4AAADwC4InAAAA/ILgCQAAAL8geAIAAMAvCJ4A\n",
              "AADwC4InAAAA/OL/AdL9OJ2LaxrmAAAAAElFTkSuQmCC\n",
              "\">\n",
              "      </div>\n",
              "      <script type=\"text/javascript\">\n",
              "        (() => {\n",
              "          const chartElement = document.getElementById(\"chart-5f5a0ab8-9cef-40b0-8be1-7d01784f88d7\");\n",
              "          async function getCodeForChartHandler(event) {\n",
              "            const chartCodeResponse =  await google.colab.kernel.invokeFunction(\n",
              "                'getCodeForChart', [\"chart-5f5a0ab8-9cef-40b0-8be1-7d01784f88d7\"], {});\n",
              "            const responseJson = chartCodeResponse.data['application/json'];\n",
              "            await google.colab.notebook.addCell(responseJson.code, 'code');\n",
              "          }\n",
              "          chartElement.onclick = getCodeForChartHandler;\n",
              "        })();\n",
              "      </script>\n",
              "      <style>\n",
              "        .colab-quickchart-chart-with-code  {\n",
              "            display: block;\n",
              "            float: left;\n",
              "            border: 1px solid transparent;\n",
              "        }\n",
              "\n",
              "        .colab-quickchart-chart-with-code:hover {\n",
              "            cursor: pointer;\n",
              "            border: 1px solid #aaa;\n",
              "        }\n",
              "      </style>"
            ]
          },
          "metadata": {}
        }
      ],
      "source": [
        "train_dataset.describe().transpose()[['mean', 'std']]"
      ]
    },
    {
      "cell_type": "markdown",
      "metadata": {
        "id": "-ywmerQ6dSox"
      },
      "source": [
        "It is good practice to normalize features that use different scales and ranges.\n",
        "\n",
        "One reason this is important is because the features are multiplied by the model weights. So, the scale of the outputs and the scale of the gradients are affected by the scale of the inputs.\n",
        "\n",
        "Although a model *might* converge without feature normalization, normalization makes training much more stable.\n",
        "\n",
        "Note: There is no advantage to normalizing the one-hot features—it is done here for simplicity. For more details on how to use the preprocessing layers, refer to the [Working with preprocessing layers](https://www.tensorflow.org/guide/keras/preprocessing_layers) guide and the [Classify structured data using Keras preprocessing layers](../structured_data/preprocessing_layers.ipynb) tutorial."
      ]
    },
    {
      "cell_type": "markdown",
      "metadata": {
        "id": "aFJ6ISropeoo"
      },
      "source": [
        "### The Normalization layer\n",
        "\n",
        "The `tf.keras.layers.Normalization` is a clean and simple way to add feature normalization into your model.\n",
        "\n",
        "The first step is to create the layer:"
      ]
    },
    {
      "cell_type": "code",
      "execution_count": 16,
      "metadata": {
        "id": "JlC5ooJrgjQF"
      },
      "outputs": [],
      "source": [
        "normalizer = tf.keras.layers.Normalization(axis=-1)"
      ]
    },
    {
      "cell_type": "markdown",
      "metadata": {
        "id": "XYA2Ap6nVOha"
      },
      "source": [
        "Then, fit the state of the preprocessing layer to the data by calling `Normalization.adapt`:"
      ]
    },
    {
      "cell_type": "code",
      "execution_count": 17,
      "metadata": {
        "id": "CrBbbjbwV91f"
      },
      "outputs": [],
      "source": [
        "normalizer.adapt(np.array(train_features))"
      ]
    },
    {
      "cell_type": "markdown",
      "metadata": {
        "id": "oZccMR5yV9YV"
      },
      "source": [
        "Calculate the mean and variance, and store them in the layer:"
      ]
    },
    {
      "cell_type": "code",
      "execution_count": 18,
      "metadata": {
        "id": "GGn-ukwxSPtx",
        "outputId": "27c4dfa3-86f8-464c-c47f-adc70be705e2",
        "colab": {
          "base_uri": "https://localhost:8080/"
        }
      },
      "outputs": [
        {
          "output_type": "stream",
          "name": "stdout",
          "text": [
            "[[   5.478  195.318  104.869 2990.252   15.559   75.898    0.178    0.197\n",
            "     0.624]]\n"
          ]
        }
      ],
      "source": [
        "print(normalizer.mean.numpy())"
      ]
    },
    {
      "cell_type": "markdown",
      "metadata": {
        "id": "oGWKaF9GSRuN"
      },
      "source": [
        "When the layer is called, it returns the input data, with each feature independently normalized:"
      ]
    },
    {
      "cell_type": "code",
      "execution_count": 19,
      "metadata": {
        "id": "2l7zFL_XWIRu",
        "outputId": "7ac4ff74-4003-4e03-fb67-c37a5aeb317f",
        "colab": {
          "base_uri": "https://localhost:8080/"
        }
      },
      "outputs": [
        {
          "output_type": "stream",
          "name": "stdout",
          "text": [
            "First example: [[   4.    90.    75.  2125.    14.5   74.     0.     0.     1. ]]\n",
            "\n",
            "Normalized: [[-0.87 -1.01 -0.79 -1.03 -0.38 -0.52 -0.47 -0.5   0.78]]\n"
          ]
        }
      ],
      "source": [
        "first = np.array(train_features[:1])\n",
        "\n",
        "with np.printoptions(precision=2, suppress=True):\n",
        "  print('First example:', first)\n",
        "  print()\n",
        "  print('Normalized:', normalizer(first).numpy())"
      ]
    },
    {
      "cell_type": "markdown",
      "metadata": {
        "id": "6o3CrycBXA2s"
      },
      "source": [
        "## Linear regression\n",
        "\n",
        "Before building a deep neural network model, start with linear regression using one and several variables."
      ]
    },
    {
      "cell_type": "markdown",
      "metadata": {
        "id": "lFby9n0tnHkw"
      },
      "source": [
        "### Linear regression with one variable\n",
        "\n",
        "Begin with a single-variable linear regression to predict `'MPG'` from `'Horsepower'`.\n",
        "\n",
        "Training a model with `tf.keras` typically starts by defining the model architecture. Use a `tf.keras.Sequential` model, which [represents a sequence of steps](https://www.tensorflow.org/guide/keras/sequential_model).\n",
        "\n",
        "There are two steps in your single-variable linear regression model:\n",
        "\n",
        "- Normalize the `'Horsepower'` input features using the `tf.keras.layers.Normalization` preprocessing layer.\n",
        "- Apply a linear transformation ($y = mx+b$) to produce 1 output using a linear layer (`tf.keras.layers.Dense`).\n",
        "\n",
        "The number of _inputs_ can either be set by the `input_shape` argument, or automatically when the model is run for the first time."
      ]
    },
    {
      "cell_type": "markdown",
      "metadata": {
        "id": "Xp3gAFn3TPv8"
      },
      "source": [
        "First, create a NumPy array made of the `'Horsepower'` features. Then, instantiate the `tf.keras.layers.Normalization` and fit its state to the `horsepower` data:"
      ]
    },
    {
      "cell_type": "code",
      "execution_count": 20,
      "metadata": {
        "id": "1gJAy0fKs1TS"
      },
      "outputs": [],
      "source": [
        "horsepower = np.array(train_features['Horsepower'])\n",
        "\n",
        "horsepower_normalizer = layers.Normalization(input_shape=[1,], axis=None)\n",
        "horsepower_normalizer.adapt(horsepower)"
      ]
    },
    {
      "cell_type": "markdown",
      "metadata": {
        "id": "4NVlHJY2TWlC"
      },
      "source": [
        "Build the Keras Sequential model:"
      ]
    },
    {
      "cell_type": "code",
      "execution_count": 21,
      "metadata": {
        "id": "c0sXM7qLlKfZ",
        "outputId": "29518627-20d8-496a-fc91-e0b5a72b7d3d",
        "colab": {
          "base_uri": "https://localhost:8080/"
        }
      },
      "outputs": [
        {
          "output_type": "stream",
          "name": "stdout",
          "text": [
            "Model: \"sequential\"\n",
            "_________________________________________________________________\n",
            " Layer (type)                Output Shape              Param #   \n",
            "=================================================================\n",
            " normalization_1 (Normaliza  (None, 1)                 3         \n",
            " tion)                                                           \n",
            "                                                                 \n",
            " dense (Dense)               (None, 1)                 2         \n",
            "                                                                 \n",
            "=================================================================\n",
            "Total params: 5 (24.00 Byte)\n",
            "Trainable params: 2 (8.00 Byte)\n",
            "Non-trainable params: 3 (16.00 Byte)\n",
            "_________________________________________________________________\n"
          ]
        }
      ],
      "source": [
        "horsepower_model = tf.keras.Sequential([\n",
        "    horsepower_normalizer,\n",
        "    layers.Dense(units=1)\n",
        "])\n",
        "\n",
        "horsepower_model.summary()"
      ]
    },
    {
      "cell_type": "markdown",
      "metadata": {
        "id": "eObQu9fDnXGL"
      },
      "source": [
        "This model will predict `'MPG'` from `'Horsepower'`.\n",
        "\n",
        "Run the untrained model on the first 10 'Horsepower' values. The output won't be good, but notice that it has the expected shape of `(10, 1)`:"
      ]
    },
    {
      "cell_type": "code",
      "execution_count": 22,
      "metadata": {
        "id": "UfV1HS6bns-s",
        "outputId": "90fce9d1-c24f-49d9-d470-06818927372b",
        "colab": {
          "base_uri": "https://localhost:8080/"
        }
      },
      "outputs": [
        {
          "output_type": "stream",
          "name": "stdout",
          "text": [
            "1/1 [==============================] - 0s 89ms/step\n"
          ]
        },
        {
          "output_type": "execute_result",
          "data": {
            "text/plain": [
              "array([[-0.083],\n",
              "       [-0.047],\n",
              "       [ 0.154],\n",
              "       [-0.117],\n",
              "       [-0.106],\n",
              "       [-0.041],\n",
              "       [-0.125],\n",
              "       [-0.106],\n",
              "       [-0.028],\n",
              "       [-0.047]], dtype=float32)"
            ]
          },
          "metadata": {},
          "execution_count": 22
        }
      ],
      "source": [
        "horsepower_model.predict(horsepower[:10])"
      ]
    },
    {
      "cell_type": "markdown",
      "metadata": {
        "id": "CSkanJlmmFBX"
      },
      "source": [
        "Once the model is built, configure the training procedure using the Keras `Model.compile` method. The most important arguments to compile are the `loss` and the `optimizer`, since these define what will be optimized (`mean_absolute_error`) and how (using the `tf.keras.optimizers.Adam`)."
      ]
    },
    {
      "cell_type": "code",
      "execution_count": 23,
      "metadata": {
        "id": "JxA_3lpOm-SK"
      },
      "outputs": [],
      "source": [
        "horsepower_model.compile(\n",
        "    optimizer=tf.keras.optimizers.Adam(learning_rate=0.1),\n",
        "    loss='mean_absolute_error')"
      ]
    },
    {
      "cell_type": "markdown",
      "metadata": {
        "id": "Z3q1I9TwnRSC"
      },
      "source": [
        "Use Keras `Model.fit` to execute the training for 100 epochs:"
      ]
    },
    {
      "cell_type": "code",
      "execution_count": 25,
      "metadata": {
        "id": "-iSrNy59nRAp",
        "outputId": "5b798c03-3b50-4fe1-e6a8-a77576e0f5b8",
        "colab": {
          "base_uri": "https://localhost:8080/"
        }
      },
      "outputs": [
        {
          "output_type": "stream",
          "name": "stdout",
          "text": [
            "CPU times: user 5.49 s, sys: 201 ms, total: 5.69 s\n",
            "Wall time: 6.89 s\n"
          ]
        }
      ],
      "source": [
        "%%time\n",
        "history = horsepower_model.fit(\n",
        "    train_features['Horsepower'],\n",
        "    train_labels,\n",
        "    epochs=100,\n",
        "    # Suppress logging.\n",
        "    verbose=0,\n",
        "    # Calculate validation results on 20% of the training data.\n",
        "    validation_split = 0.2)"
      ]
    },
    {
      "cell_type": "markdown",
      "metadata": {
        "id": "tQm3pc0FYPQB"
      },
      "source": [
        "Visualize the model's training progress using the stats stored in the `history` object:"
      ]
    },
    {
      "cell_type": "code",
      "execution_count": 26,
      "metadata": {
        "id": "YCAwD_y4AdC3",
        "outputId": "063e81a9-42c1-4ad9-b685-0d8472a610ea",
        "colab": {
          "base_uri": "https://localhost:8080/",
          "height": 206
        }
      },
      "outputs": [
        {
          "output_type": "execute_result",
          "data": {
            "text/plain": [
              "        loss  val_loss  epoch\n",
              "95  3.803492  4.181834     95\n",
              "96  3.804002  4.199716     96\n",
              "97  3.803971  4.188210     97\n",
              "98  3.805773  4.202670     98\n",
              "99  3.804548  4.173857     99"
            ],
            "text/html": [
              "\n",
              "  <div id=\"df-107e0c31-cd2f-4201-a4fb-f7a2dcf48904\" class=\"colab-df-container\">\n",
              "    <div>\n",
              "<style scoped>\n",
              "    .dataframe tbody tr th:only-of-type {\n",
              "        vertical-align: middle;\n",
              "    }\n",
              "\n",
              "    .dataframe tbody tr th {\n",
              "        vertical-align: top;\n",
              "    }\n",
              "\n",
              "    .dataframe thead th {\n",
              "        text-align: right;\n",
              "    }\n",
              "</style>\n",
              "<table border=\"1\" class=\"dataframe\">\n",
              "  <thead>\n",
              "    <tr style=\"text-align: right;\">\n",
              "      <th></th>\n",
              "      <th>loss</th>\n",
              "      <th>val_loss</th>\n",
              "      <th>epoch</th>\n",
              "    </tr>\n",
              "  </thead>\n",
              "  <tbody>\n",
              "    <tr>\n",
              "      <th>95</th>\n",
              "      <td>3.803492</td>\n",
              "      <td>4.181834</td>\n",
              "      <td>95</td>\n",
              "    </tr>\n",
              "    <tr>\n",
              "      <th>96</th>\n",
              "      <td>3.804002</td>\n",
              "      <td>4.199716</td>\n",
              "      <td>96</td>\n",
              "    </tr>\n",
              "    <tr>\n",
              "      <th>97</th>\n",
              "      <td>3.803971</td>\n",
              "      <td>4.188210</td>\n",
              "      <td>97</td>\n",
              "    </tr>\n",
              "    <tr>\n",
              "      <th>98</th>\n",
              "      <td>3.805773</td>\n",
              "      <td>4.202670</td>\n",
              "      <td>98</td>\n",
              "    </tr>\n",
              "    <tr>\n",
              "      <th>99</th>\n",
              "      <td>3.804548</td>\n",
              "      <td>4.173857</td>\n",
              "      <td>99</td>\n",
              "    </tr>\n",
              "  </tbody>\n",
              "</table>\n",
              "</div>\n",
              "    <div class=\"colab-df-buttons\">\n",
              "\n",
              "  <div class=\"colab-df-container\">\n",
              "    <button class=\"colab-df-convert\" onclick=\"convertToInteractive('df-107e0c31-cd2f-4201-a4fb-f7a2dcf48904')\"\n",
              "            title=\"Convert this dataframe to an interactive table.\"\n",
              "            style=\"display:none;\">\n",
              "\n",
              "  <svg xmlns=\"http://www.w3.org/2000/svg\" height=\"24px\" viewBox=\"0 -960 960 960\">\n",
              "    <path d=\"M120-120v-720h720v720H120Zm60-500h600v-160H180v160Zm220 220h160v-160H400v160Zm0 220h160v-160H400v160ZM180-400h160v-160H180v160Zm440 0h160v-160H620v160ZM180-180h160v-160H180v160Zm440 0h160v-160H620v160Z\"/>\n",
              "  </svg>\n",
              "    </button>\n",
              "\n",
              "  <style>\n",
              "    .colab-df-container {\n",
              "      display:flex;\n",
              "      gap: 12px;\n",
              "    }\n",
              "\n",
              "    .colab-df-convert {\n",
              "      background-color: #E8F0FE;\n",
              "      border: none;\n",
              "      border-radius: 50%;\n",
              "      cursor: pointer;\n",
              "      display: none;\n",
              "      fill: #1967D2;\n",
              "      height: 32px;\n",
              "      padding: 0 0 0 0;\n",
              "      width: 32px;\n",
              "    }\n",
              "\n",
              "    .colab-df-convert:hover {\n",
              "      background-color: #E2EBFA;\n",
              "      box-shadow: 0px 1px 2px rgba(60, 64, 67, 0.3), 0px 1px 3px 1px rgba(60, 64, 67, 0.15);\n",
              "      fill: #174EA6;\n",
              "    }\n",
              "\n",
              "    .colab-df-buttons div {\n",
              "      margin-bottom: 4px;\n",
              "    }\n",
              "\n",
              "    [theme=dark] .colab-df-convert {\n",
              "      background-color: #3B4455;\n",
              "      fill: #D2E3FC;\n",
              "    }\n",
              "\n",
              "    [theme=dark] .colab-df-convert:hover {\n",
              "      background-color: #434B5C;\n",
              "      box-shadow: 0px 1px 3px 1px rgba(0, 0, 0, 0.15);\n",
              "      filter: drop-shadow(0px 1px 2px rgba(0, 0, 0, 0.3));\n",
              "      fill: #FFFFFF;\n",
              "    }\n",
              "  </style>\n",
              "\n",
              "    <script>\n",
              "      const buttonEl =\n",
              "        document.querySelector('#df-107e0c31-cd2f-4201-a4fb-f7a2dcf48904 button.colab-df-convert');\n",
              "      buttonEl.style.display =\n",
              "        google.colab.kernel.accessAllowed ? 'block' : 'none';\n",
              "\n",
              "      async function convertToInteractive(key) {\n",
              "        const element = document.querySelector('#df-107e0c31-cd2f-4201-a4fb-f7a2dcf48904');\n",
              "        const dataTable =\n",
              "          await google.colab.kernel.invokeFunction('convertToInteractive',\n",
              "                                                    [key], {});\n",
              "        if (!dataTable) return;\n",
              "\n",
              "        const docLinkHtml = 'Like what you see? Visit the ' +\n",
              "          '<a target=\"_blank\" href=https://colab.research.google.com/notebooks/data_table.ipynb>data table notebook</a>'\n",
              "          + ' to learn more about interactive tables.';\n",
              "        element.innerHTML = '';\n",
              "        dataTable['output_type'] = 'display_data';\n",
              "        await google.colab.output.renderOutput(dataTable, element);\n",
              "        const docLink = document.createElement('div');\n",
              "        docLink.innerHTML = docLinkHtml;\n",
              "        element.appendChild(docLink);\n",
              "      }\n",
              "    </script>\n",
              "  </div>\n",
              "\n",
              "\n",
              "<div id=\"df-d38bc657-dc5b-4a27-81ba-5a26365615d8\">\n",
              "  <button class=\"colab-df-quickchart\" onclick=\"quickchart('df-d38bc657-dc5b-4a27-81ba-5a26365615d8')\"\n",
              "            title=\"Suggest charts\"\n",
              "            style=\"display:none;\">\n",
              "\n",
              "<svg xmlns=\"http://www.w3.org/2000/svg\" height=\"24px\"viewBox=\"0 0 24 24\"\n",
              "     width=\"24px\">\n",
              "    <g>\n",
              "        <path d=\"M19 3H5c-1.1 0-2 .9-2 2v14c0 1.1.9 2 2 2h14c1.1 0 2-.9 2-2V5c0-1.1-.9-2-2-2zM9 17H7v-7h2v7zm4 0h-2V7h2v10zm4 0h-2v-4h2v4z\"/>\n",
              "    </g>\n",
              "</svg>\n",
              "  </button>\n",
              "\n",
              "<style>\n",
              "  .colab-df-quickchart {\n",
              "      --bg-color: #E8F0FE;\n",
              "      --fill-color: #1967D2;\n",
              "      --hover-bg-color: #E2EBFA;\n",
              "      --hover-fill-color: #174EA6;\n",
              "      --disabled-fill-color: #AAA;\n",
              "      --disabled-bg-color: #DDD;\n",
              "  }\n",
              "\n",
              "  [theme=dark] .colab-df-quickchart {\n",
              "      --bg-color: #3B4455;\n",
              "      --fill-color: #D2E3FC;\n",
              "      --hover-bg-color: #434B5C;\n",
              "      --hover-fill-color: #FFFFFF;\n",
              "      --disabled-bg-color: #3B4455;\n",
              "      --disabled-fill-color: #666;\n",
              "  }\n",
              "\n",
              "  .colab-df-quickchart {\n",
              "    background-color: var(--bg-color);\n",
              "    border: none;\n",
              "    border-radius: 50%;\n",
              "    cursor: pointer;\n",
              "    display: none;\n",
              "    fill: var(--fill-color);\n",
              "    height: 32px;\n",
              "    padding: 0;\n",
              "    width: 32px;\n",
              "  }\n",
              "\n",
              "  .colab-df-quickchart:hover {\n",
              "    background-color: var(--hover-bg-color);\n",
              "    box-shadow: 0 1px 2px rgba(60, 64, 67, 0.3), 0 1px 3px 1px rgba(60, 64, 67, 0.15);\n",
              "    fill: var(--button-hover-fill-color);\n",
              "  }\n",
              "\n",
              "  .colab-df-quickchart-complete:disabled,\n",
              "  .colab-df-quickchart-complete:disabled:hover {\n",
              "    background-color: var(--disabled-bg-color);\n",
              "    fill: var(--disabled-fill-color);\n",
              "    box-shadow: none;\n",
              "  }\n",
              "\n",
              "  .colab-df-spinner {\n",
              "    border: 2px solid var(--fill-color);\n",
              "    border-color: transparent;\n",
              "    border-bottom-color: var(--fill-color);\n",
              "    animation:\n",
              "      spin 1s steps(1) infinite;\n",
              "  }\n",
              "\n",
              "  @keyframes spin {\n",
              "    0% {\n",
              "      border-color: transparent;\n",
              "      border-bottom-color: var(--fill-color);\n",
              "      border-left-color: var(--fill-color);\n",
              "    }\n",
              "    20% {\n",
              "      border-color: transparent;\n",
              "      border-left-color: var(--fill-color);\n",
              "      border-top-color: var(--fill-color);\n",
              "    }\n",
              "    30% {\n",
              "      border-color: transparent;\n",
              "      border-left-color: var(--fill-color);\n",
              "      border-top-color: var(--fill-color);\n",
              "      border-right-color: var(--fill-color);\n",
              "    }\n",
              "    40% {\n",
              "      border-color: transparent;\n",
              "      border-right-color: var(--fill-color);\n",
              "      border-top-color: var(--fill-color);\n",
              "    }\n",
              "    60% {\n",
              "      border-color: transparent;\n",
              "      border-right-color: var(--fill-color);\n",
              "    }\n",
              "    80% {\n",
              "      border-color: transparent;\n",
              "      border-right-color: var(--fill-color);\n",
              "      border-bottom-color: var(--fill-color);\n",
              "    }\n",
              "    90% {\n",
              "      border-color: transparent;\n",
              "      border-bottom-color: var(--fill-color);\n",
              "    }\n",
              "  }\n",
              "</style>\n",
              "\n",
              "  <script>\n",
              "    async function quickchart(key) {\n",
              "      const quickchartButtonEl =\n",
              "        document.querySelector('#' + key + ' button');\n",
              "      quickchartButtonEl.disabled = true;  // To prevent multiple clicks.\n",
              "      quickchartButtonEl.classList.add('colab-df-spinner');\n",
              "      try {\n",
              "        const charts = await google.colab.kernel.invokeFunction(\n",
              "            'suggestCharts', [key], {});\n",
              "      } catch (error) {\n",
              "        console.error('Error during call to suggestCharts:', error);\n",
              "      }\n",
              "      quickchartButtonEl.classList.remove('colab-df-spinner');\n",
              "      quickchartButtonEl.classList.add('colab-df-quickchart-complete');\n",
              "    }\n",
              "    (() => {\n",
              "      let quickchartButtonEl =\n",
              "        document.querySelector('#df-d38bc657-dc5b-4a27-81ba-5a26365615d8 button');\n",
              "      quickchartButtonEl.style.display =\n",
              "        google.colab.kernel.accessAllowed ? 'block' : 'none';\n",
              "    })();\n",
              "  </script>\n",
              "</div>\n",
              "\n",
              "    </div>\n",
              "  </div>\n"
            ],
            "application/vnd.google.colaboratory.intrinsic+json": {
              "type": "dataframe",
              "summary": "{\n  \"name\": \"hist\",\n  \"rows\": 5,\n  \"fields\": [\n    {\n      \"column\": \"loss\",\n      \"properties\": {\n        \"dtype\": \"number\",\n        \"std\": 0.0008756345893814629,\n        \"min\": 3.8034918308258057,\n        \"max\": 3.8057734966278076,\n        \"num_unique_values\": 5,\n        \"samples\": [\n          3.804001569747925,\n          3.8045475482940674,\n          3.8039705753326416\n        ],\n        \"semantic_type\": \"\",\n        \"description\": \"\"\n      }\n    },\n    {\n      \"column\": \"val_loss\",\n      \"properties\": {\n        \"dtype\": \"number\",\n        \"std\": 0.012068950669468696,\n        \"min\": 4.17385721206665,\n        \"max\": 4.202669620513916,\n        \"num_unique_values\": 5,\n        \"samples\": [\n          4.199716091156006,\n          4.17385721206665,\n          4.1882100105285645\n        ],\n        \"semantic_type\": \"\",\n        \"description\": \"\"\n      }\n    },\n    {\n      \"column\": \"epoch\",\n      \"properties\": {\n        \"dtype\": \"number\",\n        \"std\": 1,\n        \"min\": 95,\n        \"max\": 99,\n        \"num_unique_values\": 5,\n        \"samples\": [\n          96,\n          99,\n          97\n        ],\n        \"semantic_type\": \"\",\n        \"description\": \"\"\n      }\n    }\n  ]\n}"
            }
          },
          "metadata": {},
          "execution_count": 26
        }
      ],
      "source": [
        "hist = pd.DataFrame(history.history)\n",
        "hist['epoch'] = history.epoch\n",
        "hist.tail()"
      ]
    },
    {
      "cell_type": "code",
      "execution_count": 27,
      "metadata": {
        "id": "9E54UoZunqhc"
      },
      "outputs": [],
      "source": [
        "def plot_loss(history):\n",
        "  plt.plot(history.history['loss'], label='loss')\n",
        "  plt.plot(history.history['val_loss'], label='val_loss')\n",
        "  plt.ylim([0, 10])\n",
        "  plt.xlabel('Epoch')\n",
        "  plt.ylabel('Error [MPG]')\n",
        "  plt.legend()\n",
        "  plt.grid(True)"
      ]
    },
    {
      "cell_type": "code",
      "execution_count": 28,
      "metadata": {
        "id": "yYsQYrIZyqjz",
        "outputId": "967d0742-57cd-49ec-bf24-4a5e490eace7",
        "colab": {
          "base_uri": "https://localhost:8080/",
          "height": 455
        }
      },
      "outputs": [
        {
          "output_type": "display_data",
          "data": {
            "text/plain": [
              "<Figure size 640x480 with 1 Axes>"
            ],
            "image/png": "[encoded data removed]"
          },
          "metadata": {}
        }
      ],
      "source": [
        "plot_loss(history)"
      ]
    },
    {
      "cell_type": "markdown",
      "metadata": {
        "id": "CMNrt8X2ebXd"
      },
      "source": [
        "Collect the results on the test set for later:"
      ]
    },
    {
      "cell_type": "code",
      "execution_count": 29,
      "metadata": {
        "id": "kDZ8EvNYrDtx"
      },
      "outputs": [],
      "source": [
        "test_results = {}\n",
        "\n",
        "test_results['horsepower_model'] = horsepower_model.evaluate(\n",
        "    test_features['Horsepower'],\n",
        "    test_labels, verbose=0)"
      ]
    },
    {
      "cell_type": "markdown",
      "metadata": {
        "id": "F0qutYAKwoda"
      },
      "source": [
        "Since this is a single variable regression, it's easy to view the model's predictions as a function of the input:"
      ]
    },
    {
      "cell_type": "code",
      "execution_count": 30,
      "metadata": {
        "id": "xDS2JEtOn9Jn",
        "outputId": "38c45503-1590-4845-9f22-9d406542d157",
        "colab": {
          "base_uri": "https://localhost:8080/"
        }
      },
      "outputs": [
        {
          "output_type": "stream",
          "name": "stdout",
          "text": [
            "8/8 [==============================] - 0s 2ms/step\n"
          ]
        }
      ],
      "source": [
        "x = tf.linspace(0.0, 250, 251)\n",
        "y = horsepower_model.predict(x)"
      ]
    },
    {
      "cell_type": "code",
      "execution_count": 31,
      "metadata": {
        "id": "rttFCTU8czsI"
      },
      "outputs": [],
      "source": [
        "def plot_horsepower(x, y):\n",
        "  plt.scatter(train_features['Horsepower'], train_labels, label='Data')\n",
        "  plt.plot(x, y, color='k', label='Predictions')\n",
        "  plt.xlabel('Horsepower')\n",
        "  plt.ylabel('MPG')\n",
        "  plt.legend()"
      ]
    },
    {
      "cell_type": "code",
      "execution_count": 32,
      "metadata": {
        "id": "7l9ZiAOEUNBL",
        "outputId": "3e50c394-bbbb-4f09-ac7a-099100d970cb",
        "colab": {
          "base_uri": "https://localhost:8080/",
          "height": 449
        }
      },
      "outputs": [
        {
          "output_type": "display_data",
          "data": {
            "text/plain": [
              "<Figure size 640x480 with 1 Axes>"
            ],
            "image/png": "[encoded data removed]"
          },
          "metadata": {}
        }
      ],
      "source": [
        "plot_horsepower(x, y)"
      ]
    },
    {
      "cell_type": "markdown",
      "metadata": {
        "id": "Yk2RmlqPoM9u"
      },
      "source": [
        "### Linear regression with multiple inputs"
      ]
    },
    {
      "cell_type": "markdown",
      "metadata": {
        "id": "PribnwDHUksC"
      },
      "source": [
        "You can use an almost identical setup to make predictions based on multiple inputs. This model still does the same $y = mx+b$ except that $m$ is a matrix and $x$ is a vector.\n",
        "\n",
        "Create a two-step Keras Sequential model again with the first layer being `normalizer` (`tf.keras.layers.Normalization(axis=-1)`) you defined earlier and adapted to the whole dataset:"
      ]
    },
    {
      "cell_type": "code",
      "execution_count": 33,
      "metadata": {
        "id": "ssnVcKg7oMe6"
      },
      "outputs": [],
      "source": [
        "linear_model = tf.keras.Sequential([\n",
        "    normalizer,\n",
        "    layers.Dense(units=1)\n",
        "])"
      ]
    },
    {
      "cell_type": "markdown",
      "metadata": {
        "id": "IHlx6WeIWyAr"
      },
      "source": [
        "When you call `Model.predict` on a batch of inputs, it produces `units=1` outputs for each example:"
      ]
    },
    {
      "cell_type": "code",
      "execution_count": 34,
      "metadata": {
        "id": "DynfJV18WiuT",
        "outputId": "2672c818-df61-4e23-9002-2944df736c5a",
        "colab": {
          "base_uri": "https://localhost:8080/"
        }
      },
      "outputs": [
        {
          "output_type": "stream",
          "name": "stdout",
          "text": [
            "1/1 [==============================] - 0s 50ms/step\n"
          ]
        },
        {
          "output_type": "execute_result",
          "data": {
            "text/plain": [
              "array([[ 1.43 ],\n",
              "       [ 0.32 ],\n",
              "       [-1.84 ],\n",
              "       [ 0.125],\n",
              "       [ 1.117],\n",
              "       [ 0.003],\n",
              "       [ 1.495],\n",
              "       [ 1.05 ],\n",
              "       [ 0.568],\n",
              "       [ 2.213]], dtype=float32)"
            ]
          },
          "metadata": {},
          "execution_count": 34
        }
      ],
      "source": [
        "linear_model.predict(train_features[:10])"
      ]
    },
    {
      "cell_type": "markdown",
      "metadata": {
        "id": "hvHKH3rPXHmq"
      },
      "source": [
        "When you call the model, its weight matrices will be built—check that the `kernel` weights (the $m$ in $y=mx+b$) have a shape of `(9, 1)`:"
      ]
    },
    {
      "cell_type": "code",
      "execution_count": 35,
      "metadata": {
        "id": "DwJ4Fq0RXBQf",
        "outputId": "f369c1a6-6ef7-4f9e-e4bb-6a7e051f6e38",
        "colab": {
          "base_uri": "https://localhost:8080/"
        }
      },
      "outputs": [
        {
          "output_type": "execute_result",
          "data": {
            "text/plain": [
              "<tf.Variable 'dense_1/kernel:0' shape=(9, 1) dtype=float32, numpy=\n",
              "array([[-0.412],\n",
              "       [ 0.251],\n",
              "       [-0.765],\n",
              "       [-0.52 ],\n",
              "       [ 0.512],\n",
              "       [-0.743],\n",
              "       [ 0.539],\n",
              "       [ 0.641],\n",
              "       [ 0.735]], dtype=float32)>"
            ]
          },
          "metadata": {},
          "execution_count": 35
        }
      ],
      "source": [
        "linear_model.layers[1].kernel"
      ]
    },
    {
      "cell_type": "markdown",
      "metadata": {
        "id": "eINAc6rZXzOt"
      },
      "source": [
        "Configure the model with Keras `Model.compile` and train with `Model.fit` for 100 epochs:"
      ]
    },
    {
      "cell_type": "code",
      "execution_count": 36,
      "metadata": {
        "id": "A0Sv_Ybr0szp"
      },
      "outputs": [],
      "source": [
        "linear_model.compile(\n",
        "    optimizer=tf.keras.optimizers.Adam(learning_rate=0.1),\n",
        "    loss='mean_absolute_error')"
      ]
    },
    {
      "cell_type": "code",
      "execution_count": 37,
      "metadata": {
        "id": "EZoOYORvoTSe",
        "outputId": "699f0ac0-58e9-4624-cbc4-510f8e14c2a1",
        "colab": {
          "base_uri": "https://localhost:8080/"
        }
      },
      "outputs": [
        {
          "output_type": "stream",
          "name": "stdout",
          "text": [
            "CPU times: user 5.29 s, sys: 232 ms, total: 5.52 s\n",
            "Wall time: 5.77 s\n"
          ]
        }
      ],
      "source": [
        "%%time\n",
        "history = linear_model.fit(\n",
        "    train_features,\n",
        "    train_labels,\n",
        "    epochs=100,\n",
        "    # Suppress logging.\n",
        "    verbose=0,\n",
        "    # Calculate validation results on 20% of the training data.\n",
        "    validation_split = 0.2)"
      ]
    },
    {
      "cell_type": "markdown",
      "metadata": {
        "id": "EdxiCbiNYK2F"
      },
      "source": [
        "Using all the inputs in this regression model achieves a much lower training and validation error than the `horsepower_model`, which had one input:"
      ]
    },
    {
      "cell_type": "code",
      "execution_count": 38,
      "metadata": {
        "id": "4sWO3W0koYgu",
        "outputId": "89a09387-4d9b-4921-f994-c4a16edd0673",
        "colab": {
          "base_uri": "https://localhost:8080/",
          "height": 455
        }
      },
      "outputs": [
        {
          "output_type": "display_data",
          "data": {
            "text/plain": [
              "<Figure size 640x480 with 1 Axes>"
            ],
            "image/png": "[encoded data removed]"
          },
          "metadata": {}
        }
      ],
      "source": [
        "plot_loss(history)"
      ]
    },
    {
      "cell_type": "markdown",
      "metadata": {
        "id": "NyN49hIWe_NH"
      },
      "source": [
        "Collect the results on the test set for later:"
      ]
    },
    {
      "cell_type": "code",
      "execution_count": 39,
      "metadata": {
        "id": "jNC3D1DGsGgK"
      },
      "outputs": [],
      "source": [
        "test_results['linear_model'] = linear_model.evaluate(\n",
        "    test_features, test_labels, verbose=0)"
      ]
    },
    {
      "cell_type": "markdown",
      "metadata": {
        "id": "SmjdzxKzEu1-"
      },
      "source": [
        "## Regression with a deep neural network (DNN)"
      ]
    },
    {
      "cell_type": "markdown",
      "metadata": {
        "id": "DT_aHPsrzO1t"
      },
      "source": [
        "In the previous section, you implemented two linear models for single and multiple inputs.\n",
        "\n",
        "Here, you will implement single-input and multiple-input DNN models.\n",
        "\n",
        "The code is basically the same except the model is expanded to include some \"hidden\" non-linear layers. The name \"hidden\" here just means not directly connected to the inputs or outputs."
      ]
    },
    {
      "cell_type": "markdown",
      "metadata": {
        "id": "6SWtkIjhrZwa"
      },
      "source": [
        "These models will contain a few more layers than the linear model:\n",
        "\n",
        "* The normalization layer, as before (with `horsepower_normalizer` for a single-input model and `normalizer` for a multiple-input model).\n",
        "* Two hidden, non-linear, `Dense` layers with the ReLU (`relu`) activation function nonlinearity.\n",
        "* A linear `Dense` single-output layer.\n",
        "\n",
        "Both models will use the same training procedure, so the `compile` method is included in the `build_and_compile_model` function below."
      ]
    },
    {
      "cell_type": "code",
      "execution_count": 40,
      "metadata": {
        "id": "c26juK7ZG8j-"
      },
      "outputs": [],
      "source": [
        "def build_and_compile_model(norm):\n",
        "  model = keras.Sequential([\n",
        "      norm,\n",
        "      layers.Dense(64, activation='relu'),\n",
        "      layers.Dense(64, activation='relu'),\n",
        "      layers.Dense(1)\n",
        "  ])\n",
        "\n",
        "  model.compile(loss='mean_absolute_error',\n",
        "                optimizer=tf.keras.optimizers.Adam(0.001))\n",
        "  return model"
      ]
    },
    {
      "cell_type": "markdown",
      "metadata": {
        "id": "6c51caebbc0d"
      },
      "source": [
        "### Regression using a DNN and a single input"
      ]
    },
    {
      "cell_type": "markdown",
      "metadata": {
        "id": "xvu9gtxTZR5V"
      },
      "source": [
        "Create a DNN model with only `'Horsepower'` as input and `horsepower_normalizer` (defined earlier) as the normalization layer:"
      ]
    },
    {
      "cell_type": "code",
      "execution_count": 41,
      "metadata": {
        "id": "cGbPb-PHGbhs"
      },
      "outputs": [],
      "source": [
        "dnn_horsepower_model = build_and_compile_model(horsepower_normalizer)"
      ]
    },
    {
      "cell_type": "markdown",
      "metadata": {
        "id": "Sj49Og4YGULr"
      },
      "source": [
        "This model has quite a few more trainable parameters than the linear models:"
      ]
    },
    {
      "cell_type": "code",
      "execution_count": 42,
      "metadata": {
        "id": "ReAD0n6MsFK-",
        "outputId": "833aa490-7898-428a-8e61-16747bf9d9ad",
        "colab": {
          "base_uri": "https://localhost:8080/"
        }
      },
      "outputs": [
        {
          "output_type": "stream",
          "name": "stdout",
          "text": [
            "Model: \"sequential_2\"\n",
            "_________________________________________________________________\n",
            " Layer (type)                Output Shape              Param #   \n",
            "=================================================================\n",
            " normalization_1 (Normaliza  (None, 1)                 3         \n",
            " tion)                                                           \n",
            "                                                                 \n",
            " dense_2 (Dense)             (None, 64)                128       \n",
            "                                                                 \n",
            " dense_3 (Dense)             (None, 64)                4160      \n",
            "                                                                 \n",
            " dense_4 (Dense)             (None, 1)                 65        \n",
            "                                                                 \n",
            "=================================================================\n",
            "Total params: 4356 (17.02 KB)\n",
            "Trainable params: 4353 (17.00 KB)\n",
            "Non-trainable params: 3 (16.00 Byte)\n",
            "_________________________________________________________________\n"
          ]
        }
      ],
      "source": [
        "dnn_horsepower_model.summary()"
      ]
    },
    {
      "cell_type": "markdown",
      "metadata": {
        "id": "0-qWCsh6DlyH"
      },
      "source": [
        "Train the model with Keras `Model.fit`:"
      ]
    },
    {
      "cell_type": "code",
      "execution_count": 43,
      "metadata": {
        "id": "sD7qHCmNIOY0",
        "outputId": "2ddb04aa-3a13-4213-cde4-b1736d29ebad",
        "colab": {
          "base_uri": "https://localhost:8080/"
        }
      },
      "outputs": [
        {
          "output_type": "stream",
          "name": "stdout",
          "text": [
            "CPU times: user 6.22 s, sys: 235 ms, total: 6.45 s\n",
            "Wall time: 6.9 s\n"
          ]
        }
      ],
      "source": [
        "%%time\n",
        "history = dnn_horsepower_model.fit(\n",
        "    train_features['Horsepower'],\n",
        "    train_labels,\n",
        "    validation_split=0.2,\n",
        "    verbose=0, epochs=100)"
      ]
    },
    {
      "cell_type": "markdown",
      "metadata": {
        "id": "dArGGxHxcKjN"
      },
      "source": [
        "This model does slightly better than the linear single-input `horsepower_model`:"
      ]
    },
    {
      "cell_type": "code",
      "execution_count": 44,
      "metadata": {
        "id": "NcF6UWjdCU8T",
        "outputId": "16e634f7-521b-4a55-9466-7211eaedb199",
        "colab": {
          "base_uri": "https://localhost:8080/",
          "height": 455
        }
      },
      "outputs": [
        {
          "output_type": "display_data",
          "data": {
            "text/plain": [
              "<Figure size 640x480 with 1 Axes>"
            ],
            "image/png": "[encoded data removed]"
          },
          "metadata": {}
        }
      ],
      "source": [
        "plot_loss(history)"
      ]
    },
    {
      "cell_type": "markdown",
      "metadata": {
        "id": "TG1snlpR2QCK"
      },
      "source": [
        "If you plot the predictions as a function of `'Horsepower'`, you should notice how this model takes advantage of the nonlinearity provided by the hidden layers:"
      ]
    },
    {
      "cell_type": "code",
      "execution_count": 45,
      "metadata": {
        "id": "hPF53Rem14NS",
        "outputId": "b470732f-e571-408c-9b13-835389617640",
        "colab": {
          "base_uri": "https://localhost:8080/"
        }
      },
      "outputs": [
        {
          "output_type": "stream",
          "name": "stdout",
          "text": [
            "8/8 [==============================] - 0s 2ms/step\n"
          ]
        }
      ],
      "source": [
        "x = tf.linspace(0.0, 250, 251)\n",
        "y = dnn_horsepower_model.predict(x)"
      ]
    },
    {
      "cell_type": "code",
      "execution_count": 46,
      "metadata": {
        "id": "rsf9rD8I17Wq",
        "outputId": "89cfb72f-ff53-4156-8722-d55d70899cfa",
        "colab": {
          "base_uri": "https://localhost:8080/",
          "height": 449
        }
      },
      "outputs": [
        {
          "output_type": "display_data",
          "data": {
            "text/plain": [
              "<Figure size 640x480 with 1 Axes>"
            ],
            "image/png": "[encoded data removed]"
          },
          "metadata": {}
        }
      ],
      "source": [
        "plot_horsepower(x, y)"
      ]
    },
    {
      "cell_type": "markdown",
      "metadata": {
        "id": "WxCJKIUpe4io"
      },
      "source": [
        "Collect the results on the test set for later:"
      ]
    },
    {
      "cell_type": "code",
      "execution_count": 47,
      "metadata": {
        "id": "bJjM0dU52XtN"
      },
      "outputs": [],
      "source": [
        "test_results['dnn_horsepower_model'] = dnn_horsepower_model.evaluate(\n",
        "    test_features['Horsepower'], test_labels,\n",
        "    verbose=0)"
      ]
    },
    {
      "cell_type": "markdown",
      "metadata": {
        "id": "S_2Btebp2e64"
      },
      "source": [
        "### Regression using a DNN and multiple inputs"
      ]
    },
    {
      "cell_type": "markdown",
      "metadata": {
        "id": "aKFtezDldLSf"
      },
      "source": [
        "Repeat the previous process using all the inputs. The model's performance slightly improves on the validation dataset."
      ]
    },
    {
      "cell_type": "code",
      "execution_count": 48,
      "metadata": {
        "id": "c0mhscXh2k36",
        "outputId": "46cc5082-f51a-4189-91bf-635e5545b64e",
        "colab": {
          "base_uri": "https://localhost:8080/"
        }
      },
      "outputs": [
        {
          "output_type": "stream",
          "name": "stdout",
          "text": [
            "Model: \"sequential_3\"\n",
            "_________________________________________________________________\n",
            " Layer (type)                Output Shape              Param #   \n",
            "=================================================================\n",
            " normalization (Normalizati  (None, 9)                 19        \n",
            " on)                                                             \n",
            "                                                                 \n",
            " dense_5 (Dense)             (None, 64)                640       \n",
            "                                                                 \n",
            " dense_6 (Dense)             (None, 64)                4160      \n",
            "                                                                 \n",
            " dense_7 (Dense)             (None, 1)                 65        \n",
            "                                                                 \n",
            "=================================================================\n",
            "Total params: 4884 (19.08 KB)\n",
            "Trainable params: 4865 (19.00 KB)\n",
            "Non-trainable params: 19 (80.00 Byte)\n",
            "_________________________________________________________________\n"
          ]
        }
      ],
      "source": [
        "dnn_model = build_and_compile_model(normalizer)\n",
        "dnn_model.summary()"
      ]
    },
    {
      "cell_type": "code",
      "execution_count": 49,
      "metadata": {
        "id": "CXDENACl2tuW",
        "outputId": "f736b2ac-0826-4b07-8dfe-17d12c590a3e",
        "colab": {
          "base_uri": "https://localhost:8080/"
        }
      },
      "outputs": [
        {
          "output_type": "stream",
          "name": "stdout",
          "text": [
            "CPU times: user 6.75 s, sys: 237 ms, total: 6.98 s\n",
            "Wall time: 7.16 s\n"
          ]
        }
      ],
      "source": [
        "%%time\n",
        "history = dnn_model.fit(\n",
        "    train_features,\n",
        "    train_labels,\n",
        "    validation_split=0.2,\n",
        "    verbose=0, epochs=100)"
      ]
    },
    {
      "cell_type": "code",
      "execution_count": 50,
      "metadata": {
        "id": "-9Dbj0fX23RQ",
        "outputId": "8cac8e10-5159-4924-ae86-e12dc5d8ddaa",
        "colab": {
          "base_uri": "https://localhost:8080/",
          "height": 455
        }
      },
      "outputs": [
        {
          "output_type": "display_data",
          "data": {
            "text/plain": [
              "<Figure size 640x480 with 1 Axes>"
            ],
            "image/png": "[encoded data removed]"
          },
          "metadata": {}
        }
      ],
      "source": [
        "plot_loss(history)"
      ]
    },
    {
      "cell_type": "markdown",
      "metadata": {
        "id": "hWoVYS34fJPZ"
      },
      "source": [
        "Collect the results on the test set:"
      ]
    },
    {
      "cell_type": "code",
      "execution_count": null,
      "metadata": {
        "id": "-bZIa96W3c7K"
      },
      "outputs": [],
      "source": [
        "test_results['dnn_model'] = dnn_model.evaluate(test_features, test_labels, verbose=0)"
      ]
    },
    {
      "cell_type": "markdown",
      "metadata": {
        "id": "uiCucdPLfMkZ"
      },
      "source": [
        "## Performance"
      ]
    },
    {
      "cell_type": "markdown",
      "metadata": {
        "id": "rDf1xebEfWBw"
      },
      "source": [
        "Since all models have been trained, you can review their test set performance:"
      ]
    },
    {
      "cell_type": "code",
      "execution_count": null,
      "metadata": {
        "id": "e5_ooufM5iH2"
      },
      "outputs": [],
      "source": [
        "pd.DataFrame(test_results, index=['Mean absolute error [MPG]']).T"
      ]
    },
    {
      "cell_type": "markdown",
      "metadata": {
        "id": "DABIVzsCf-QI"
      },
      "source": [
        "These results match the validation error observed during training."
      ]
    },
    {
      "cell_type": "markdown",
      "metadata": {
        "id": "ft603OzXuEZC"
      },
      "source": [
        "### Make predictions\n",
        "\n",
        "You can now make predictions with the `dnn_model` on the test set using Keras `Model.predict` and review the loss:"
      ]
    },
    {
      "cell_type": "code",
      "execution_count": null,
      "metadata": {
        "id": "Xe7RXH3N3CWU"
      },
      "outputs": [],
      "source": [
        "test_predictions = dnn_model.predict(test_features).flatten()\n",
        "\n",
        "a = plt.axes(aspect='equal')\n",
        "plt.scatter(test_labels, test_predictions)\n",
        "plt.xlabel('True Values [MPG]')\n",
        "plt.ylabel('Predictions [MPG]')\n",
        "lims = [0, 50]\n",
        "plt.xlim(lims)\n",
        "plt.ylim(lims)\n",
        "_ = plt.plot(lims, lims)\n"
      ]
    },
    {
      "cell_type": "markdown",
      "metadata": {
        "id": "19wyogbOSU5t"
      },
      "source": [
        "It appears that the model predicts reasonably well.\n",
        "\n",
        "Now, check the error distribution:"
      ]
    },
    {
      "cell_type": "code",
      "execution_count": null,
      "metadata": {
        "id": "f-OHX4DiXd8x"
      },
      "outputs": [],
      "source": [
        "error = test_predictions - test_labels\n",
        "plt.hist(error, bins=25)\n",
        "plt.xlabel('Prediction Error [MPG]')\n",
        "_ = plt.ylabel('Count')"
      ]
    },
    {
      "cell_type": "markdown",
      "metadata": {
        "id": "KSyaHUfDT-mZ"
      },
      "source": [
        "If you're happy with the model, save it for later use with `Model.save`:"
      ]
    },
    {
      "cell_type": "code",
      "execution_count": null,
      "metadata": {
        "id": "4-WwLlmfT-mb"
      },
      "outputs": [],
      "source": [
        "dnn_model.save('dnn_model.keras')"
      ]
    },
    {
      "cell_type": "markdown",
      "metadata": {
        "id": "Benlnl8UT-me"
      },
      "source": [
        "If you reload the model, it gives identical output:"
      ]
    },
    {
      "cell_type": "code",
      "execution_count": null,
      "metadata": {
        "id": "dyyyj2zVT-mf"
      },
      "outputs": [],
      "source": [
        "reloaded = tf.keras.models.load_model('dnn_model.keras')\n",
        "\n",
        "test_results['reloaded'] = reloaded.evaluate(\n",
        "    test_features, test_labels, verbose=0)"
      ]
    },
    {
      "cell_type": "code",
      "execution_count": null,
      "metadata": {
        "id": "f_GchJ2tg-2o"
      },
      "outputs": [],
      "source": [
        "pd.DataFrame(test_results, index=['Mean absolute error [MPG]']).T"
      ]
    },
    {
      "cell_type": "markdown",
      "metadata": {
        "id": "vgGQuV-yqYZH"
      },
      "source": [
        "## Conclusion\n",
        "\n",
        "This notebook introduced a few techniques to handle a regression problem. Here are a few more tips that may help:\n",
        "\n",
        "- Mean squared error (MSE) (`tf.keras.losses.MeanSquaredError`) and mean absolute error (MAE) (`tf.keras.losses.MeanAbsoluteError`) are common loss functions used for regression problems. MAE is less sensitive to outliers. Different loss functions are used for classification problems.\n",
        "- Similarly, evaluation metrics used for regression differ from classification.\n",
        "- When numeric input data features have values with different ranges, each feature should be scaled independently to the same range.\n",
        "- Overfitting is a common problem for DNN models, though it wasn't a problem for this tutorial. Visit the [Overfit and underfit](overfit_and_underfit.ipynb) tutorial for more help with this."
      ]
    }
  ],
  "metadata": {
    "colab": {
      "name": "regression.ipynb",
      "provenance": [],
      "gpuType": "T4"
    },
    "kernelspec": {
      "display_name": "Python 3",
      "name": "python3"
    },
    "accelerator": "GPU"
  },
  "nbformat": 4,
  "nbformat_minor": 0
}